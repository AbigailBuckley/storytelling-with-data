{
 "cells": [
  {
   "cell_type": "markdown",
   "metadata": {},
   "source": [
    "# Assignment 1\n",
    "\n",
    "Nathan Greenstein  \n",
    "March 26, 2019"
   ]
  },
  {
   "cell_type": "code",
   "execution_count": 1,
   "metadata": {},
   "outputs": [],
   "source": [
    "import re # So we can use regular expressions"
   ]
  },
  {
   "cell_type": "code",
   "execution_count": 2,
   "metadata": {},
   "outputs": [],
   "source": [
    "# Multiply amounts from a list of ingredients by a specified factor (see documentation below)\n",
    "\n",
    "def multiply_recipe(ingredients, factor = 1.0):\n",
    "    \n",
    "    multipliedIngredients = []\n",
    "    for ingredient in ingredients:\n",
    "        # Search for a decimal number at the beginning of the ingredient string\n",
    "        amtString = re.search(\"^(\\d*\\.?\\d*)\", ingredient).group()\n",
    "        # If one is found, parse and multiply it, then update the ingredient string\n",
    "        if amtString:\n",
    "            amtNum = float(amtString) * factor\n",
    "            ingredient = str(amtNum) + ingredient[len(amtString):]\n",
    "        else:\n",
    "            pass # No amount detected\n",
    "        # Add this ingredient to the multipliedIngredients list, whether it was altered or not\n",
    "        multipliedIngredients.append(ingredient)\n",
    "    \n",
    "    # Compare the old and new ingredients lists\n",
    "    i = 0\n",
    "    while i < len(ingredients):\n",
    "        print(ingredients[i], \" --> \", multipliedIngredients[i])\n",
    "        i += 1\n",
    "    \n",
    "    # Return the multiplied ingredients list\n",
    "    return multipliedIngredients"
   ]
  },
  {
   "cell_type": "code",
   "execution_count": 3,
   "metadata": {},
   "outputs": [
    {
     "name": "stdout",
     "output_type": "stream",
     "text": [
      "1.5oz white rum  -->  7.5oz white rum\n",
      "1oz simple syrup  -->  5.0oz simple syrup\n",
      "0.5 limes  -->  2.5 limes\n",
      "8 mint leaves  -->  40.0 mint leaves\n",
      "3oz soda  -->  15.0oz soda\n",
      "ice  -->  ice\n",
      "['7.5oz white rum', '5.0oz simple syrup', '2.5 limes', '40.0 mint leaves', '15.0oz soda', 'ice']\n"
     ]
    }
   ],
   "source": [
    "# Calculate the ingredients you need to make mojitos for you and your guests\n",
    "\n",
    "mojito = [\"1.5oz white rum\",\n",
    "          \"1oz simple syrup\",\n",
    "          \"0.5 limes\",\n",
    "          \"8 mint leaves\",\n",
    "          \"3oz soda\",\n",
    "          \"ice\"]\n",
    "guests = 4\n",
    "totalAmounts = multiply_recipe(mojito, guests + 1)\n",
    "print(totalAmounts)"
   ]
  },
  {
   "cell_type": "markdown",
   "metadata": {},
   "source": [
    "## multiply_recipe(ingredients, factor = 1.0)\n",
    "\n",
    "This function multiplies a recipe by a specified factor.\n",
    "\n",
    "**Arguments:**  \n",
    "- `ingredients`: a list of strings representing ingredients, with quantities at the beginning of the string\n",
    "- `factor`: the amount by which to multiply the recipe (expressed as a float)\n",
    "\n",
    "Each ingredient is scanned for a number (a quantity) at the beginning of the string, which is multiplied by the factor if found. A comparison between original and multiplied ingredients lists is printed, and the updated recipe (expressed as a list of strings, like the `ingredeints` input) is returned."
   ]
  }
 ],
 "metadata": {
  "kernelspec": {
   "display_name": "Psych 81.09",
   "language": "python",
   "name": "psych81.09"
  },
  "language_info": {
   "codemirror_mode": {
    "name": "ipython",
    "version": 3
   },
   "file_extension": ".py",
   "mimetype": "text/x-python",
   "name": "python",
   "nbconvert_exporter": "python",
   "pygments_lexer": "ipython3",
   "version": "3.6.8"
  }
 },
 "nbformat": 4,
 "nbformat_minor": 2
}
