{
 "cells": [
  {
   "cell_type": "code",
   "execution_count": 104,
   "metadata": {},
   "outputs": [],
   "source": [
    "import pandas as pd\n",
    "import pickle\n",
    "import os\n",
    "from datetime import date\n",
    "\n",
    "%matplotlib inline"
   ]
  },
  {
   "cell_type": "code",
   "execution_count": 105,
   "metadata": {},
   "outputs": [],
   "source": [
    "def track_sleep(weekly_sleep, existing=None, print_stats=False, save_dir=None):\n",
    "    \n",
    "    # explicitly order days of week\n",
    "    days_ordered = ['Monday','Tuesday','Wednesday','Thursday','Friday','Saturday','Sunday']\n",
    "    \n",
    "    if existing:\n",
    "        # some checks to ensure existing sleep log is formatted correctly\n",
    "        if not (isinstance(existing, pd.DataFrame) and all(existing.columns == days_ordered)\n",
    "                and all([i.startswith('week') and i[-1].isdigit() for i in exising.index])):\n",
    "            raise TypeError(\"You may only add to sleep logs output by this program\")\n",
    "        \n",
    "        # continue week numbering from prior week...\n",
    "        week_num = int(existing.index.tolist()[-1].split()[-1]) + 1\n",
    "    \n",
    "    else:\n",
    "        # ... or start from scratch\n",
    "        week_num = 1\n",
    "    \n",
    "    # convert input options to dataframe, with some checks\n",
    "    if isinstance(weekly_sleep, list):\n",
    "        if len(weekly_sleep) != 7:\n",
    "            raise ValueError(\"Your list must have one entry for each day of the week\")\n",
    "        weekly_sleep = pd.DataFrame(weekly_sleep, columns=days_ordered, index=[week_num])\n",
    "        \n",
    "    elif isinstance(weekly_sleep, dict):\n",
    "        weekly_sleep = pd.DataFrame(weekly_sleep, columns=days_ordered, index=[week_num])\n",
    "        \n",
    "    else:\n",
    "        raise TypeError(\"You must pass either a dictionary or a Pandas DataFrame\")\n",
    "        \n",
    "    if existing:\n",
    "        new_log = existing.append(weekly_sleep)\n",
    "    else:\n",
    "        new_log = weekly_sleep\n",
    "        \n",
    "    if print_stats:\n",
    "        message = 'You slept an average of {} hours this week'.format(new_log.tail(1).mean(axis=1))\n",
    "        \n",
    "        if existing:\n",
    "            message += ', compared to {} hours last week'.format(new_log.iloc[-prev_wk, :].mean(axis=1))\n",
    "            prev_wk = 3\n",
    "            while prev_wk <= len(new_log):\n",
    "                if prev_wk == len(new_log):\n",
    "                    message += ', and '\n",
    "                else:\n",
    "                    message += ', '\n",
    "                message += '{0} hours {1} weeks ago'.format(new_log.iloc[-prev_wk, :].mean(axis=1), prev_wk-1)\n",
    "                \n",
    "    if save_dir:\n",
    "        with open(os.path.join(save_dir,'sleep_log_'+date.today().strftime(\"%m.%d.%y\")+'.p'), 'wb') as f:\n",
    "            pickle.dump(new_log, f)"
   ]
  },
  {
   "cell_type": "code",
   "execution_count": 95,
   "metadata": {},
   "outputs": [],
   "source": []
  },
  {
   "cell_type": "code",
   "execution_count": null,
   "metadata": {},
   "outputs": [],
   "source": []
  }
 ],
 "metadata": {
  "kernelspec": {
   "display_name": "Psych 81.09",
   "language": "python",
   "name": "psych81.09"
  },
  "language_info": {
   "codemirror_mode": {
    "name": "ipython",
    "version": 3
   },
   "file_extension": ".py",
   "mimetype": "text/x-python",
   "name": "python",
   "nbconvert_exporter": "python",
   "pygments_lexer": "ipython3",
   "version": "3.6.8"
  }
 },
 "nbformat": 4,
 "nbformat_minor": 2
}
