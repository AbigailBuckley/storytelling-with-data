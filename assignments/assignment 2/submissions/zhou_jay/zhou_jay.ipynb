{
 "cells": [
  {
   "cell_type": "markdown",
   "metadata": {},
   "source": [
    "# Assignment 2\n",
    "This notebook imports SPI (Soccer Power Index) data from FiveThirtyEight, a data analytics website that focuses on politics, economics, and sports blogging. \n",
    "\n",
    "## Importing\n",
    "I begin by importing several visualization libraries, along with numpy and pandas "
   ]
  },
  {
   "cell_type": "code",
   "execution_count": 8,
   "metadata": {},
   "outputs": [],
   "source": [
    "#import visualization tools\n",
    "import seaborn as sns #seaborn is a library that uses matplotlib to make styled plots\n",
    "import plotly_express as px #plotly express is a library for drawing interactive figures\n",
    "import hypertools as hyp #hypertools is a library for visualizing \"high-dimensional\" data\n",
    "\n",
    "#import data wrangling tools\n",
    "import pandas as pd\n",
    "import numpy as np\n",
    "\n",
    "%matplotlib inline"
   ]
  },
  {
   "cell_type": "code",
   "execution_count": 9,
   "metadata": {
    "scrolled": false
   },
   "outputs": [
    {
     "name": "stdout",
     "output_type": "stream",
     "text": [
      "<class 'pandas.core.frame.DataFrame'>\n"
     ]
    },
    {
     "data": {
      "text/html": [
       "<div>\n",
       "<style scoped>\n",
       "    .dataframe tbody tr th:only-of-type {\n",
       "        vertical-align: middle;\n",
       "    }\n",
       "\n",
       "    .dataframe tbody tr th {\n",
       "        vertical-align: top;\n",
       "    }\n",
       "\n",
       "    .dataframe thead th {\n",
       "        text-align: right;\n",
       "    }\n",
       "</style>\n",
       "<table border=\"1\" class=\"dataframe\">\n",
       "  <thead>\n",
       "    <tr style=\"text-align: right;\">\n",
       "      <th></th>\n",
       "      <th>prev_rank</th>\n",
       "      <th>rank_change</th>\n",
       "      <th>name</th>\n",
       "      <th>league</th>\n",
       "      <th>off</th>\n",
       "      <th>def</th>\n",
       "      <th>spi</th>\n",
       "    </tr>\n",
       "    <tr>\n",
       "      <th>rank</th>\n",
       "      <th></th>\n",
       "      <th></th>\n",
       "      <th></th>\n",
       "      <th></th>\n",
       "      <th></th>\n",
       "      <th></th>\n",
       "      <th></th>\n",
       "    </tr>\n",
       "  </thead>\n",
       "  <tbody>\n",
       "    <tr>\n",
       "      <th>1</th>\n",
       "      <td>1</td>\n",
       "      <td>0</td>\n",
       "      <td>Manchester City</td>\n",
       "      <td>Barclays Premier League</td>\n",
       "      <td>3.12</td>\n",
       "      <td>0.20</td>\n",
       "      <td>94.75</td>\n",
       "    </tr>\n",
       "    <tr>\n",
       "      <th>2</th>\n",
       "      <td>2</td>\n",
       "      <td>0</td>\n",
       "      <td>Liverpool</td>\n",
       "      <td>Barclays Premier League</td>\n",
       "      <td>2.82</td>\n",
       "      <td>0.22</td>\n",
       "      <td>92.89</td>\n",
       "    </tr>\n",
       "    <tr>\n",
       "      <th>3</th>\n",
       "      <td>4</td>\n",
       "      <td>1</td>\n",
       "      <td>Bayern Munich</td>\n",
       "      <td>German Bundesliga</td>\n",
       "      <td>3.16</td>\n",
       "      <td>0.39</td>\n",
       "      <td>92.57</td>\n",
       "    </tr>\n",
       "    <tr>\n",
       "      <th>4</th>\n",
       "      <td>3</td>\n",
       "      <td>-1</td>\n",
       "      <td>Barcelona</td>\n",
       "      <td>Spanish Primera Division</td>\n",
       "      <td>3.23</td>\n",
       "      <td>0.43</td>\n",
       "      <td>92.43</td>\n",
       "    </tr>\n",
       "    <tr>\n",
       "      <th>5</th>\n",
       "      <td>5</td>\n",
       "      <td>0</td>\n",
       "      <td>Paris Saint-Germain</td>\n",
       "      <td>French Ligue 1</td>\n",
       "      <td>2.96</td>\n",
       "      <td>0.44</td>\n",
       "      <td>90.54</td>\n",
       "    </tr>\n",
       "  </tbody>\n",
       "</table>\n",
       "</div>"
      ],
      "text/plain": [
       "      prev_rank  rank_change                 name                    league  \\\n",
       "rank                                                                          \n",
       "1             1            0      Manchester City   Barclays Premier League   \n",
       "2             2            0            Liverpool   Barclays Premier League   \n",
       "3             4            1        Bayern Munich         German Bundesliga   \n",
       "4             3           -1            Barcelona  Spanish Primera Division   \n",
       "5             5            0  Paris Saint-Germain            French Ligue 1   \n",
       "\n",
       "       off   def    spi  \n",
       "rank                     \n",
       "1     3.12  0.20  94.75  \n",
       "2     2.82  0.22  92.89  \n",
       "3     3.16  0.39  92.57  \n",
       "4     3.23  0.43  92.43  \n",
       "5     2.96  0.44  90.54  "
      ]
     },
     "execution_count": 9,
     "metadata": {},
     "output_type": "execute_result"
    }
   ],
   "source": [
    "#Source: https://github.com/fivethirtyeight/data/tree/master/soccer-spi\n",
    "club_data = pd.read_csv('spi_global_rankings.csv') #load FiveThirtyEight data on soccer club rankings into a DataFrame\n",
    "print(type(club_data)) \n",
    "club_data.set_index('rank', inplace = True) #change index to ranking\n",
    "club_data.head() #display first 5 rows of data set"
   ]
  },
  {
   "cell_type": "markdown",
   "metadata": {},
   "source": [
    "## Data Cleaning\n",
    "This cell is dedicated to cleaning the data. The first section re-orders the columns so that the club names are right next to the ranking / index. Additionally, this order clumps all of the numerical data. Thankfully, the numerical data is quite clean. I use a line to transform any non-numerical data cells to numerical figures, but none of them result in NaN. Lastly, I renamed all of the column headers to more official / detailed names."
   ]
  },
  {
   "cell_type": "code",
   "execution_count": 10,
   "metadata": {},
   "outputs": [
    {
     "data": {
      "text/html": [
       "<div>\n",
       "<style scoped>\n",
       "    .dataframe tbody tr th:only-of-type {\n",
       "        vertical-align: middle;\n",
       "    }\n",
       "\n",
       "    .dataframe tbody tr th {\n",
       "        vertical-align: top;\n",
       "    }\n",
       "\n",
       "    .dataframe thead th {\n",
       "        text-align: right;\n",
       "    }\n",
       "</style>\n",
       "<table border=\"1\" class=\"dataframe\">\n",
       "  <thead>\n",
       "    <tr style=\"text-align: right;\">\n",
       "      <th></th>\n",
       "      <th>Club Name</th>\n",
       "      <th>Professional League</th>\n",
       "      <th>Offensive Score</th>\n",
       "      <th>Defensive Score</th>\n",
       "      <th>Soccer Power Index</th>\n",
       "      <th>Previous Rank</th>\n",
       "      <th>Change in Rank</th>\n",
       "    </tr>\n",
       "    <tr>\n",
       "      <th>rank</th>\n",
       "      <th></th>\n",
       "      <th></th>\n",
       "      <th></th>\n",
       "      <th></th>\n",
       "      <th></th>\n",
       "      <th></th>\n",
       "      <th></th>\n",
       "    </tr>\n",
       "  </thead>\n",
       "  <tbody>\n",
       "    <tr>\n",
       "      <th>1</th>\n",
       "      <td>Manchester City</td>\n",
       "      <td>Barclays Premier League</td>\n",
       "      <td>3.12</td>\n",
       "      <td>0.20</td>\n",
       "      <td>94.75</td>\n",
       "      <td>1</td>\n",
       "      <td>0</td>\n",
       "    </tr>\n",
       "    <tr>\n",
       "      <th>2</th>\n",
       "      <td>Liverpool</td>\n",
       "      <td>Barclays Premier League</td>\n",
       "      <td>2.82</td>\n",
       "      <td>0.22</td>\n",
       "      <td>92.89</td>\n",
       "      <td>2</td>\n",
       "      <td>0</td>\n",
       "    </tr>\n",
       "    <tr>\n",
       "      <th>3</th>\n",
       "      <td>Bayern Munich</td>\n",
       "      <td>German Bundesliga</td>\n",
       "      <td>3.16</td>\n",
       "      <td>0.39</td>\n",
       "      <td>92.57</td>\n",
       "      <td>4</td>\n",
       "      <td>1</td>\n",
       "    </tr>\n",
       "    <tr>\n",
       "      <th>4</th>\n",
       "      <td>Barcelona</td>\n",
       "      <td>Spanish Primera Division</td>\n",
       "      <td>3.23</td>\n",
       "      <td>0.43</td>\n",
       "      <td>92.43</td>\n",
       "      <td>3</td>\n",
       "      <td>-1</td>\n",
       "    </tr>\n",
       "    <tr>\n",
       "      <th>5</th>\n",
       "      <td>Paris Saint-Germain</td>\n",
       "      <td>French Ligue 1</td>\n",
       "      <td>2.96</td>\n",
       "      <td>0.44</td>\n",
       "      <td>90.54</td>\n",
       "      <td>5</td>\n",
       "      <td>0</td>\n",
       "    </tr>\n",
       "  </tbody>\n",
       "</table>\n",
       "</div>"
      ],
      "text/plain": [
       "                Club Name       Professional League  Offensive Score  \\\n",
       "rank                                                                   \n",
       "1         Manchester City   Barclays Premier League             3.12   \n",
       "2               Liverpool   Barclays Premier League             2.82   \n",
       "3           Bayern Munich         German Bundesliga             3.16   \n",
       "4               Barcelona  Spanish Primera Division             3.23   \n",
       "5     Paris Saint-Germain            French Ligue 1             2.96   \n",
       "\n",
       "      Defensive Score  Soccer Power Index  Previous Rank  Change in Rank  \n",
       "rank                                                                      \n",
       "1                0.20               94.75              1               0  \n",
       "2                0.22               92.89              2               0  \n",
       "3                0.39               92.57              4               1  \n",
       "4                0.43               92.43              3              -1  \n",
       "5                0.44               90.54              5               0  "
      ]
     },
     "execution_count": 10,
     "metadata": {},
     "output_type": "execute_result"
    }
   ],
   "source": [
    "#re-order the columns so that the club name comes first after rank\n",
    "club_col = club_data.columns.tolist()\n",
    "club_col = club_col[2:] + club_col[:2]\n",
    "club_data = club_data[club_col] \n",
    "\n",
    "#Turned any non-numerical numbers into numberical numbers; None resulted in NaN\n",
    "club_data.loc[2:, 'off':] = club_data.loc[2:, 'off':].apply(lambda x: pd.to_numeric(x, errors='coerce'))\n",
    "\n",
    "#create a dictionary that specifies columns to rename and their new names\n",
    "col_names = {'name': 'Club Name',\n",
    "         'league': 'Professional League',\n",
    "         'off': 'Offensive Score',\n",
    "         'def': 'Defensive Score',\n",
    "         'spi': 'Soccer Power Index',\n",
    "         'prev_rank': 'Previous Rank',\n",
    "         'rank_change': 'Change in Rank'}\n",
    "club_data.rename(col_names, inplace=True, axis=1) #rename the given columns using the dictionary\n",
    "\n",
    "club_anony = club_data.drop(['Club Name','Professional League'], inplace=False, axis = 1) #create an anonymized version of the DataFrame without non-numerical data\n",
    "\n",
    "club_data.head()"
   ]
  },
  {
   "cell_type": "markdown",
   "metadata": {},
   "source": [
    "## SPI by Offensive Score Plot\n",
    "Using Seaborn, I plot the Soccer Power Index (SPI) values on Offensive Score values, while coloring the data points by league. SPI and Offensive Scores have a tight linear relationship because a team's SPI is at least partially based on a its offensive abilities, in addition to defense, how much it spends in the transfer market, and match performance. \n",
    "\n",
    "Looking at the coloring, the teams with the strongest offense are from the Premier League, Bundesliga, and Spanish Division. These leagues traditionally attract superstar attacking talents, and the respective teams also perform well in continental competitions. The Italian Serie A hosts many teams that have high SPIs, yet their offensive scores are lower on average -- this league is traditionally known for its defensive emphasis."
   ]
  },
  {
   "cell_type": "code",
   "execution_count": 11,
   "metadata": {
    "scrolled": true
   },
   "outputs": [
    {
     "data": {
      "application/vnd.plotly.v1+json": {
       "config": {
        "linkText": "Export to plot.ly",
        "plotlyServerURL": "https://plot.ly",
        "showLink": false
       },
       "data": [
        {
         "hovertemplate": "Professional League=Argentina Primera Division<br>Offensive Score=%{x}<br>Soccer Power Index=%{y}<extra></extra>",
         "legendgroup": "Professional League=Argentina Primera Division",
         "marker": {
          "color": "#636efa",
          "symbol": "circle"
         },
         "mode": "markers",
         "name": "Professional League=Argentina Primera Division",
         "showlegend": true,
         "type": "scatter",
         "uid": "f545c9b3-5660-4845-bd04-8e139cfa1a5d",
         "x": [
          1.61,
          1.57,
          1.51,
          1.26,
          1.33,
          1.22,
          1.2,
          1.22,
          1.17,
          1.23,
          1.39,
          1.17,
          1.03,
          1.06,
          1.04,
          0.99,
          1.08,
          0.97,
          1.13,
          0.97,
          0.97,
          1.11,
          1.07,
          1.15,
          0.91,
          0.95
         ],
         "xaxis": "x",
         "y": [
          61.93,
          61.42,
          59.4,
          53.39,
          50.18,
          49.56,
          47.8,
          46.27,
          45.58,
          45.16,
          45.16,
          45.13,
          43.83,
          42.89,
          42.88,
          42.01,
          40.82,
          40.74,
          40.48,
          40.26,
          39.76,
          39.6,
          39.03,
          38.57,
          38.35,
          37.68
         ],
         "yaxis": "y"
        },
        {
         "hovertemplate": "Professional League=Australian A-League<br>Offensive Score=%{x}<br>Soccer Power Index=%{y}<extra></extra>",
         "legendgroup": "Professional League=Australian A-League",
         "marker": {
          "color": "#EF553B",
          "symbol": "circle"
         },
         "mode": "markers",
         "name": "Professional League=Australian A-League",
         "showlegend": true,
         "type": "scatter",
         "uid": "b30af34e-0d7b-4d54-8de6-6551452c77d7",
         "x": [
          1.49,
          1.3,
          1.16,
          1.35,
          1.32,
          1.32,
          1.02,
          1.13,
          1.04,
          0.89
         ],
         "xaxis": "x",
         "y": [
          47.46,
          43.01,
          40.66,
          38.97,
          36.89,
          33.92,
          33.76,
          30.35,
          23.12,
          18.64
         ],
         "yaxis": "y"
        },
        {
         "hovertemplate": "Professional League=Austrian T-Mobile Bundesliga<br>Offensive Score=%{x}<br>Soccer Power Index=%{y}<extra></extra>",
         "legendgroup": "Professional League=Austrian T-Mobile Bundesliga",
         "marker": {
          "color": "#00cc96",
          "symbol": "circle"
         },
         "mode": "markers",
         "name": "Professional League=Austrian T-Mobile Bundesliga",
         "showlegend": true,
         "type": "scatter",
         "uid": "aaed53c2-62c1-49c2-9feb-0a031248f09d",
         "x": [
          2.53,
          1.84,
          1.44,
          1.15,
          1.42,
          1.31,
          1.33,
          1.11,
          1.08,
          1.33,
          1.41,
          0.8
         ],
         "xaxis": "x",
         "y": [
          77.99,
          64.62,
          49.25,
          46.16,
          43.28,
          43.01,
          41.24,
          36.13,
          36.08,
          34.37,
          32.82,
          29.51
         ],
         "yaxis": "y"
        },
        {
         "hovertemplate": "Professional League=Barclays Premier League<br>Offensive Score=%{x}<br>Soccer Power Index=%{y}<extra></extra>",
         "legendgroup": "Professional League=Barclays Premier League",
         "marker": {
          "color": "#ab63fa",
          "symbol": "circle"
         },
         "mode": "markers",
         "name": "Professional League=Barclays Premier League",
         "showlegend": true,
         "type": "scatter",
         "uid": "96de851b-4193-4223-82f9-a624e32997ea",
         "x": [
          3.12,
          2.82,
          2.48,
          2.36,
          2.41,
          2.37,
          1.93,
          1.9,
          1.89,
          1.81,
          2.02,
          1.81,
          1.71,
          1.89,
          1.81,
          1.8,
          1.62,
          1.59,
          1.68,
          1.38
         ],
         "xaxis": "x",
         "y": [
          94.75,
          92.89,
          85.96,
          83.73,
          81.93,
          79.77,
          72.86,
          72.75,
          70.82,
          70.44,
          69.66,
          66.77,
          66.53,
          65.4,
          65.02,
          61.56,
          61.11,
          57.83,
          56.74,
          53.18
         ],
         "yaxis": "y"
        },
        {
         "hovertemplate": "Professional League=Belgian Jupiler League<br>Offensive Score=%{x}<br>Soccer Power Index=%{y}<extra></extra>",
         "legendgroup": "Professional League=Belgian Jupiler League",
         "marker": {
          "color": "#19d3f3",
          "symbol": "circle"
         },
         "mode": "markers",
         "name": "Professional League=Belgian Jupiler League",
         "showlegend": true,
         "type": "scatter",
         "uid": "2681c159-f023-41e7-b543-29e0fe5506d4",
         "x": [
          2.16,
          1.78,
          1.82,
          1.52,
          1.61,
          1.49,
          1.38,
          1.51,
          1.2,
          1.41,
          1.7,
          1.42,
          1.19,
          1.02,
          1.05,
          1.2
         ],
         "xaxis": "x",
         "y": [
          70.87,
          62.21,
          60.67,
          53.81,
          53.33,
          52.86,
          52.46,
          51.61,
          45.54,
          45.26,
          45.21,
          40.16,
          35.25,
          34.18,
          33.19,
          31.72
         ],
         "yaxis": "y"
        },
        {
         "hovertemplate": "Professional League=Brasileiro Série A<br>Offensive Score=%{x}<br>Soccer Power Index=%{y}<extra></extra>",
         "legendgroup": "Professional League=Brasileiro Série A",
         "marker": {
          "color": "#e763fa",
          "symbol": "circle"
         },
         "mode": "markers",
         "name": "Professional League=Brasileiro Série A",
         "showlegend": true,
         "type": "scatter",
         "uid": "2cded091-88c5-45ca-8f54-bf32ac205496",
         "x": [
          1.73,
          1.7,
          1.58,
          1.51,
          1.58,
          1.51,
          1.34,
          1.39,
          1.35,
          1.33,
          1.18,
          1.25,
          1.27,
          1.27,
          1.17,
          1.1,
          1.13,
          1.21,
          1.11,
          0.86
         ],
         "xaxis": "x",
         "y": [
          69.61,
          67.07,
          65.74,
          61.16,
          59.55,
          59.44,
          57.4,
          56.35,
          55.82,
          55.75,
          52.17,
          52.02,
          51.58,
          51.25,
          49.15,
          45.32,
          43.61,
          41.82,
          41.57,
          33.17
         ],
         "yaxis": "y"
        },
        {
         "hovertemplate": "Professional League=Chinese Super League<br>Offensive Score=%{x}<br>Soccer Power Index=%{y}<extra></extra>",
         "legendgroup": "Professional League=Chinese Super League",
         "marker": {
          "color": "#fecb52",
          "symbol": "circle"
         },
         "mode": "markers",
         "name": "Professional League=Chinese Super League",
         "showlegend": true,
         "type": "scatter",
         "uid": "caa2c794-df4f-434c-867c-a6db76a5bc5a",
         "x": [
          1.97,
          1.74,
          1.78,
          1.48,
          1.56,
          1.41,
          1.39,
          1.53,
          1.29,
          1.25,
          1.19,
          1.21,
          1.13,
          1.01,
          1.06,
          1.03,
          1.01,
          1.07
         ],
         "xaxis": "x",
         "y": [
          64.89,
          58.62,
          57.59,
          51.29,
          49.85,
          46.12,
          43.73,
          41.87,
          39.68,
          38.39,
          37.78,
          36.82,
          36.53,
          36.43,
          34.95,
          33.73,
          33.03,
          32.23
         ],
         "yaxis": "y"
        },
        {
         "hovertemplate": "Professional League=Danish SAS-Ligaen<br>Offensive Score=%{x}<br>Soccer Power Index=%{y}<extra></extra>",
         "legendgroup": "Professional League=Danish SAS-Ligaen",
         "marker": {
          "color": "#ffa15a",
          "symbol": "circle"
         },
         "mode": "markers",
         "name": "Professional League=Danish SAS-Ligaen",
         "showlegend": true,
         "type": "scatter",
         "uid": "c8fe62ab-9f6d-4a6f-a6f9-eef22c2f34e9",
         "x": [
          2.08,
          2,
          1.7,
          1.54,
          1.25,
          1.31,
          1.2,
          0.96,
          0.93,
          0.94,
          0.88,
          0.93,
          0.89,
          0.78
         ],
         "xaxis": "x",
         "y": [
          68.4,
          63.89,
          46.87,
          46.18,
          43.74,
          39.65,
          37.58,
          35.37,
          31.98,
          30.5,
          27.64,
          27.01,
          26.11,
          24.44
         ],
         "yaxis": "y"
        },
        {
         "hovertemplate": "Professional League=Dutch Eredivisie<br>Offensive Score=%{x}<br>Soccer Power Index=%{y}<extra></extra>",
         "legendgroup": "Professional League=Dutch Eredivisie",
         "marker": {
          "color": "#ff6692",
          "symbol": "circle"
         },
         "mode": "markers",
         "name": "Professional League=Dutch Eredivisie",
         "showlegend": true,
         "type": "scatter",
         "uid": "d5d054eb-cb1c-4c72-b1f6-4d3bb6d951a1",
         "x": [
          3.1,
          2.49,
          2.2,
          1.85,
          1.98,
          1.79,
          1.17,
          1.83,
          1.78,
          1.6,
          1.19,
          1.3,
          1.15,
          1.17,
          1.38,
          1.15,
          1.04,
          0.92
         ],
         "xaxis": "x",
         "y": [
          82.96,
          77.89,
          64.79,
          63.27,
          59.23,
          49.34,
          47,
          44.51,
          43.52,
          40.01,
          38.59,
          36.82,
          32.83,
          31.79,
          31.75,
          26.83,
          25.85,
          23.54
         ],
         "yaxis": "y"
        },
        {
         "hovertemplate": "Professional League=English League Championship<br>Offensive Score=%{x}<br>Soccer Power Index=%{y}<extra></extra>",
         "legendgroup": "Professional League=English League Championship",
         "marker": {
          "color": "#b6e880",
          "symbol": "circle"
         },
         "mode": "markers",
         "name": "Professional League=English League Championship",
         "showlegend": true,
         "type": "scatter",
         "uid": "c27172ba-b0b3-416e-a44c-c570e0e85a6e",
         "x": [
          1.71,
          1.59,
          1.78,
          1.7,
          1.59,
          1.56,
          1.43,
          1.52,
          1.3,
          1.1,
          1.36,
          1.26,
          1.34,
          1.3,
          1.36,
          1.24,
          1.39,
          1.37,
          1.31,
          1.21,
          1.26,
          1.06,
          0.98,
          1.04
         ],
         "xaxis": "x",
         "y": [
          63.1,
          61.31,
          59.21,
          59.18,
          56.45,
          54.89,
          53.61,
          53.19,
          52.85,
          50.51,
          49.9,
          49.2,
          48.57,
          48.07,
          47.98,
          47.24,
          46.16,
          45.21,
          44.76,
          42.05,
          39.47,
          35.83,
          34.35,
          34.06
         ],
         "yaxis": "y"
        },
        {
         "hovertemplate": "Professional League=English League One<br>Offensive Score=%{x}<br>Soccer Power Index=%{y}<extra></extra>",
         "legendgroup": "Professional League=English League One",
         "marker": {
          "color": "#636efa",
          "symbol": "circle"
         },
         "mode": "markers",
         "name": "Professional League=English League One",
         "showlegend": true,
         "type": "scatter",
         "uid": "81420154-faec-4098-b12f-62d23925af82",
         "x": [
          1.37,
          1.47,
          1,
          1.21,
          0.83,
          1.11,
          0.93,
          0.73,
          0.76,
          0.7,
          0.9,
          0.68,
          0.83,
          0.68,
          0.79,
          0.6,
          0.72,
          0.65,
          0.54,
          0.52,
          0.61,
          0.59,
          0.68,
          0.58
         ],
         "xaxis": "x",
         "y": [
          48.29,
          46.46,
          39.7,
          36.13,
          32.5,
          30.36,
          29.93,
          26.3,
          24.74,
          23.89,
          23.43,
          22.15,
          21.87,
          21.47,
          21.07,
          19.57,
          17.18,
          17.18,
          17.15,
          15.94,
          15.15,
          14.5,
          13.84,
          13.57
         ],
         "yaxis": "y"
        },
        {
         "hovertemplate": "Professional League=English League Two<br>Offensive Score=%{x}<br>Soccer Power Index=%{y}<extra></extra>",
         "legendgroup": "Professional League=English League Two",
         "marker": {
          "color": "#EF553B",
          "symbol": "circle"
         },
         "mode": "markers",
         "name": "Professional League=English League Two",
         "showlegend": true,
         "type": "scatter",
         "uid": "e3bcbc39-87e2-402c-9c94-e2b34e35d29c",
         "x": [
          0.76,
          0.72,
          0.83,
          0.83,
          0.69,
          0.6,
          0.58,
          0.55,
          0.66,
          0.45,
          0.57,
          0.62,
          0.47,
          0.4,
          0.38,
          0.35,
          0.37,
          0.22,
          0.2,
          0.29,
          0.2,
          0.28,
          0.2,
          0.2
         ],
         "xaxis": "x",
         "y": [
          23.18,
          21.48,
          21.26,
          20.17,
          17.72,
          17.49,
          17.03,
          16.33,
          14.85,
          14.78,
          13.55,
          13.35,
          12.13,
          10.76,
          9.66,
          9.22,
          8.74,
          8.66,
          8.56,
          8.22,
          7.34,
          6.94,
          5.99,
          4.81
         ],
         "yaxis": "y"
        },
        {
         "hovertemplate": "Professional League=French Ligue 1<br>Offensive Score=%{x}<br>Soccer Power Index=%{y}<extra></extra>",
         "legendgroup": "Professional League=French Ligue 1",
         "marker": {
          "color": "#00cc96",
          "symbol": "circle"
         },
         "mode": "markers",
         "name": "Professional League=French Ligue 1",
         "showlegend": true,
         "type": "scatter",
         "uid": "7683b0c9-aaf2-4231-9823-3f45a48de18f",
         "x": [
          2.96,
          2.2,
          1.75,
          1.73,
          1.72,
          1.67,
          1.55,
          1.61,
          1.61,
          1.56,
          1.59,
          1.44,
          1.37,
          1.48,
          1.62,
          1.49,
          1.29,
          1.3,
          1.27,
          1.17
         ],
         "xaxis": "x",
         "y": [
          90.54,
          75.14,
          68.97,
          67.8,
          66.27,
          64.97,
          64.13,
          63.67,
          62.38,
          62.08,
          60.72,
          59.31,
          59.19,
          59.17,
          57.51,
          56.81,
          55.68,
          53.09,
          51.27,
          47.86
         ],
         "yaxis": "y"
        },
        {
         "hovertemplate": "Professional League=French Ligue 2<br>Offensive Score=%{x}<br>Soccer Power Index=%{y}<extra></extra>",
         "legendgroup": "Professional League=French Ligue 2",
         "marker": {
          "color": "#ab63fa",
          "symbol": "circle"
         },
         "mode": "markers",
         "name": "Professional League=French Ligue 2",
         "showlegend": true,
         "type": "scatter",
         "uid": "19c40a01-ffe0-4c44-bd09-cdd7883a7dea",
         "x": [
          1.2,
          0.96,
          1.14,
          0.7,
          0.86,
          0.85,
          1.18,
          1,
          1.13,
          0.83,
          0.9,
          0.65,
          0.73,
          0.64,
          0.61,
          0.49,
          0.46,
          0.51,
          0.32,
          0.43
         ],
         "xaxis": "x",
         "y": [
          46.41,
          39.62,
          39.05,
          35.74,
          33.83,
          33.82,
          33.08,
          32.55,
          30.02,
          29.56,
          28.37,
          24.13,
          22.81,
          22.77,
          21.2,
          19.35,
          18.08,
          17.11,
          14.39,
          13.2
         ],
         "yaxis": "y"
        },
        {
         "hovertemplate": "Professional League=German 2. Bundesliga<br>Offensive Score=%{x}<br>Soccer Power Index=%{y}<extra></extra>",
         "legendgroup": "Professional League=German 2. Bundesliga",
         "marker": {
          "color": "#19d3f3",
          "symbol": "circle"
         },
         "mode": "markers",
         "name": "Professional League=German 2. Bundesliga",
         "showlegend": true,
         "type": "scatter",
         "uid": "d0790556-c7c4-425c-b146-72b6a66182b5",
         "x": [
          1.75,
          1.21,
          1.25,
          1.44,
          1.32,
          1.16,
          1.26,
          1.03,
          1.06,
          1.06,
          0.98,
          0.95,
          0.91,
          1,
          0.88,
          0.86,
          0.8,
          0.85
         ],
         "xaxis": "x",
         "y": [
          54.94,
          43.53,
          42.01,
          40.01,
          37.31,
          36.38,
          35.42,
          33.83,
          33.36,
          32.34,
          31.75,
          31.45,
          31.45,
          30.78,
          30.44,
          26.53,
          26.12,
          23.91
         ],
         "yaxis": "y"
        },
        {
         "hovertemplate": "Professional League=German Bundesliga<br>Offensive Score=%{x}<br>Soccer Power Index=%{y}<extra></extra>",
         "legendgroup": "Professional League=German Bundesliga",
         "marker": {
          "color": "#e763fa",
          "symbol": "circle"
         },
         "mode": "markers",
         "name": "Professional League=German Bundesliga",
         "showlegend": true,
         "type": "scatter",
         "uid": "18ecd11d-583e-47ca-9d42-9fc8280044c3",
         "x": [
          3.16,
          2.36,
          2.18,
          2.16,
          2.31,
          2.52,
          2.06,
          1.97,
          1.86,
          1.78,
          1.87,
          1.74,
          1.75,
          1.8,
          1.74,
          1.69,
          1.44,
          1.54
         ],
         "xaxis": "x",
         "y": [
          92.57,
          81.57,
          81.53,
          77.57,
          77.19,
          75.75,
          69.71,
          68.66,
          66.45,
          63.35,
          63.33,
          59.81,
          59.01,
          58.9,
          58.85,
          58.16,
          52.03,
          49.14
         ],
         "yaxis": "y"
        },
        {
         "hovertemplate": "Professional League=Greek Super League<br>Offensive Score=%{x}<br>Soccer Power Index=%{y}<extra></extra>",
         "legendgroup": "Professional League=Greek Super League",
         "marker": {
          "color": "#fecb52",
          "symbol": "circle"
         },
         "mode": "markers",
         "name": "Professional League=Greek Super League",
         "showlegend": true,
         "type": "scatter",
         "uid": "9eecda4b-a6b3-410a-9a8e-e40d960f08aa",
         "x": [
          2.31,
          2.24,
          1.49,
          1.37,
          1.46,
          1.01,
          0.87,
          1.17,
          0.92,
          0.67,
          0.78,
          0.76,
          0.91,
          0.83,
          0.55,
          0.59
         ],
         "xaxis": "x",
         "y": [
          77.95,
          77.14,
          64.65,
          53.75,
          53.71,
          44.88,
          39.49,
          38.77,
          38.29,
          37.04,
          35.07,
          34.5,
          32.56,
          29.97,
          24.17,
          20.33
         ],
         "yaxis": "y"
        },
        {
         "hovertemplate": "Professional League=Italy Serie A<br>Offensive Score=%{x}<br>Soccer Power Index=%{y}<extra></extra>",
         "legendgroup": "Professional League=Italy Serie A",
         "marker": {
          "color": "#ffa15a",
          "symbol": "circle"
         },
         "mode": "markers",
         "name": "Professional League=Italy Serie A",
         "showlegend": true,
         "type": "scatter",
         "uid": "98092d0e-b914-43a0-83fb-201b78c19504",
         "x": [
          2.42,
          2.26,
          2.2,
          2.36,
          2,
          1.86,
          2.24,
          2.01,
          1.92,
          1.74,
          1.75,
          1.72,
          1.65,
          1.74,
          1.65,
          1.5,
          1.57,
          1.43,
          1.45,
          1.53
         ],
         "xaxis": "x",
         "y": [
          86.55,
          81.81,
          81.16,
          79.16,
          76.57,
          74.01,
          73.06,
          69.27,
          69.17,
          68.98,
          62.5,
          61.93,
          60.94,
          59.16,
          58.49,
          57.74,
          56.63,
          52.64,
          52.25,
          49.91
         ],
         "yaxis": "y"
        },
        {
         "hovertemplate": "Professional League=Italy Serie B<br>Offensive Score=%{x}<br>Soccer Power Index=%{y}<extra></extra>",
         "legendgroup": "Professional League=Italy Serie B",
         "marker": {
          "color": "#ff6692",
          "symbol": "circle"
         },
         "mode": "markers",
         "name": "Professional League=Italy Serie B",
         "showlegend": true,
         "type": "scatter",
         "uid": "f2bdc0f7-bd8d-436f-8ad6-e3ed6089c445",
         "x": [
          1.24,
          1.04,
          0.99,
          0.94,
          1.01,
          0.99,
          0.87,
          0.92,
          0.92,
          0.75,
          0.64,
          0.73,
          0.8,
          0.83,
          0.67,
          0.66,
          0.6,
          0.58,
          0.7
         ],
         "xaxis": "x",
         "y": [
          37.2,
          33.98,
          33.53,
          31.98,
          31.47,
          31.16,
          31.12,
          30.82,
          30.15,
          26.73,
          24.85,
          24.75,
          24.56,
          24.53,
          20.86,
          20.64,
          19.94,
          19.16,
          18.56
         ],
         "yaxis": "y"
        },
        {
         "hovertemplate": "Professional League=Japanese J League<br>Offensive Score=%{x}<br>Soccer Power Index=%{y}<extra></extra>",
         "legendgroup": "Professional League=Japanese J League",
         "marker": {
          "color": "#b6e880",
          "symbol": "circle"
         },
         "mode": "markers",
         "name": "Professional League=Japanese J League",
         "showlegend": true,
         "type": "scatter",
         "uid": "73f8b288-3f7f-4070-a299-40dbeb8d6485",
         "x": [
          1.41,
          1.64,
          1.41,
          1.4,
          1.41,
          1.44,
          1.36,
          1.04,
          1,
          1.38,
          0.94,
          1.19,
          1.34,
          0.99,
          0.67,
          0.92,
          0.74,
          0.85,
          0.75,
          0.5
         ],
         "xaxis": "x",
         "y": [
          51.98,
          49.1,
          48.53,
          45.47,
          42.77,
          40.89,
          40.48,
          39.93,
          39.21,
          38.93,
          36.4,
          33.73,
          33.48,
          33.33,
          28.76,
          26.29,
          25.05,
          24.14,
          23.85,
          17.25
         ],
         "yaxis": "y"
        },
        {
         "hovertemplate": "Professional League=Major League Soccer<br>Offensive Score=%{x}<br>Soccer Power Index=%{y}<extra></extra>",
         "legendgroup": "Professional League=Major League Soccer",
         "marker": {
          "color": "#636efa",
          "symbol": "circle"
         },
         "mode": "markers",
         "name": "Professional League=Major League Soccer",
         "showlegend": true,
         "type": "scatter",
         "uid": "b1a6ffcc-3457-4a55-8696-ae8f4412194e",
         "x": [
          1.52,
          1.62,
          1.35,
          1.42,
          1.4,
          1.58,
          1.38,
          1.35,
          1.35,
          1.17,
          1.24,
          1.54,
          1.21,
          1.37,
          1.3,
          1.16,
          1.22,
          1.3,
          1.11,
          1.15,
          1,
          1.19,
          1.06,
          0.91
         ],
         "xaxis": "x",
         "y": [
          49.3,
          49.29,
          48.92,
          47.58,
          45.88,
          45.6,
          44.67,
          43.23,
          42.55,
          42.48,
          41.46,
          40.61,
          38.72,
          38.57,
          37.07,
          35.34,
          34.92,
          33.84,
          32.88,
          32.21,
          31.72,
          30.9,
          25.16,
          24.77
         ],
         "yaxis": "y"
        },
        {
         "hovertemplate": "Professional League=Mexican Primera Division Torneo Clausura<br>Offensive Score=%{x}<br>Soccer Power Index=%{y}<extra></extra>",
         "legendgroup": "Professional League=Mexican Primera Division Torneo Clausura",
         "marker": {
          "color": "#EF553B",
          "symbol": "circle"
         },
         "mode": "markers",
         "name": "Professional League=Mexican Primera Division Torneo Clausura",
         "showlegend": true,
         "type": "scatter",
         "uid": "f984dc04-6f67-42cc-9e95-89137f3a1689",
         "x": [
          1.67,
          1.71,
          1.65,
          1.55,
          1.42,
          1.54,
          1.41,
          1.34,
          1.37,
          1.23,
          1.34,
          1.2,
          1.17,
          1.15,
          1.18,
          1.03,
          1.03,
          0.86
         ],
         "xaxis": "x",
         "y": [
          61.92,
          61.5,
          61.24,
          55.21,
          53.21,
          50.89,
          49.64,
          46.8,
          46.65,
          46.12,
          44.62,
          44.02,
          42.59,
          39.54,
          38.21,
          36.62,
          32.34,
          27.93
         ],
         "yaxis": "y"
        },
        {
         "hovertemplate": "Professional League=Norwegian Tippeligaen<br>Offensive Score=%{x}<br>Soccer Power Index=%{y}<extra></extra>",
         "legendgroup": "Professional League=Norwegian Tippeligaen",
         "marker": {
          "color": "#00cc96",
          "symbol": "circle"
         },
         "mode": "markers",
         "name": "Professional League=Norwegian Tippeligaen",
         "showlegend": true,
         "type": "scatter",
         "uid": "33313a45-62ea-4406-af68-20895b3c93da",
         "x": [
          1.5,
          1.68,
          1.28,
          1.16,
          1.28,
          1.08,
          1.12,
          1.04,
          1.01,
          0.88,
          1,
          0.98,
          0.86,
          1,
          0.78,
          0.85,
          0.7,
          0.74
         ],
         "xaxis": "x",
         "y": [
          51.39,
          50.16,
          38.22,
          36.74,
          33.76,
          33.25,
          31.51,
          30.93,
          30.45,
          29.04,
          26.93,
          26.79,
          25.9,
          25.03,
          22.98,
          22.39,
          20.03,
          19.26
         ],
         "yaxis": "y"
        },
        {
         "hovertemplate": "Professional League=Portuguese Liga<br>Offensive Score=%{x}<br>Soccer Power Index=%{y}<extra></extra>",
         "legendgroup": "Professional League=Portuguese Liga",
         "marker": {
          "color": "#ab63fa",
          "symbol": "circle"
         },
         "mode": "markers",
         "name": "Professional League=Portuguese Liga",
         "showlegend": true,
         "type": "scatter",
         "uid": "70cc8fe3-a6db-4c8e-9141-aad91e6374d3",
         "x": [
          2.28,
          2.21,
          1.85,
          1.62,
          1.31,
          1.23,
          1.23,
          1.43,
          1.19,
          0.98,
          1.12,
          1.09,
          1.06,
          1.23,
          1.17,
          1.24,
          1,
          0.9
         ],
         "xaxis": "x",
         "y": [
          79.87,
          77.07,
          68.48,
          62.61,
          53.91,
          47.79,
          47.14,
          46.94,
          46.65,
          42.49,
          42.49,
          42.23,
          41.59,
          41.27,
          40.13,
          39.25,
          37.02,
          33.7
         ],
         "yaxis": "y"
        },
        {
         "hovertemplate": "Professional League=Russian Premier Liga<br>Offensive Score=%{x}<br>Soccer Power Index=%{y}<extra></extra>",
         "legendgroup": "Professional League=Russian Premier Liga",
         "marker": {
          "color": "#19d3f3",
          "symbol": "circle"
         },
         "mode": "markers",
         "name": "Professional League=Russian Premier Liga",
         "showlegend": true,
         "type": "scatter",
         "uid": "2e57c70f-7006-4982-bea0-fcb0ee837766",
         "x": [
          1.91,
          1.74,
          1.63,
          1.69,
          1.73,
          1.53,
          1.1,
          1.1,
          1.33,
          1.11,
          1.09,
          1.13,
          1.2,
          1.19,
          1.02,
          0.82
         ],
         "xaxis": "x",
         "y": [
          71.49,
          71.1,
          65.21,
          63.94,
          63.23,
          56.23,
          55.85,
          52.2,
          51.53,
          49.66,
          48.97,
          47.3,
          43.76,
          42.45,
          33.22,
          30.24
         ],
         "yaxis": "y"
        },
        {
         "hovertemplate": "Professional League=Scottish Premiership<br>Offensive Score=%{x}<br>Soccer Power Index=%{y}<extra></extra>",
         "legendgroup": "Professional League=Scottish Premiership",
         "marker": {
          "color": "#e763fa",
          "symbol": "circle"
         },
         "mode": "markers",
         "name": "Professional League=Scottish Premiership",
         "showlegend": true,
         "type": "scatter",
         "uid": "7ae22fa5-533c-4ea6-9607-1d8a96576e68",
         "x": [
          1.77,
          1.79,
          1.31,
          1.16,
          0.99,
          0.93,
          0.75,
          0.76,
          0.62,
          0.53,
          0.52,
          0.4
         ],
         "xaxis": "x",
         "y": [
          66.06,
          60.03,
          38.93,
          38.83,
          38.23,
          30.47,
          26.3,
          26.19,
          20.72,
          14.31,
          12.48,
          8.96
         ],
         "yaxis": "y"
        },
        {
         "hovertemplate": "Professional League=South African ABSA Premier League<br>Offensive Score=%{x}<br>Soccer Power Index=%{y}<extra></extra>",
         "legendgroup": "Professional League=South African ABSA Premier League",
         "marker": {
          "color": "#fecb52",
          "symbol": "circle"
         },
         "mode": "markers",
         "name": "Professional League=South African ABSA Premier League",
         "showlegend": true,
         "type": "scatter",
         "uid": "34199c7d-b046-4972-b527-a83ebeb27d97",
         "x": [
          0.94,
          0.98,
          1.13,
          0.84,
          1,
          0.89,
          0.61,
          0.78,
          0.8,
          0.62,
          0.69,
          0.66,
          0.47,
          0.48,
          0.5,
          0.58
         ],
         "xaxis": "x",
         "y": [
          38.69,
          35.77,
          34.85,
          32.98,
          31.59,
          29.33,
          25.53,
          24.31,
          23.3,
          22.58,
          20.82,
          18.92,
          18.88,
          18.52,
          17.61,
          16.2
         ],
         "yaxis": "y"
        },
        {
         "hovertemplate": "Professional League=Spanish Primera Division<br>Offensive Score=%{x}<br>Soccer Power Index=%{y}<extra></extra>",
         "legendgroup": "Professional League=Spanish Primera Division",
         "marker": {
          "color": "#ffa15a",
          "symbol": "circle"
         },
         "mode": "markers",
         "name": "Professional League=Spanish Primera Division",
         "showlegend": true,
         "type": "scatter",
         "uid": "9fe28a02-f531-4d56-a240-e5cd90f9499c",
         "x": [
          3.23,
          2.18,
          2.79,
          2.11,
          2.36,
          2.2,
          1.88,
          1.91,
          1.82,
          2.02,
          2.14,
          1.96,
          1.89,
          1.89,
          1.82,
          1.99,
          1.79,
          1.72,
          1.98,
          1.93
         ],
         "xaxis": "x",
         "y": [
          92.43,
          86.92,
          86.77,
          82.57,
          81.78,
          79.43,
          78.62,
          77.95,
          76.57,
          76.41,
          74.06,
          72.33,
          71.3,
          70.91,
          70.38,
          68.64,
          66.24,
          65.82,
          65.06,
          64.29
         ],
         "yaxis": "y"
        },
        {
         "hovertemplate": "Professional League=Spanish Segunda Division<br>Offensive Score=%{x}<br>Soccer Power Index=%{y}<extra></extra>",
         "legendgroup": "Professional League=Spanish Segunda Division",
         "marker": {
          "color": "#ff6692",
          "symbol": "circle"
         },
         "mode": "markers",
         "name": "Professional League=Spanish Segunda Division",
         "showlegend": true,
         "type": "scatter",
         "uid": "1a83b7df-7a8f-4f8c-907b-747251cebf66",
         "x": [
          1.14,
          0.97,
          0.97,
          0.91,
          1.07,
          0.81,
          0.93,
          0.79,
          0.75,
          0.79,
          0.86,
          0.86,
          0.82,
          0.9,
          0.82,
          0.96,
          0.66,
          0.71,
          1.01,
          0.56,
          0.62,
          0.43
         ],
         "xaxis": "x",
         "y": [
          43.97,
          39.92,
          38.74,
          38.68,
          37.87,
          37.74,
          37.66,
          36.14,
          32.87,
          31.9,
          30.85,
          30.33,
          29.06,
          28.57,
          28.36,
          28.15,
          25.2,
          24.49,
          23.83,
          21.75,
          20.99,
          15.66
         ],
         "yaxis": "y"
        },
        {
         "hovertemplate": "Professional League=Swedish Allsvenskan<br>Offensive Score=%{x}<br>Soccer Power Index=%{y}<extra></extra>",
         "legendgroup": "Professional League=Swedish Allsvenskan",
         "marker": {
          "color": "#b6e880",
          "symbol": "circle"
         },
         "mode": "markers",
         "name": "Professional League=Swedish Allsvenskan",
         "showlegend": true,
         "type": "scatter",
         "uid": "8f22a609-1860-4284-93e1-ef3eeb65ad7f",
         "x": [
          1.66,
          1.32,
          1.48,
          1.47,
          1.38,
          1.3,
          1.15,
          1.12,
          0.98,
          0.87,
          0.99,
          0.83,
          0.96,
          0.68,
          0.69,
          0.65,
          0.57,
          0.67,
          0.57
         ],
         "xaxis": "x",
         "y": [
          58.38,
          53.57,
          50.46,
          46.57,
          43.72,
          42.05,
          38.55,
          34.95,
          28.86,
          26.91,
          25.27,
          25.2,
          24.82,
          23.44,
          19.72,
          18.19,
          17.36,
          15.39,
          11.9
         ],
         "yaxis": "y"
        },
        {
         "hovertemplate": "Professional League=Swiss Raiffeisen Super League<br>Offensive Score=%{x}<br>Soccer Power Index=%{y}<extra></extra>",
         "legendgroup": "Professional League=Swiss Raiffeisen Super League",
         "marker": {
          "color": "#636efa",
          "symbol": "circle"
         },
         "mode": "markers",
         "name": "Professional League=Swiss Raiffeisen Super League",
         "showlegend": true,
         "type": "scatter",
         "uid": "7993e52f-da6d-4151-a302-c5a5349fd703",
         "x": [
          2.29,
          1.98,
          1.67,
          1.45,
          1.24,
          1.45,
          1.22,
          1.43,
          1.27,
          0.91
         ],
         "xaxis": "x",
         "y": [
          73.44,
          66.5,
          48.79,
          48.01,
          45.35,
          44.62,
          43.69,
          40.55,
          36.87,
          30.98
         ],
         "yaxis": "y"
        },
        {
         "hovertemplate": "Professional League=Turkish Turkcell Super Lig<br>Offensive Score=%{x}<br>Soccer Power Index=%{y}<extra></extra>",
         "legendgroup": "Professional League=Turkish Turkcell Super Lig",
         "marker": {
          "color": "#EF553B",
          "symbol": "circle"
         },
         "mode": "markers",
         "name": "Professional League=Turkish Turkcell Super Lig",
         "showlegend": true,
         "type": "scatter",
         "uid": "7bb16cfa-d981-4110-8284-2ae153ae818c",
         "x": [
          2.2,
          1.73,
          2.16,
          1.89,
          1.61,
          1.69,
          1.21,
          1.42,
          1.57,
          1.31,
          1.67,
          1.12,
          1.16,
          1.07,
          1.14,
          1.21,
          1.2,
          1.07
         ],
         "xaxis": "x",
         "y": [
          72.58,
          72.07,
          64.52,
          59.07,
          55.95,
          55.77,
          48.79,
          48.17,
          46.96,
          45.47,
          44.9,
          42.56,
          42.04,
          41.8,
          40.17,
          39.79,
          37.34,
          34.94
         ],
         "yaxis": "y"
        },
        {
         "hovertemplate": "Professional League=UEFA Champions League<br>Offensive Score=%{x}<br>Soccer Power Index=%{y}<extra></extra>",
         "legendgroup": "Professional League=UEFA Champions League",
         "marker": {
          "color": "#00cc96",
          "symbol": "circle"
         },
         "mode": "markers",
         "name": "Professional League=UEFA Champions League",
         "showlegend": true,
         "type": "scatter",
         "uid": "34e32440-3f33-4e3b-8dcf-779ea1e9959f",
         "x": [
          2.02
         ],
         "xaxis": "x",
         "y": [
          63.24
         ],
         "yaxis": "y"
        },
        {
         "hovertemplate": "Professional League=UEFA Europa League<br>Offensive Score=%{x}<br>Soccer Power Index=%{y}<extra></extra>",
         "legendgroup": "Professional League=UEFA Europa League",
         "marker": {
          "color": "#ab63fa",
          "symbol": "circle"
         },
         "mode": "markers",
         "name": "Professional League=UEFA Europa League",
         "showlegend": true,
         "type": "scatter",
         "uid": "7ec308d5-3c9d-4371-bb42-6d444ae1ec23",
         "x": [
          2.15,
          1.98,
          1.68,
          1.98,
          1.55,
          1.67,
          1.46,
          1.31,
          1.51,
          1.37,
          1.26,
          1.19,
          1.17,
          1.21,
          1.35,
          0.9
         ],
         "xaxis": "x",
         "y": [
          71.79,
          68.7,
          64.16,
          62.31,
          60.37,
          56.76,
          55.07,
          53.85,
          50.51,
          49.03,
          46.48,
          46.43,
          45.21,
          44.06,
          37.32,
          35.94
         ],
         "yaxis": "y"
        },
        {
         "hovertemplate": "Professional League=United Soccer League<br>Offensive Score=%{x}<br>Soccer Power Index=%{y}<extra></extra>",
         "legendgroup": "Professional League=United Soccer League",
         "marker": {
          "color": "#19d3f3",
          "symbol": "circle"
         },
         "mode": "markers",
         "name": "Professional League=United Soccer League",
         "showlegend": true,
         "type": "scatter",
         "uid": "8c0f1c6d-cbee-4e14-bd4b-8b665c176231",
         "x": [
          1.29,
          1.17,
          0.91,
          0.94,
          1.11,
          0.99,
          0.97,
          0.81,
          1.15,
          0.88,
          1.09,
          0.95,
          0.73,
          0.79,
          0.83,
          0.69,
          0.68,
          0.69,
          0.77,
          0.79,
          0.85,
          0.62,
          0.93,
          0.48,
          0.63,
          0.53,
          0.67,
          0.55,
          0.7,
          0.5,
          0.82,
          0.53,
          0.41,
          0.42,
          0.37,
          0.43,
          0.2,
          0.28,
          0.26
         ],
         "xaxis": "x",
         "y": [
          32.47,
          30.17,
          29.8,
          28.45,
          28.38,
          27.68,
          26.63,
          26.37,
          25.53,
          25.44,
          24.88,
          24.31,
          23.32,
          22.53,
          21.21,
          21.13,
          21.07,
          20.37,
          19.54,
          19.37,
          19.23,
          18.11,
          17.11,
          16.18,
          16.15,
          14.92,
          14.86,
          14.69,
          13.67,
          13.49,
          13.27,
          11.94,
          11.9,
          11.67,
          10.59,
          9.86,
          7.15,
          6.35,
          4.2
         ],
         "yaxis": "y"
        }
       ],
       "layout": {
        "grid": {
         "xaxes": [
          "x"
         ],
         "xgap": 0.1,
         "xside": "bottom",
         "yaxes": [
          "y"
         ],
         "ygap": 0.1,
         "yside": "left"
        },
        "height": 600,
        "legend": {
         "tracegroupgap": 0
        },
        "margin": {
         "t": 60
        },
        "template": {
         "data": {
          "bar": [
           {
            "marker": {
             "line": {
              "color": "#E5ECF6",
              "width": 0.5
             }
            },
            "type": "bar"
           }
          ],
          "barpolar": [
           {
            "marker": {
             "line": {
              "color": "#E5ECF6",
              "width": 0.5
             }
            },
            "type": "barpolar"
           }
          ],
          "carpet": [
           {
            "aaxis": {
             "endlinecolor": "#2a3f5f",
             "gridcolor": "white",
             "linecolor": "white",
             "minorgridcolor": "white",
             "startlinecolor": "#2a3f5f"
            },
            "baxis": {
             "endlinecolor": "#2a3f5f",
             "gridcolor": "white",
             "linecolor": "white",
             "minorgridcolor": "white",
             "startlinecolor": "#2a3f5f"
            },
            "type": "carpet"
           }
          ],
          "choropleth": [
           {
            "colorbar": {
             "outlinewidth": 0,
             "ticks": ""
            },
            "type": "choropleth"
           }
          ],
          "contour": [
           {
            "autocolorscale": true,
            "colorbar": {
             "outlinewidth": 0,
             "ticks": ""
            },
            "type": "contour"
           }
          ],
          "contourcarpet": [
           {
            "colorbar": {
             "outlinewidth": 0,
             "ticks": ""
            },
            "type": "contourcarpet"
           }
          ],
          "heatmap": [
           {
            "autocolorscale": true,
            "colorbar": {
             "outlinewidth": 0,
             "ticks": ""
            },
            "type": "heatmap"
           }
          ],
          "heatmapgl": [
           {
            "colorbar": {
             "outlinewidth": 0,
             "ticks": ""
            },
            "type": "heatmapgl"
           }
          ],
          "histogram": [
           {
            "marker": {
             "colorbar": {
              "outlinewidth": 0,
              "ticks": ""
             }
            },
            "type": "histogram"
           }
          ],
          "histogram2d": [
           {
            "autocolorscale": true,
            "colorbar": {
             "outlinewidth": 0,
             "ticks": ""
            },
            "type": "histogram2d"
           }
          ],
          "histogram2dcontour": [
           {
            "autocolorscale": true,
            "colorbar": {
             "outlinewidth": 0,
             "ticks": ""
            },
            "type": "histogram2dcontour"
           }
          ],
          "mesh3d": [
           {
            "colorbar": {
             "outlinewidth": 0,
             "ticks": ""
            },
            "type": "mesh3d"
           }
          ],
          "parcoords": [
           {
            "line": {
             "colorbar": {
              "outlinewidth": 0,
              "ticks": ""
             }
            },
            "type": "parcoords"
           }
          ],
          "scatter": [
           {
            "marker": {
             "colorbar": {
              "outlinewidth": 0,
              "ticks": ""
             }
            },
            "type": "scatter"
           }
          ],
          "scatter3d": [
           {
            "marker": {
             "colorbar": {
              "outlinewidth": 0,
              "ticks": ""
             }
            },
            "type": "scatter3d"
           }
          ],
          "scattercarpet": [
           {
            "marker": {
             "colorbar": {
              "outlinewidth": 0,
              "ticks": ""
             }
            },
            "type": "scattercarpet"
           }
          ],
          "scattergeo": [
           {
            "marker": {
             "colorbar": {
              "outlinewidth": 0,
              "ticks": ""
             }
            },
            "type": "scattergeo"
           }
          ],
          "scattergl": [
           {
            "marker": {
             "colorbar": {
              "outlinewidth": 0,
              "ticks": ""
             }
            },
            "type": "scattergl"
           }
          ],
          "scattermapbox": [
           {
            "marker": {
             "colorbar": {
              "outlinewidth": 0,
              "ticks": ""
             }
            },
            "type": "scattermapbox"
           }
          ],
          "scatterpolar": [
           {
            "marker": {
             "colorbar": {
              "outlinewidth": 0,
              "ticks": ""
             }
            },
            "type": "scatterpolar"
           }
          ],
          "scatterpolargl": [
           {
            "marker": {
             "colorbar": {
              "outlinewidth": 0,
              "ticks": ""
             }
            },
            "type": "scatterpolargl"
           }
          ],
          "scatterternary": [
           {
            "marker": {
             "colorbar": {
              "outlinewidth": 0,
              "ticks": ""
             }
            },
            "type": "scatterternary"
           }
          ],
          "surface": [
           {
            "colorbar": {
             "outlinewidth": 0,
             "ticks": ""
            },
            "type": "surface"
           }
          ],
          "table": [
           {
            "cells": {
             "fill": {
              "color": "#EBF0F8"
             },
             "line": {
              "color": "white"
             }
            },
            "header": {
             "fill": {
              "color": "#C8D4E3"
             },
             "line": {
              "color": "white"
             }
            },
            "type": "table"
           }
          ]
         },
         "layout": {
          "annotationdefaults": {
           "arrowcolor": "#506784",
           "arrowhead": 0,
           "arrowwidth": 1
          },
          "colorscale": {
           "diverging": [
            [
             0,
             "#8e0152"
            ],
            [
             0.1,
             "#c51b7d"
            ],
            [
             0.2,
             "#de77ae"
            ],
            [
             0.3,
             "#f1b6da"
            ],
            [
             0.4,
             "#fde0ef"
            ],
            [
             0.5,
             "#f7f7f7"
            ],
            [
             0.6,
             "#e6f5d0"
            ],
            [
             0.7,
             "#b8e186"
            ],
            [
             0.8,
             "#7fbc41"
            ],
            [
             0.9,
             "#4d9221"
            ],
            [
             1,
             "#276419"
            ]
           ],
           "sequential": [
            [
             0,
             "#0508b8"
            ],
            [
             0.0893854748603352,
             "#1910d8"
            ],
            [
             0.1787709497206704,
             "#3c19f0"
            ],
            [
             0.2681564245810056,
             "#6b1cfb"
            ],
            [
             0.3575418994413408,
             "#981cfd"
            ],
            [
             0.44692737430167595,
             "#bf1cfd"
            ],
            [
             0.5363128491620112,
             "#dd2bfd"
            ],
            [
             0.6256983240223464,
             "#f246fe"
            ],
            [
             0.7150837988826816,
             "#fc67fd"
            ],
            [
             0.8044692737430168,
             "#fe88fc"
            ],
            [
             0.8938547486033519,
             "#fea5fd"
            ],
            [
             0.9832402234636871,
             "#febefe"
            ],
            [
             1,
             "#fec3fe"
            ]
           ],
           "sequentialminus": [
            [
             0,
             "#0508b8"
            ],
            [
             0.0893854748603352,
             "#1910d8"
            ],
            [
             0.1787709497206704,
             "#3c19f0"
            ],
            [
             0.2681564245810056,
             "#6b1cfb"
            ],
            [
             0.3575418994413408,
             "#981cfd"
            ],
            [
             0.44692737430167595,
             "#bf1cfd"
            ],
            [
             0.5363128491620112,
             "#dd2bfd"
            ],
            [
             0.6256983240223464,
             "#f246fe"
            ],
            [
             0.7150837988826816,
             "#fc67fd"
            ],
            [
             0.8044692737430168,
             "#fe88fc"
            ],
            [
             0.8938547486033519,
             "#fea5fd"
            ],
            [
             0.9832402234636871,
             "#febefe"
            ],
            [
             1,
             "#fec3fe"
            ]
           ]
          },
          "colorway": [
           "#636efa",
           "#EF553B",
           "#00cc96",
           "#ab63fa",
           "#19d3f3",
           "#e763fa",
           "#FECB52",
           "#FFA15A",
           "#FF6692",
           "#B6E880"
          ],
          "font": {
           "color": "#2a3f5f"
          },
          "geo": {
           "bgcolor": "white",
           "lakecolor": "white",
           "landcolor": "#E5ECF6",
           "showlakes": true,
           "showland": true,
           "subunitcolor": "white"
          },
          "hovermode": "closest",
          "mapbox": {
           "style": "light"
          },
          "paper_bgcolor": "white",
          "plot_bgcolor": "#E5ECF6",
          "polar": {
           "angularaxis": {
            "gridcolor": "white",
            "linecolor": "white",
            "ticks": ""
           },
           "bgcolor": "#E5ECF6",
           "radialaxis": {
            "gridcolor": "white",
            "linecolor": "white",
            "ticks": ""
           }
          },
          "scene": {
           "xaxis": {
            "backgroundcolor": "#E5ECF6",
            "gridcolor": "white",
            "gridwidth": 2,
            "linecolor": "white",
            "showbackground": true,
            "ticks": "",
            "zerolinecolor": "white"
           },
           "yaxis": {
            "backgroundcolor": "#E5ECF6",
            "gridcolor": "white",
            "gridwidth": 2,
            "linecolor": "white",
            "showbackground": true,
            "ticks": "",
            "zerolinecolor": "white"
           },
           "zaxis": {
            "backgroundcolor": "#E5ECF6",
            "gridcolor": "white",
            "gridwidth": 2,
            "linecolor": "white",
            "showbackground": true,
            "ticks": "",
            "zerolinecolor": "white"
           }
          },
          "shapedefaults": {
           "fillcolor": "#506784",
           "line": {
            "width": 0
           },
           "opacity": 0.4
          },
          "ternary": {
           "aaxis": {
            "gridcolor": "white",
            "linecolor": "white",
            "ticks": ""
           },
           "baxis": {
            "gridcolor": "white",
            "linecolor": "white",
            "ticks": ""
           },
           "bgcolor": "#E5ECF6",
           "caxis": {
            "gridcolor": "white",
            "linecolor": "white",
            "ticks": ""
           }
          },
          "title": {
           "x": 0.05
          },
          "xaxis": {
           "automargin": true,
           "gridcolor": "white",
           "linecolor": "white",
           "ticks": "",
           "zerolinecolor": "white",
           "zerolinewidth": 2
          },
          "yaxis": {
           "automargin": true,
           "gridcolor": "white",
           "linecolor": "white",
           "ticks": "",
           "zerolinecolor": "white",
           "zerolinewidth": 2
          }
         }
        },
        "xaxis": {
         "title": {
          "text": "Offensive Score"
         }
        },
        "yaxis": {
         "title": {
          "text": "Soccer Power Index"
         }
        }
       }
      },
      "text/html": [
       "<div id=\"5ab47626-f9f4-4dd6-8970-bc5e9369f546\" style=\"height: 600px; width: 100%;\" class=\"plotly-graph-div\"></div><script type=\"text/javascript\">require([\"plotly\"], function(Plotly) { window.PLOTLYENV=window.PLOTLYENV || {};window.PLOTLYENV.BASE_URL=\"https://plot.ly\";\n",
       "if (document.getElementById(\"5ab47626-f9f4-4dd6-8970-bc5e9369f546\")) {\n",
       "    Plotly.newPlot(\"5ab47626-f9f4-4dd6-8970-bc5e9369f546\", [{\"hovertemplate\": \"Professional League=Argentina Primera Division<br>Offensive Score=%{x}<br>Soccer Power Index=%{y}<extra></extra>\", \"legendgroup\": \"Professional League=Argentina Primera Division\", \"marker\": {\"color\": \"#636efa\", \"symbol\": \"circle\"}, \"mode\": \"markers\", \"name\": \"Professional League=Argentina Primera Division\", \"showlegend\": true, \"x\": [1.61, 1.57, 1.51, 1.26, 1.33, 1.22, 1.2, 1.22, 1.17, 1.23, 1.39, 1.17, 1.03, 1.06, 1.04, 0.99, 1.08, 0.97, 1.13, 0.97, 0.97, 1.11, 1.07, 1.15, 0.91, 0.95], \"xaxis\": \"x\", \"y\": [61.93, 61.42, 59.4, 53.39, 50.18, 49.56, 47.8, 46.27, 45.58, 45.16, 45.16, 45.13, 43.83, 42.89, 42.88, 42.01, 40.82, 40.74, 40.48, 40.26, 39.76, 39.6, 39.03, 38.57, 38.35, 37.68], \"yaxis\": \"y\", \"type\": \"scatter\", \"uid\": \"f545c9b3-5660-4845-bd04-8e139cfa1a5d\"}, {\"hovertemplate\": \"Professional League=Australian A-League<br>Offensive Score=%{x}<br>Soccer Power Index=%{y}<extra></extra>\", \"legendgroup\": \"Professional League=Australian A-League\", \"marker\": {\"color\": \"#EF553B\", \"symbol\": \"circle\"}, \"mode\": \"markers\", \"name\": \"Professional League=Australian A-League\", \"showlegend\": true, \"x\": [1.49, 1.3, 1.16, 1.35, 1.32, 1.32, 1.02, 1.13, 1.04, 0.89], \"xaxis\": \"x\", \"y\": [47.46, 43.01, 40.66, 38.97, 36.89, 33.92, 33.76, 30.35, 23.12, 18.64], \"yaxis\": \"y\", \"type\": \"scatter\", \"uid\": \"b30af34e-0d7b-4d54-8de6-6551452c77d7\"}, {\"hovertemplate\": \"Professional League=Austrian T-Mobile Bundesliga<br>Offensive Score=%{x}<br>Soccer Power Index=%{y}<extra></extra>\", \"legendgroup\": \"Professional League=Austrian T-Mobile Bundesliga\", \"marker\": {\"color\": \"#00cc96\", \"symbol\": \"circle\"}, \"mode\": \"markers\", \"name\": \"Professional League=Austrian T-Mobile Bundesliga\", \"showlegend\": true, \"x\": [2.53, 1.84, 1.44, 1.15, 1.42, 1.31, 1.33, 1.11, 1.08, 1.33, 1.41, 0.8], \"xaxis\": \"x\", \"y\": [77.99, 64.62, 49.25, 46.16, 43.28, 43.01, 41.24, 36.13, 36.08, 34.37, 32.82, 29.51], \"yaxis\": \"y\", \"type\": \"scatter\", \"uid\": \"aaed53c2-62c1-49c2-9feb-0a031248f09d\"}, {\"hovertemplate\": \"Professional League=Barclays Premier League<br>Offensive Score=%{x}<br>Soccer Power Index=%{y}<extra></extra>\", \"legendgroup\": \"Professional League=Barclays Premier League\", \"marker\": {\"color\": \"#ab63fa\", \"symbol\": \"circle\"}, \"mode\": \"markers\", \"name\": \"Professional League=Barclays Premier League\", \"showlegend\": true, \"x\": [3.12, 2.82, 2.48, 2.36, 2.41, 2.37, 1.93, 1.9, 1.89, 1.81, 2.02, 1.81, 1.71, 1.89, 1.81, 1.8, 1.62, 1.59, 1.68, 1.38], \"xaxis\": \"x\", \"y\": [94.75, 92.89, 85.96, 83.73, 81.93, 79.77, 72.86, 72.75, 70.82, 70.44, 69.66, 66.77, 66.53, 65.4, 65.02, 61.56, 61.11, 57.83, 56.74, 53.18], \"yaxis\": \"y\", \"type\": \"scatter\", \"uid\": \"96de851b-4193-4223-82f9-a624e32997ea\"}, {\"hovertemplate\": \"Professional League=Belgian Jupiler League<br>Offensive Score=%{x}<br>Soccer Power Index=%{y}<extra></extra>\", \"legendgroup\": \"Professional League=Belgian Jupiler League\", \"marker\": {\"color\": \"#19d3f3\", \"symbol\": \"circle\"}, \"mode\": \"markers\", \"name\": \"Professional League=Belgian Jupiler League\", \"showlegend\": true, \"x\": [2.16, 1.78, 1.82, 1.52, 1.61, 1.49, 1.38, 1.51, 1.2, 1.41, 1.7, 1.42, 1.19, 1.02, 1.05, 1.2], \"xaxis\": \"x\", \"y\": [70.87, 62.21, 60.67, 53.81, 53.33, 52.86, 52.46, 51.61, 45.54, 45.26, 45.21, 40.16, 35.25, 34.18, 33.19, 31.72], \"yaxis\": \"y\", \"type\": \"scatter\", \"uid\": \"2681c159-f023-41e7-b543-29e0fe5506d4\"}, {\"hovertemplate\": \"Professional League=Brasileiro S\\u00e9rie A<br>Offensive Score=%{x}<br>Soccer Power Index=%{y}<extra></extra>\", \"legendgroup\": \"Professional League=Brasileiro S\\u00e9rie A\", \"marker\": {\"color\": \"#e763fa\", \"symbol\": \"circle\"}, \"mode\": \"markers\", \"name\": \"Professional League=Brasileiro S\\u00e9rie A\", \"showlegend\": true, \"x\": [1.73, 1.7, 1.58, 1.51, 1.58, 1.51, 1.34, 1.39, 1.35, 1.33, 1.18, 1.25, 1.27, 1.27, 1.17, 1.1, 1.13, 1.21, 1.11, 0.86], \"xaxis\": \"x\", \"y\": [69.61, 67.07, 65.74, 61.16, 59.55, 59.44, 57.4, 56.35, 55.82, 55.75, 52.17, 52.02, 51.58, 51.25, 49.15, 45.32, 43.61, 41.82, 41.57, 33.17], \"yaxis\": \"y\", \"type\": \"scatter\", \"uid\": \"2cded091-88c5-45ca-8f54-bf32ac205496\"}, {\"hovertemplate\": \"Professional League=Chinese Super League<br>Offensive Score=%{x}<br>Soccer Power Index=%{y}<extra></extra>\", \"legendgroup\": \"Professional League=Chinese Super League\", \"marker\": {\"color\": \"#fecb52\", \"symbol\": \"circle\"}, \"mode\": \"markers\", \"name\": \"Professional League=Chinese Super League\", \"showlegend\": true, \"x\": [1.97, 1.74, 1.78, 1.48, 1.56, 1.41, 1.39, 1.53, 1.29, 1.25, 1.19, 1.21, 1.13, 1.01, 1.06, 1.03, 1.01, 1.07], \"xaxis\": \"x\", \"y\": [64.89, 58.62, 57.59, 51.29, 49.85, 46.12, 43.73, 41.87, 39.68, 38.39, 37.78, 36.82, 36.53, 36.43, 34.95, 33.73, 33.03, 32.23], \"yaxis\": \"y\", \"type\": \"scatter\", \"uid\": \"caa2c794-df4f-434c-867c-a6db76a5bc5a\"}, {\"hovertemplate\": \"Professional League=Danish SAS-Ligaen<br>Offensive Score=%{x}<br>Soccer Power Index=%{y}<extra></extra>\", \"legendgroup\": \"Professional League=Danish SAS-Ligaen\", \"marker\": {\"color\": \"#ffa15a\", \"symbol\": \"circle\"}, \"mode\": \"markers\", \"name\": \"Professional League=Danish SAS-Ligaen\", \"showlegend\": true, \"x\": [2.08, 2.0, 1.7, 1.54, 1.25, 1.31, 1.2, 0.96, 0.93, 0.94, 0.88, 0.93, 0.89, 0.78], \"xaxis\": \"x\", \"y\": [68.4, 63.89, 46.87, 46.18, 43.74, 39.65, 37.58, 35.37, 31.98, 30.5, 27.64, 27.01, 26.11, 24.44], \"yaxis\": \"y\", \"type\": \"scatter\", \"uid\": \"c8fe62ab-9f6d-4a6f-a6f9-eef22c2f34e9\"}, {\"hovertemplate\": \"Professional League=Dutch Eredivisie<br>Offensive Score=%{x}<br>Soccer Power Index=%{y}<extra></extra>\", \"legendgroup\": \"Professional League=Dutch Eredivisie\", \"marker\": {\"color\": \"#ff6692\", \"symbol\": \"circle\"}, \"mode\": \"markers\", \"name\": \"Professional League=Dutch Eredivisie\", \"showlegend\": true, \"x\": [3.1, 2.49, 2.2, 1.85, 1.98, 1.79, 1.17, 1.83, 1.78, 1.6, 1.19, 1.3, 1.15, 1.17, 1.38, 1.15, 1.04, 0.92], \"xaxis\": \"x\", \"y\": [82.96, 77.89, 64.79, 63.27, 59.23, 49.34, 47.0, 44.51, 43.52, 40.01, 38.59, 36.82, 32.83, 31.79, 31.75, 26.83, 25.85, 23.54], \"yaxis\": \"y\", \"type\": \"scatter\", \"uid\": \"d5d054eb-cb1c-4c72-b1f6-4d3bb6d951a1\"}, {\"hovertemplate\": \"Professional League=English League Championship<br>Offensive Score=%{x}<br>Soccer Power Index=%{y}<extra></extra>\", \"legendgroup\": \"Professional League=English League Championship\", \"marker\": {\"color\": \"#b6e880\", \"symbol\": \"circle\"}, \"mode\": \"markers\", \"name\": \"Professional League=English League Championship\", \"showlegend\": true, \"x\": [1.71, 1.59, 1.78, 1.7, 1.59, 1.56, 1.43, 1.52, 1.3, 1.1, 1.36, 1.26, 1.34, 1.3, 1.36, 1.24, 1.39, 1.37, 1.31, 1.21, 1.26, 1.06, 0.98, 1.04], \"xaxis\": \"x\", \"y\": [63.1, 61.31, 59.21, 59.18, 56.45, 54.89, 53.61, 53.19, 52.85, 50.51, 49.9, 49.2, 48.57, 48.07, 47.98, 47.24, 46.16, 45.21, 44.76, 42.05, 39.47, 35.83, 34.35, 34.06], \"yaxis\": \"y\", \"type\": \"scatter\", \"uid\": \"c27172ba-b0b3-416e-a44c-c570e0e85a6e\"}, {\"hovertemplate\": \"Professional League=English League One<br>Offensive Score=%{x}<br>Soccer Power Index=%{y}<extra></extra>\", \"legendgroup\": \"Professional League=English League One\", \"marker\": {\"color\": \"#636efa\", \"symbol\": \"circle\"}, \"mode\": \"markers\", \"name\": \"Professional League=English League One\", \"showlegend\": true, \"x\": [1.37, 1.47, 1.0, 1.21, 0.83, 1.11, 0.93, 0.73, 0.76, 0.7, 0.9, 0.68, 0.83, 0.68, 0.79, 0.6, 0.72, 0.65, 0.54, 0.52, 0.61, 0.59, 0.68, 0.58], \"xaxis\": \"x\", \"y\": [48.29, 46.46, 39.7, 36.13, 32.5, 30.36, 29.93, 26.3, 24.74, 23.89, 23.43, 22.15, 21.87, 21.47, 21.07, 19.57, 17.18, 17.18, 17.15, 15.94, 15.15, 14.5, 13.84, 13.57], \"yaxis\": \"y\", \"type\": \"scatter\", \"uid\": \"81420154-faec-4098-b12f-62d23925af82\"}, {\"hovertemplate\": \"Professional League=English League Two<br>Offensive Score=%{x}<br>Soccer Power Index=%{y}<extra></extra>\", \"legendgroup\": \"Professional League=English League Two\", \"marker\": {\"color\": \"#EF553B\", \"symbol\": \"circle\"}, \"mode\": \"markers\", \"name\": \"Professional League=English League Two\", \"showlegend\": true, \"x\": [0.76, 0.72, 0.83, 0.83, 0.69, 0.6, 0.58, 0.55, 0.66, 0.45, 0.57, 0.62, 0.47, 0.4, 0.38, 0.35, 0.37, 0.22, 0.2, 0.29, 0.2, 0.28, 0.2, 0.2], \"xaxis\": \"x\", \"y\": [23.18, 21.48, 21.26, 20.17, 17.72, 17.49, 17.03, 16.33, 14.85, 14.78, 13.55, 13.35, 12.13, 10.76, 9.66, 9.22, 8.74, 8.66, 8.56, 8.22, 7.34, 6.94, 5.99, 4.81], \"yaxis\": \"y\", \"type\": \"scatter\", \"uid\": \"e3bcbc39-87e2-402c-9c94-e2b34e35d29c\"}, {\"hovertemplate\": \"Professional League=French Ligue 1<br>Offensive Score=%{x}<br>Soccer Power Index=%{y}<extra></extra>\", \"legendgroup\": \"Professional League=French Ligue 1\", \"marker\": {\"color\": \"#00cc96\", \"symbol\": \"circle\"}, \"mode\": \"markers\", \"name\": \"Professional League=French Ligue 1\", \"showlegend\": true, \"x\": [2.96, 2.2, 1.75, 1.73, 1.72, 1.67, 1.55, 1.61, 1.61, 1.56, 1.59, 1.44, 1.37, 1.48, 1.62, 1.49, 1.29, 1.3, 1.27, 1.17], \"xaxis\": \"x\", \"y\": [90.54, 75.14, 68.97, 67.8, 66.27, 64.97, 64.13, 63.67, 62.38, 62.08, 60.72, 59.31, 59.19, 59.17, 57.51, 56.81, 55.68, 53.09, 51.27, 47.86], \"yaxis\": \"y\", \"type\": \"scatter\", \"uid\": \"7683b0c9-aaf2-4231-9823-3f45a48de18f\"}, {\"hovertemplate\": \"Professional League=French Ligue 2<br>Offensive Score=%{x}<br>Soccer Power Index=%{y}<extra></extra>\", \"legendgroup\": \"Professional League=French Ligue 2\", \"marker\": {\"color\": \"#ab63fa\", \"symbol\": \"circle\"}, \"mode\": \"markers\", \"name\": \"Professional League=French Ligue 2\", \"showlegend\": true, \"x\": [1.2, 0.96, 1.14, 0.7, 0.86, 0.85, 1.18, 1.0, 1.13, 0.83, 0.9, 0.65, 0.73, 0.64, 0.61, 0.49, 0.46, 0.51, 0.32, 0.43], \"xaxis\": \"x\", \"y\": [46.41, 39.62, 39.05, 35.74, 33.83, 33.82, 33.08, 32.55, 30.02, 29.56, 28.37, 24.13, 22.81, 22.77, 21.2, 19.35, 18.08, 17.11, 14.39, 13.2], \"yaxis\": \"y\", \"type\": \"scatter\", \"uid\": \"19c40a01-ffe0-4c44-bd09-cdd7883a7dea\"}, {\"hovertemplate\": \"Professional League=German 2. Bundesliga<br>Offensive Score=%{x}<br>Soccer Power Index=%{y}<extra></extra>\", \"legendgroup\": \"Professional League=German 2. Bundesliga\", \"marker\": {\"color\": \"#19d3f3\", \"symbol\": \"circle\"}, \"mode\": \"markers\", \"name\": \"Professional League=German 2. Bundesliga\", \"showlegend\": true, \"x\": [1.75, 1.21, 1.25, 1.44, 1.32, 1.16, 1.26, 1.03, 1.06, 1.06, 0.98, 0.95, 0.91, 1.0, 0.88, 0.86, 0.8, 0.85], \"xaxis\": \"x\", \"y\": [54.94, 43.53, 42.01, 40.01, 37.31, 36.38, 35.42, 33.83, 33.36, 32.34, 31.75, 31.45, 31.45, 30.78, 30.44, 26.53, 26.12, 23.91], \"yaxis\": \"y\", \"type\": \"scatter\", \"uid\": \"d0790556-c7c4-425c-b146-72b6a66182b5\"}, {\"hovertemplate\": \"Professional League=German Bundesliga<br>Offensive Score=%{x}<br>Soccer Power Index=%{y}<extra></extra>\", \"legendgroup\": \"Professional League=German Bundesliga\", \"marker\": {\"color\": \"#e763fa\", \"symbol\": \"circle\"}, \"mode\": \"markers\", \"name\": \"Professional League=German Bundesliga\", \"showlegend\": true, \"x\": [3.16, 2.36, 2.18, 2.16, 2.31, 2.52, 2.06, 1.97, 1.86, 1.78, 1.87, 1.74, 1.75, 1.8, 1.74, 1.69, 1.44, 1.54], \"xaxis\": \"x\", \"y\": [92.57, 81.57, 81.53, 77.57, 77.19, 75.75, 69.71, 68.66, 66.45, 63.35, 63.33, 59.81, 59.01, 58.9, 58.85, 58.16, 52.03, 49.14], \"yaxis\": \"y\", \"type\": \"scatter\", \"uid\": \"18ecd11d-583e-47ca-9d42-9fc8280044c3\"}, {\"hovertemplate\": \"Professional League=Greek Super League<br>Offensive Score=%{x}<br>Soccer Power Index=%{y}<extra></extra>\", \"legendgroup\": \"Professional League=Greek Super League\", \"marker\": {\"color\": \"#fecb52\", \"symbol\": \"circle\"}, \"mode\": \"markers\", \"name\": \"Professional League=Greek Super League\", \"showlegend\": true, \"x\": [2.31, 2.24, 1.49, 1.37, 1.46, 1.01, 0.87, 1.17, 0.92, 0.67, 0.78, 0.76, 0.91, 0.83, 0.55, 0.59], \"xaxis\": \"x\", \"y\": [77.95, 77.14, 64.65, 53.75, 53.71, 44.88, 39.49, 38.77, 38.29, 37.04, 35.07, 34.5, 32.56, 29.97, 24.17, 20.33], \"yaxis\": \"y\", \"type\": \"scatter\", \"uid\": \"9eecda4b-a6b3-410a-9a8e-e40d960f08aa\"}, {\"hovertemplate\": \"Professional League=Italy Serie A<br>Offensive Score=%{x}<br>Soccer Power Index=%{y}<extra></extra>\", \"legendgroup\": \"Professional League=Italy Serie A\", \"marker\": {\"color\": \"#ffa15a\", \"symbol\": \"circle\"}, \"mode\": \"markers\", \"name\": \"Professional League=Italy Serie A\", \"showlegend\": true, \"x\": [2.42, 2.26, 2.2, 2.36, 2.0, 1.86, 2.24, 2.01, 1.92, 1.74, 1.75, 1.72, 1.65, 1.74, 1.65, 1.5, 1.57, 1.43, 1.45, 1.53], \"xaxis\": \"x\", \"y\": [86.55, 81.81, 81.16, 79.16, 76.57, 74.01, 73.06, 69.27, 69.17, 68.98, 62.5, 61.93, 60.94, 59.16, 58.49, 57.74, 56.63, 52.64, 52.25, 49.91], \"yaxis\": \"y\", \"type\": \"scatter\", \"uid\": \"98092d0e-b914-43a0-83fb-201b78c19504\"}, {\"hovertemplate\": \"Professional League=Italy Serie B<br>Offensive Score=%{x}<br>Soccer Power Index=%{y}<extra></extra>\", \"legendgroup\": \"Professional League=Italy Serie B\", \"marker\": {\"color\": \"#ff6692\", \"symbol\": \"circle\"}, \"mode\": \"markers\", \"name\": \"Professional League=Italy Serie B\", \"showlegend\": true, \"x\": [1.24, 1.04, 0.99, 0.94, 1.01, 0.99, 0.87, 0.92, 0.92, 0.75, 0.64, 0.73, 0.8, 0.83, 0.67, 0.66, 0.6, 0.58, 0.7], \"xaxis\": \"x\", \"y\": [37.2, 33.98, 33.53, 31.98, 31.47, 31.16, 31.12, 30.82, 30.15, 26.73, 24.85, 24.75, 24.56, 24.53, 20.86, 20.64, 19.94, 19.16, 18.56], \"yaxis\": \"y\", \"type\": \"scatter\", \"uid\": \"f2bdc0f7-bd8d-436f-8ad6-e3ed6089c445\"}, {\"hovertemplate\": \"Professional League=Japanese J League<br>Offensive Score=%{x}<br>Soccer Power Index=%{y}<extra></extra>\", \"legendgroup\": \"Professional League=Japanese J League\", \"marker\": {\"color\": \"#b6e880\", \"symbol\": \"circle\"}, \"mode\": \"markers\", \"name\": \"Professional League=Japanese J League\", \"showlegend\": true, \"x\": [1.41, 1.64, 1.41, 1.4, 1.41, 1.44, 1.36, 1.04, 1.0, 1.38, 0.94, 1.19, 1.34, 0.99, 0.67, 0.92, 0.74, 0.85, 0.75, 0.5], \"xaxis\": \"x\", \"y\": [51.98, 49.1, 48.53, 45.47, 42.77, 40.89, 40.48, 39.93, 39.21, 38.93, 36.4, 33.73, 33.48, 33.33, 28.76, 26.29, 25.05, 24.14, 23.85, 17.25], \"yaxis\": \"y\", \"type\": \"scatter\", \"uid\": \"73f8b288-3f7f-4070-a299-40dbeb8d6485\"}, {\"hovertemplate\": \"Professional League=Major League Soccer<br>Offensive Score=%{x}<br>Soccer Power Index=%{y}<extra></extra>\", \"legendgroup\": \"Professional League=Major League Soccer\", \"marker\": {\"color\": \"#636efa\", \"symbol\": \"circle\"}, \"mode\": \"markers\", \"name\": \"Professional League=Major League Soccer\", \"showlegend\": true, \"x\": [1.52, 1.62, 1.35, 1.42, 1.4, 1.58, 1.38, 1.35, 1.35, 1.17, 1.24, 1.54, 1.21, 1.37, 1.3, 1.16, 1.22, 1.3, 1.11, 1.15, 1.0, 1.19, 1.06, 0.91], \"xaxis\": \"x\", \"y\": [49.3, 49.29, 48.92, 47.58, 45.88, 45.6, 44.67, 43.23, 42.55, 42.48, 41.46, 40.61, 38.72, 38.57, 37.07, 35.34, 34.92, 33.84, 32.88, 32.21, 31.72, 30.9, 25.16, 24.77], \"yaxis\": \"y\", \"type\": \"scatter\", \"uid\": \"b1a6ffcc-3457-4a55-8696-ae8f4412194e\"}, {\"hovertemplate\": \"Professional League=Mexican Primera Division Torneo Clausura<br>Offensive Score=%{x}<br>Soccer Power Index=%{y}<extra></extra>\", \"legendgroup\": \"Professional League=Mexican Primera Division Torneo Clausura\", \"marker\": {\"color\": \"#EF553B\", \"symbol\": \"circle\"}, \"mode\": \"markers\", \"name\": \"Professional League=Mexican Primera Division Torneo Clausura\", \"showlegend\": true, \"x\": [1.67, 1.71, 1.65, 1.55, 1.42, 1.54, 1.41, 1.34, 1.37, 1.23, 1.34, 1.2, 1.17, 1.15, 1.18, 1.03, 1.03, 0.86], \"xaxis\": \"x\", \"y\": [61.92, 61.5, 61.24, 55.21, 53.21, 50.89, 49.64, 46.8, 46.65, 46.12, 44.62, 44.02, 42.59, 39.54, 38.21, 36.62, 32.34, 27.93], \"yaxis\": \"y\", \"type\": \"scatter\", \"uid\": \"f984dc04-6f67-42cc-9e95-89137f3a1689\"}, {\"hovertemplate\": \"Professional League=Norwegian Tippeligaen<br>Offensive Score=%{x}<br>Soccer Power Index=%{y}<extra></extra>\", \"legendgroup\": \"Professional League=Norwegian Tippeligaen\", \"marker\": {\"color\": \"#00cc96\", \"symbol\": \"circle\"}, \"mode\": \"markers\", \"name\": \"Professional League=Norwegian Tippeligaen\", \"showlegend\": true, \"x\": [1.5, 1.68, 1.28, 1.16, 1.28, 1.08, 1.12, 1.04, 1.01, 0.88, 1.0, 0.98, 0.86, 1.0, 0.78, 0.85, 0.7, 0.74], \"xaxis\": \"x\", \"y\": [51.39, 50.16, 38.22, 36.74, 33.76, 33.25, 31.51, 30.93, 30.45, 29.04, 26.93, 26.79, 25.9, 25.03, 22.98, 22.39, 20.03, 19.26], \"yaxis\": \"y\", \"type\": \"scatter\", \"uid\": \"33313a45-62ea-4406-af68-20895b3c93da\"}, {\"hovertemplate\": \"Professional League=Portuguese Liga<br>Offensive Score=%{x}<br>Soccer Power Index=%{y}<extra></extra>\", \"legendgroup\": \"Professional League=Portuguese Liga\", \"marker\": {\"color\": \"#ab63fa\", \"symbol\": \"circle\"}, \"mode\": \"markers\", \"name\": \"Professional League=Portuguese Liga\", \"showlegend\": true, \"x\": [2.28, 2.21, 1.85, 1.62, 1.31, 1.23, 1.23, 1.43, 1.19, 0.98, 1.12, 1.09, 1.06, 1.23, 1.17, 1.24, 1.0, 0.9], \"xaxis\": \"x\", \"y\": [79.87, 77.07, 68.48, 62.61, 53.91, 47.79, 47.14, 46.94, 46.65, 42.49, 42.49, 42.23, 41.59, 41.27, 40.13, 39.25, 37.02, 33.7], \"yaxis\": \"y\", \"type\": \"scatter\", \"uid\": \"70cc8fe3-a6db-4c8e-9141-aad91e6374d3\"}, {\"hovertemplate\": \"Professional League=Russian Premier Liga<br>Offensive Score=%{x}<br>Soccer Power Index=%{y}<extra></extra>\", \"legendgroup\": \"Professional League=Russian Premier Liga\", \"marker\": {\"color\": \"#19d3f3\", \"symbol\": \"circle\"}, \"mode\": \"markers\", \"name\": \"Professional League=Russian Premier Liga\", \"showlegend\": true, \"x\": [1.91, 1.74, 1.63, 1.69, 1.73, 1.53, 1.1, 1.1, 1.33, 1.11, 1.09, 1.13, 1.2, 1.19, 1.02, 0.82], \"xaxis\": \"x\", \"y\": [71.49, 71.1, 65.21, 63.94, 63.23, 56.23, 55.85, 52.2, 51.53, 49.66, 48.97, 47.3, 43.76, 42.45, 33.22, 30.24], \"yaxis\": \"y\", \"type\": \"scatter\", \"uid\": \"2e57c70f-7006-4982-bea0-fcb0ee837766\"}, {\"hovertemplate\": \"Professional League=Scottish Premiership<br>Offensive Score=%{x}<br>Soccer Power Index=%{y}<extra></extra>\", \"legendgroup\": \"Professional League=Scottish Premiership\", \"marker\": {\"color\": \"#e763fa\", \"symbol\": \"circle\"}, \"mode\": \"markers\", \"name\": \"Professional League=Scottish Premiership\", \"showlegend\": true, \"x\": [1.77, 1.79, 1.31, 1.16, 0.99, 0.93, 0.75, 0.76, 0.62, 0.53, 0.52, 0.4], \"xaxis\": \"x\", \"y\": [66.06, 60.03, 38.93, 38.83, 38.23, 30.47, 26.3, 26.19, 20.72, 14.31, 12.48, 8.96], \"yaxis\": \"y\", \"type\": \"scatter\", \"uid\": \"7ae22fa5-533c-4ea6-9607-1d8a96576e68\"}, {\"hovertemplate\": \"Professional League=South African ABSA Premier League<br>Offensive Score=%{x}<br>Soccer Power Index=%{y}<extra></extra>\", \"legendgroup\": \"Professional League=South African ABSA Premier League\", \"marker\": {\"color\": \"#fecb52\", \"symbol\": \"circle\"}, \"mode\": \"markers\", \"name\": \"Professional League=South African ABSA Premier League\", \"showlegend\": true, \"x\": [0.94, 0.98, 1.13, 0.84, 1.0, 0.89, 0.61, 0.78, 0.8, 0.62, 0.69, 0.66, 0.47, 0.48, 0.5, 0.58], \"xaxis\": \"x\", \"y\": [38.69, 35.77, 34.85, 32.98, 31.59, 29.33, 25.53, 24.31, 23.3, 22.58, 20.82, 18.92, 18.88, 18.52, 17.61, 16.2], \"yaxis\": \"y\", \"type\": \"scatter\", \"uid\": \"34199c7d-b046-4972-b527-a83ebeb27d97\"}, {\"hovertemplate\": \"Professional League=Spanish Primera Division<br>Offensive Score=%{x}<br>Soccer Power Index=%{y}<extra></extra>\", \"legendgroup\": \"Professional League=Spanish Primera Division\", \"marker\": {\"color\": \"#ffa15a\", \"symbol\": \"circle\"}, \"mode\": \"markers\", \"name\": \"Professional League=Spanish Primera Division\", \"showlegend\": true, \"x\": [3.23, 2.18, 2.79, 2.11, 2.36, 2.2, 1.88, 1.91, 1.82, 2.02, 2.14, 1.96, 1.89, 1.89, 1.82, 1.99, 1.79, 1.72, 1.98, 1.93], \"xaxis\": \"x\", \"y\": [92.43, 86.92, 86.77, 82.57, 81.78, 79.43, 78.62, 77.95, 76.57, 76.41, 74.06, 72.33, 71.3, 70.91, 70.38, 68.64, 66.24, 65.82, 65.06, 64.29], \"yaxis\": \"y\", \"type\": \"scatter\", \"uid\": \"9fe28a02-f531-4d56-a240-e5cd90f9499c\"}, {\"hovertemplate\": \"Professional League=Spanish Segunda Division<br>Offensive Score=%{x}<br>Soccer Power Index=%{y}<extra></extra>\", \"legendgroup\": \"Professional League=Spanish Segunda Division\", \"marker\": {\"color\": \"#ff6692\", \"symbol\": \"circle\"}, \"mode\": \"markers\", \"name\": \"Professional League=Spanish Segunda Division\", \"showlegend\": true, \"x\": [1.14, 0.97, 0.97, 0.91, 1.07, 0.81, 0.93, 0.79, 0.75, 0.79, 0.86, 0.86, 0.82, 0.9, 0.82, 0.96, 0.66, 0.71, 1.01, 0.56, 0.62, 0.43], \"xaxis\": \"x\", \"y\": [43.97, 39.92, 38.74, 38.68, 37.87, 37.74, 37.66, 36.14, 32.87, 31.9, 30.85, 30.33, 29.06, 28.57, 28.36, 28.15, 25.2, 24.49, 23.83, 21.75, 20.99, 15.66], \"yaxis\": \"y\", \"type\": \"scatter\", \"uid\": \"1a83b7df-7a8f-4f8c-907b-747251cebf66\"}, {\"hovertemplate\": \"Professional League=Swedish Allsvenskan<br>Offensive Score=%{x}<br>Soccer Power Index=%{y}<extra></extra>\", \"legendgroup\": \"Professional League=Swedish Allsvenskan\", \"marker\": {\"color\": \"#b6e880\", \"symbol\": \"circle\"}, \"mode\": \"markers\", \"name\": \"Professional League=Swedish Allsvenskan\", \"showlegend\": true, \"x\": [1.66, 1.32, 1.48, 1.47, 1.38, 1.3, 1.15, 1.12, 0.98, 0.87, 0.99, 0.83, 0.96, 0.68, 0.69, 0.65, 0.57, 0.67, 0.57], \"xaxis\": \"x\", \"y\": [58.38, 53.57, 50.46, 46.57, 43.72, 42.05, 38.55, 34.95, 28.86, 26.91, 25.27, 25.2, 24.82, 23.44, 19.72, 18.19, 17.36, 15.39, 11.9], \"yaxis\": \"y\", \"type\": \"scatter\", \"uid\": \"8f22a609-1860-4284-93e1-ef3eeb65ad7f\"}, {\"hovertemplate\": \"Professional League=Swiss Raiffeisen Super League<br>Offensive Score=%{x}<br>Soccer Power Index=%{y}<extra></extra>\", \"legendgroup\": \"Professional League=Swiss Raiffeisen Super League\", \"marker\": {\"color\": \"#636efa\", \"symbol\": \"circle\"}, \"mode\": \"markers\", \"name\": \"Professional League=Swiss Raiffeisen Super League\", \"showlegend\": true, \"x\": [2.29, 1.98, 1.67, 1.45, 1.24, 1.45, 1.22, 1.43, 1.27, 0.91], \"xaxis\": \"x\", \"y\": [73.44, 66.5, 48.79, 48.01, 45.35, 44.62, 43.69, 40.55, 36.87, 30.98], \"yaxis\": \"y\", \"type\": \"scatter\", \"uid\": \"7993e52f-da6d-4151-a302-c5a5349fd703\"}, {\"hovertemplate\": \"Professional League=Turkish Turkcell Super Lig<br>Offensive Score=%{x}<br>Soccer Power Index=%{y}<extra></extra>\", \"legendgroup\": \"Professional League=Turkish Turkcell Super Lig\", \"marker\": {\"color\": \"#EF553B\", \"symbol\": \"circle\"}, \"mode\": \"markers\", \"name\": \"Professional League=Turkish Turkcell Super Lig\", \"showlegend\": true, \"x\": [2.2, 1.73, 2.16, 1.89, 1.61, 1.69, 1.21, 1.42, 1.57, 1.31, 1.67, 1.12, 1.16, 1.07, 1.14, 1.21, 1.2, 1.07], \"xaxis\": \"x\", \"y\": [72.58, 72.07, 64.52, 59.07, 55.95, 55.77, 48.79, 48.17, 46.96, 45.47, 44.9, 42.56, 42.04, 41.8, 40.17, 39.79, 37.34, 34.94], \"yaxis\": \"y\", \"type\": \"scatter\", \"uid\": \"7bb16cfa-d981-4110-8284-2ae153ae818c\"}, {\"hovertemplate\": \"Professional League=UEFA Champions League<br>Offensive Score=%{x}<br>Soccer Power Index=%{y}<extra></extra>\", \"legendgroup\": \"Professional League=UEFA Champions League\", \"marker\": {\"color\": \"#00cc96\", \"symbol\": \"circle\"}, \"mode\": \"markers\", \"name\": \"Professional League=UEFA Champions League\", \"showlegend\": true, \"x\": [2.02], \"xaxis\": \"x\", \"y\": [63.24], \"yaxis\": \"y\", \"type\": \"scatter\", \"uid\": \"34e32440-3f33-4e3b-8dcf-779ea1e9959f\"}, {\"hovertemplate\": \"Professional League=UEFA Europa League<br>Offensive Score=%{x}<br>Soccer Power Index=%{y}<extra></extra>\", \"legendgroup\": \"Professional League=UEFA Europa League\", \"marker\": {\"color\": \"#ab63fa\", \"symbol\": \"circle\"}, \"mode\": \"markers\", \"name\": \"Professional League=UEFA Europa League\", \"showlegend\": true, \"x\": [2.15, 1.98, 1.68, 1.98, 1.55, 1.67, 1.46, 1.31, 1.51, 1.37, 1.26, 1.19, 1.17, 1.21, 1.35, 0.9], \"xaxis\": \"x\", \"y\": [71.79, 68.7, 64.16, 62.31, 60.37, 56.76, 55.07, 53.85, 50.51, 49.03, 46.48, 46.43, 45.21, 44.06, 37.32, 35.94], \"yaxis\": \"y\", \"type\": \"scatter\", \"uid\": \"7ec308d5-3c9d-4371-bb42-6d444ae1ec23\"}, {\"hovertemplate\": \"Professional League=United Soccer League<br>Offensive Score=%{x}<br>Soccer Power Index=%{y}<extra></extra>\", \"legendgroup\": \"Professional League=United Soccer League\", \"marker\": {\"color\": \"#19d3f3\", \"symbol\": \"circle\"}, \"mode\": \"markers\", \"name\": \"Professional League=United Soccer League\", \"showlegend\": true, \"x\": [1.29, 1.17, 0.91, 0.94, 1.11, 0.99, 0.97, 0.81, 1.15, 0.88, 1.09, 0.95, 0.73, 0.79, 0.83, 0.69, 0.68, 0.69, 0.77, 0.79, 0.85, 0.62, 0.93, 0.48, 0.63, 0.53, 0.67, 0.55, 0.7, 0.5, 0.82, 0.53, 0.41, 0.42, 0.37, 0.43, 0.2, 0.28, 0.26], \"xaxis\": \"x\", \"y\": [32.47, 30.17, 29.8, 28.45, 28.38, 27.68, 26.63, 26.37, 25.53, 25.44, 24.88, 24.31, 23.32, 22.53, 21.21, 21.13, 21.07, 20.37, 19.54, 19.37, 19.23, 18.11, 17.11, 16.18, 16.15, 14.92, 14.86, 14.69, 13.67, 13.49, 13.27, 11.94, 11.9, 11.67, 10.59, 9.86, 7.15, 6.35, 4.2], \"yaxis\": \"y\", \"type\": \"scatter\", \"uid\": \"8c0f1c6d-cbee-4e14-bd4b-8b665c176231\"}], {\"height\": 600, \"legend\": {\"tracegroupgap\": 0}, \"margin\": {\"t\": 60}, \"template\": {\"data\": {\"barpolar\": [{\"marker\": {\"line\": {\"color\": \"#E5ECF6\", \"width\": 0.5}}, \"type\": \"barpolar\"}], \"bar\": [{\"marker\": {\"line\": {\"color\": \"#E5ECF6\", \"width\": 0.5}}, \"type\": \"bar\"}], \"carpet\": [{\"aaxis\": {\"endlinecolor\": \"#2a3f5f\", \"gridcolor\": \"white\", \"linecolor\": \"white\", \"minorgridcolor\": \"white\", \"startlinecolor\": \"#2a3f5f\"}, \"baxis\": {\"endlinecolor\": \"#2a3f5f\", \"gridcolor\": \"white\", \"linecolor\": \"white\", \"minorgridcolor\": \"white\", \"startlinecolor\": \"#2a3f5f\"}, \"type\": \"carpet\"}], \"choropleth\": [{\"colorbar\": {\"outlinewidth\": 0, \"ticks\": \"\"}, \"type\": \"choropleth\"}], \"contourcarpet\": [{\"colorbar\": {\"outlinewidth\": 0, \"ticks\": \"\"}, \"type\": \"contourcarpet\"}], \"contour\": [{\"autocolorscale\": true, \"colorbar\": {\"outlinewidth\": 0, \"ticks\": \"\"}, \"type\": \"contour\"}], \"heatmapgl\": [{\"colorbar\": {\"outlinewidth\": 0, \"ticks\": \"\"}, \"type\": \"heatmapgl\"}], \"heatmap\": [{\"autocolorscale\": true, \"colorbar\": {\"outlinewidth\": 0, \"ticks\": \"\"}, \"type\": \"heatmap\"}], \"histogram2dcontour\": [{\"autocolorscale\": true, \"colorbar\": {\"outlinewidth\": 0, \"ticks\": \"\"}, \"type\": \"histogram2dcontour\"}], \"histogram2d\": [{\"autocolorscale\": true, \"colorbar\": {\"outlinewidth\": 0, \"ticks\": \"\"}, \"type\": \"histogram2d\"}], \"histogram\": [{\"marker\": {\"colorbar\": {\"outlinewidth\": 0, \"ticks\": \"\"}}, \"type\": \"histogram\"}], \"mesh3d\": [{\"colorbar\": {\"outlinewidth\": 0, \"ticks\": \"\"}, \"type\": \"mesh3d\"}], \"parcoords\": [{\"line\": {\"colorbar\": {\"outlinewidth\": 0, \"ticks\": \"\"}}, \"type\": \"parcoords\"}], \"scatter3d\": [{\"marker\": {\"colorbar\": {\"outlinewidth\": 0, \"ticks\": \"\"}}, \"type\": \"scatter3d\"}], \"scattercarpet\": [{\"marker\": {\"colorbar\": {\"outlinewidth\": 0, \"ticks\": \"\"}}, \"type\": \"scattercarpet\"}], \"scattergeo\": [{\"marker\": {\"colorbar\": {\"outlinewidth\": 0, \"ticks\": \"\"}}, \"type\": \"scattergeo\"}], \"scattergl\": [{\"marker\": {\"colorbar\": {\"outlinewidth\": 0, \"ticks\": \"\"}}, \"type\": \"scattergl\"}], \"scattermapbox\": [{\"marker\": {\"colorbar\": {\"outlinewidth\": 0, \"ticks\": \"\"}}, \"type\": \"scattermapbox\"}], \"scatterpolargl\": [{\"marker\": {\"colorbar\": {\"outlinewidth\": 0, \"ticks\": \"\"}}, \"type\": \"scatterpolargl\"}], \"scatterpolar\": [{\"marker\": {\"colorbar\": {\"outlinewidth\": 0, \"ticks\": \"\"}}, \"type\": \"scatterpolar\"}], \"scatter\": [{\"marker\": {\"colorbar\": {\"outlinewidth\": 0, \"ticks\": \"\"}}, \"type\": \"scatter\"}], \"scatterternary\": [{\"marker\": {\"colorbar\": {\"outlinewidth\": 0, \"ticks\": \"\"}}, \"type\": \"scatterternary\"}], \"surface\": [{\"colorbar\": {\"outlinewidth\": 0, \"ticks\": \"\"}, \"type\": \"surface\"}], \"table\": [{\"cells\": {\"fill\": {\"color\": \"#EBF0F8\"}, \"line\": {\"color\": \"white\"}}, \"header\": {\"fill\": {\"color\": \"#C8D4E3\"}, \"line\": {\"color\": \"white\"}}, \"type\": \"table\"}]}, \"layout\": {\"annotationdefaults\": {\"arrowcolor\": \"#506784\", \"arrowhead\": 0, \"arrowwidth\": 1}, \"colorscale\": {\"diverging\": [[0, \"#8e0152\"], [0.1, \"#c51b7d\"], [0.2, \"#de77ae\"], [0.3, \"#f1b6da\"], [0.4, \"#fde0ef\"], [0.5, \"#f7f7f7\"], [0.6, \"#e6f5d0\"], [0.7, \"#b8e186\"], [0.8, \"#7fbc41\"], [0.9, \"#4d9221\"], [1, \"#276419\"]], \"sequential\": [[0.0, \"#0508b8\"], [0.0893854748603352, \"#1910d8\"], [0.1787709497206704, \"#3c19f0\"], [0.2681564245810056, \"#6b1cfb\"], [0.3575418994413408, \"#981cfd\"], [0.44692737430167595, \"#bf1cfd\"], [0.5363128491620112, \"#dd2bfd\"], [0.6256983240223464, \"#f246fe\"], [0.7150837988826816, \"#fc67fd\"], [0.8044692737430168, \"#fe88fc\"], [0.8938547486033519, \"#fea5fd\"], [0.9832402234636871, \"#febefe\"], [1.0, \"#fec3fe\"]], \"sequentialminus\": [[0.0, \"#0508b8\"], [0.0893854748603352, \"#1910d8\"], [0.1787709497206704, \"#3c19f0\"], [0.2681564245810056, \"#6b1cfb\"], [0.3575418994413408, \"#981cfd\"], [0.44692737430167595, \"#bf1cfd\"], [0.5363128491620112, \"#dd2bfd\"], [0.6256983240223464, \"#f246fe\"], [0.7150837988826816, \"#fc67fd\"], [0.8044692737430168, \"#fe88fc\"], [0.8938547486033519, \"#fea5fd\"], [0.9832402234636871, \"#febefe\"], [1.0, \"#fec3fe\"]]}, \"colorway\": [\"#636efa\", \"#EF553B\", \"#00cc96\", \"#ab63fa\", \"#19d3f3\", \"#e763fa\", \"#FECB52\", \"#FFA15A\", \"#FF6692\", \"#B6E880\"], \"font\": {\"color\": \"#2a3f5f\"}, \"geo\": {\"bgcolor\": \"white\", \"lakecolor\": \"white\", \"landcolor\": \"#E5ECF6\", \"showlakes\": true, \"showland\": true, \"subunitcolor\": \"white\"}, \"hovermode\": \"closest\", \"mapbox\": {\"style\": \"light\"}, \"paper_bgcolor\": \"white\", \"plot_bgcolor\": \"#E5ECF6\", \"polar\": {\"angularaxis\": {\"gridcolor\": \"white\", \"linecolor\": \"white\", \"ticks\": \"\"}, \"bgcolor\": \"#E5ECF6\", \"radialaxis\": {\"gridcolor\": \"white\", \"linecolor\": \"white\", \"ticks\": \"\"}}, \"scene\": {\"xaxis\": {\"backgroundcolor\": \"#E5ECF6\", \"gridcolor\": \"white\", \"gridwidth\": 2, \"linecolor\": \"white\", \"showbackground\": true, \"ticks\": \"\", \"zerolinecolor\": \"white\"}, \"yaxis\": {\"backgroundcolor\": \"#E5ECF6\", \"gridcolor\": \"white\", \"gridwidth\": 2, \"linecolor\": \"white\", \"showbackground\": true, \"ticks\": \"\", \"zerolinecolor\": \"white\"}, \"zaxis\": {\"backgroundcolor\": \"#E5ECF6\", \"gridcolor\": \"white\", \"gridwidth\": 2, \"linecolor\": \"white\", \"showbackground\": true, \"ticks\": \"\", \"zerolinecolor\": \"white\"}}, \"shapedefaults\": {\"fillcolor\": \"#506784\", \"line\": {\"width\": 0}, \"opacity\": 0.4}, \"ternary\": {\"aaxis\": {\"gridcolor\": \"white\", \"linecolor\": \"white\", \"ticks\": \"\"}, \"baxis\": {\"gridcolor\": \"white\", \"linecolor\": \"white\", \"ticks\": \"\"}, \"bgcolor\": \"#E5ECF6\", \"caxis\": {\"gridcolor\": \"white\", \"linecolor\": \"white\", \"ticks\": \"\"}}, \"title\": {\"x\": 0.05}, \"xaxis\": {\"automargin\": true, \"gridcolor\": \"white\", \"linecolor\": \"white\", \"ticks\": \"\", \"zerolinecolor\": \"white\", \"zerolinewidth\": 2}, \"yaxis\": {\"automargin\": true, \"gridcolor\": \"white\", \"linecolor\": \"white\", \"ticks\": \"\", \"zerolinecolor\": \"white\", \"zerolinewidth\": 2}}}, \"grid\": {\"xaxes\": [\"x\"], \"yaxes\": [\"y\"], \"xgap\": 0.1, \"ygap\": 0.1, \"xside\": \"bottom\", \"yside\": \"left\"}, \"xaxis\": {\"title\": {\"text\": \"Offensive Score\"}}, \"yaxis\": {\"title\": {\"text\": \"Soccer Power Index\"}}}, {\"showLink\": false, \"linkText\": \"Export to plot.ly\", \"plotlyServerURL\": \"https://plot.ly\"}); \n",
       "}\n",
       "});</script><script type=\"text/javascript\">window.addEventListener(\"resize\", function(){if (document.getElementById(\"5ab47626-f9f4-4dd6-8970-bc5e9369f546\")) {window._Plotly.Plots.resize(document.getElementById(\"5ab47626-f9f4-4dd6-8970-bc5e9369f546\"));};})</script>"
      ],
      "text/vnd.plotly.v1+html": [
       "<div id=\"5ab47626-f9f4-4dd6-8970-bc5e9369f546\" style=\"height: 600px; width: 100%;\" class=\"plotly-graph-div\"></div><script type=\"text/javascript\">require([\"plotly\"], function(Plotly) { window.PLOTLYENV=window.PLOTLYENV || {};window.PLOTLYENV.BASE_URL=\"https://plot.ly\";\n",
       "if (document.getElementById(\"5ab47626-f9f4-4dd6-8970-bc5e9369f546\")) {\n",
       "    Plotly.newPlot(\"5ab47626-f9f4-4dd6-8970-bc5e9369f546\", [{\"hovertemplate\": \"Professional League=Argentina Primera Division<br>Offensive Score=%{x}<br>Soccer Power Index=%{y}<extra></extra>\", \"legendgroup\": \"Professional League=Argentina Primera Division\", \"marker\": {\"color\": \"#636efa\", \"symbol\": \"circle\"}, \"mode\": \"markers\", \"name\": \"Professional League=Argentina Primera Division\", \"showlegend\": true, \"x\": [1.61, 1.57, 1.51, 1.26, 1.33, 1.22, 1.2, 1.22, 1.17, 1.23, 1.39, 1.17, 1.03, 1.06, 1.04, 0.99, 1.08, 0.97, 1.13, 0.97, 0.97, 1.11, 1.07, 1.15, 0.91, 0.95], \"xaxis\": \"x\", \"y\": [61.93, 61.42, 59.4, 53.39, 50.18, 49.56, 47.8, 46.27, 45.58, 45.16, 45.16, 45.13, 43.83, 42.89, 42.88, 42.01, 40.82, 40.74, 40.48, 40.26, 39.76, 39.6, 39.03, 38.57, 38.35, 37.68], \"yaxis\": \"y\", \"type\": \"scatter\", \"uid\": \"f545c9b3-5660-4845-bd04-8e139cfa1a5d\"}, {\"hovertemplate\": \"Professional League=Australian A-League<br>Offensive Score=%{x}<br>Soccer Power Index=%{y}<extra></extra>\", \"legendgroup\": \"Professional League=Australian A-League\", \"marker\": {\"color\": \"#EF553B\", \"symbol\": \"circle\"}, \"mode\": \"markers\", \"name\": \"Professional League=Australian A-League\", \"showlegend\": true, \"x\": [1.49, 1.3, 1.16, 1.35, 1.32, 1.32, 1.02, 1.13, 1.04, 0.89], \"xaxis\": \"x\", \"y\": [47.46, 43.01, 40.66, 38.97, 36.89, 33.92, 33.76, 30.35, 23.12, 18.64], \"yaxis\": \"y\", \"type\": \"scatter\", \"uid\": \"b30af34e-0d7b-4d54-8de6-6551452c77d7\"}, {\"hovertemplate\": \"Professional League=Austrian T-Mobile Bundesliga<br>Offensive Score=%{x}<br>Soccer Power Index=%{y}<extra></extra>\", \"legendgroup\": \"Professional League=Austrian T-Mobile Bundesliga\", \"marker\": {\"color\": \"#00cc96\", \"symbol\": \"circle\"}, \"mode\": \"markers\", \"name\": \"Professional League=Austrian T-Mobile Bundesliga\", \"showlegend\": true, \"x\": [2.53, 1.84, 1.44, 1.15, 1.42, 1.31, 1.33, 1.11, 1.08, 1.33, 1.41, 0.8], \"xaxis\": \"x\", \"y\": [77.99, 64.62, 49.25, 46.16, 43.28, 43.01, 41.24, 36.13, 36.08, 34.37, 32.82, 29.51], \"yaxis\": \"y\", \"type\": \"scatter\", \"uid\": \"aaed53c2-62c1-49c2-9feb-0a031248f09d\"}, {\"hovertemplate\": \"Professional League=Barclays Premier League<br>Offensive Score=%{x}<br>Soccer Power Index=%{y}<extra></extra>\", \"legendgroup\": \"Professional League=Barclays Premier League\", \"marker\": {\"color\": \"#ab63fa\", \"symbol\": \"circle\"}, \"mode\": \"markers\", \"name\": \"Professional League=Barclays Premier League\", \"showlegend\": true, \"x\": [3.12, 2.82, 2.48, 2.36, 2.41, 2.37, 1.93, 1.9, 1.89, 1.81, 2.02, 1.81, 1.71, 1.89, 1.81, 1.8, 1.62, 1.59, 1.68, 1.38], \"xaxis\": \"x\", \"y\": [94.75, 92.89, 85.96, 83.73, 81.93, 79.77, 72.86, 72.75, 70.82, 70.44, 69.66, 66.77, 66.53, 65.4, 65.02, 61.56, 61.11, 57.83, 56.74, 53.18], \"yaxis\": \"y\", \"type\": \"scatter\", \"uid\": \"96de851b-4193-4223-82f9-a624e32997ea\"}, {\"hovertemplate\": \"Professional League=Belgian Jupiler League<br>Offensive Score=%{x}<br>Soccer Power Index=%{y}<extra></extra>\", \"legendgroup\": \"Professional League=Belgian Jupiler League\", \"marker\": {\"color\": \"#19d3f3\", \"symbol\": \"circle\"}, \"mode\": \"markers\", \"name\": \"Professional League=Belgian Jupiler League\", \"showlegend\": true, \"x\": [2.16, 1.78, 1.82, 1.52, 1.61, 1.49, 1.38, 1.51, 1.2, 1.41, 1.7, 1.42, 1.19, 1.02, 1.05, 1.2], \"xaxis\": \"x\", \"y\": [70.87, 62.21, 60.67, 53.81, 53.33, 52.86, 52.46, 51.61, 45.54, 45.26, 45.21, 40.16, 35.25, 34.18, 33.19, 31.72], \"yaxis\": \"y\", \"type\": \"scatter\", \"uid\": \"2681c159-f023-41e7-b543-29e0fe5506d4\"}, {\"hovertemplate\": \"Professional League=Brasileiro S\\u00e9rie A<br>Offensive Score=%{x}<br>Soccer Power Index=%{y}<extra></extra>\", \"legendgroup\": \"Professional League=Brasileiro S\\u00e9rie A\", \"marker\": {\"color\": \"#e763fa\", \"symbol\": \"circle\"}, \"mode\": \"markers\", \"name\": \"Professional League=Brasileiro S\\u00e9rie A\", \"showlegend\": true, \"x\": [1.73, 1.7, 1.58, 1.51, 1.58, 1.51, 1.34, 1.39, 1.35, 1.33, 1.18, 1.25, 1.27, 1.27, 1.17, 1.1, 1.13, 1.21, 1.11, 0.86], \"xaxis\": \"x\", \"y\": [69.61, 67.07, 65.74, 61.16, 59.55, 59.44, 57.4, 56.35, 55.82, 55.75, 52.17, 52.02, 51.58, 51.25, 49.15, 45.32, 43.61, 41.82, 41.57, 33.17], \"yaxis\": \"y\", \"type\": \"scatter\", \"uid\": \"2cded091-88c5-45ca-8f54-bf32ac205496\"}, {\"hovertemplate\": \"Professional League=Chinese Super League<br>Offensive Score=%{x}<br>Soccer Power Index=%{y}<extra></extra>\", \"legendgroup\": \"Professional League=Chinese Super League\", \"marker\": {\"color\": \"#fecb52\", \"symbol\": \"circle\"}, \"mode\": \"markers\", \"name\": \"Professional League=Chinese Super League\", \"showlegend\": true, \"x\": [1.97, 1.74, 1.78, 1.48, 1.56, 1.41, 1.39, 1.53, 1.29, 1.25, 1.19, 1.21, 1.13, 1.01, 1.06, 1.03, 1.01, 1.07], \"xaxis\": \"x\", \"y\": [64.89, 58.62, 57.59, 51.29, 49.85, 46.12, 43.73, 41.87, 39.68, 38.39, 37.78, 36.82, 36.53, 36.43, 34.95, 33.73, 33.03, 32.23], \"yaxis\": \"y\", \"type\": \"scatter\", \"uid\": \"caa2c794-df4f-434c-867c-a6db76a5bc5a\"}, {\"hovertemplate\": \"Professional League=Danish SAS-Ligaen<br>Offensive Score=%{x}<br>Soccer Power Index=%{y}<extra></extra>\", \"legendgroup\": \"Professional League=Danish SAS-Ligaen\", \"marker\": {\"color\": \"#ffa15a\", \"symbol\": \"circle\"}, \"mode\": \"markers\", \"name\": \"Professional League=Danish SAS-Ligaen\", \"showlegend\": true, \"x\": [2.08, 2.0, 1.7, 1.54, 1.25, 1.31, 1.2, 0.96, 0.93, 0.94, 0.88, 0.93, 0.89, 0.78], \"xaxis\": \"x\", \"y\": [68.4, 63.89, 46.87, 46.18, 43.74, 39.65, 37.58, 35.37, 31.98, 30.5, 27.64, 27.01, 26.11, 24.44], \"yaxis\": \"y\", \"type\": \"scatter\", \"uid\": \"c8fe62ab-9f6d-4a6f-a6f9-eef22c2f34e9\"}, {\"hovertemplate\": \"Professional League=Dutch Eredivisie<br>Offensive Score=%{x}<br>Soccer Power Index=%{y}<extra></extra>\", \"legendgroup\": \"Professional League=Dutch Eredivisie\", \"marker\": {\"color\": \"#ff6692\", \"symbol\": \"circle\"}, \"mode\": \"markers\", \"name\": \"Professional League=Dutch Eredivisie\", \"showlegend\": true, \"x\": [3.1, 2.49, 2.2, 1.85, 1.98, 1.79, 1.17, 1.83, 1.78, 1.6, 1.19, 1.3, 1.15, 1.17, 1.38, 1.15, 1.04, 0.92], \"xaxis\": \"x\", \"y\": [82.96, 77.89, 64.79, 63.27, 59.23, 49.34, 47.0, 44.51, 43.52, 40.01, 38.59, 36.82, 32.83, 31.79, 31.75, 26.83, 25.85, 23.54], \"yaxis\": \"y\", \"type\": \"scatter\", \"uid\": \"d5d054eb-cb1c-4c72-b1f6-4d3bb6d951a1\"}, {\"hovertemplate\": \"Professional League=English League Championship<br>Offensive Score=%{x}<br>Soccer Power Index=%{y}<extra></extra>\", \"legendgroup\": \"Professional League=English League Championship\", \"marker\": {\"color\": \"#b6e880\", \"symbol\": \"circle\"}, \"mode\": \"markers\", \"name\": \"Professional League=English League Championship\", \"showlegend\": true, \"x\": [1.71, 1.59, 1.78, 1.7, 1.59, 1.56, 1.43, 1.52, 1.3, 1.1, 1.36, 1.26, 1.34, 1.3, 1.36, 1.24, 1.39, 1.37, 1.31, 1.21, 1.26, 1.06, 0.98, 1.04], \"xaxis\": \"x\", \"y\": [63.1, 61.31, 59.21, 59.18, 56.45, 54.89, 53.61, 53.19, 52.85, 50.51, 49.9, 49.2, 48.57, 48.07, 47.98, 47.24, 46.16, 45.21, 44.76, 42.05, 39.47, 35.83, 34.35, 34.06], \"yaxis\": \"y\", \"type\": \"scatter\", \"uid\": \"c27172ba-b0b3-416e-a44c-c570e0e85a6e\"}, {\"hovertemplate\": \"Professional League=English League One<br>Offensive Score=%{x}<br>Soccer Power Index=%{y}<extra></extra>\", \"legendgroup\": \"Professional League=English League One\", \"marker\": {\"color\": \"#636efa\", \"symbol\": \"circle\"}, \"mode\": \"markers\", \"name\": \"Professional League=English League One\", \"showlegend\": true, \"x\": [1.37, 1.47, 1.0, 1.21, 0.83, 1.11, 0.93, 0.73, 0.76, 0.7, 0.9, 0.68, 0.83, 0.68, 0.79, 0.6, 0.72, 0.65, 0.54, 0.52, 0.61, 0.59, 0.68, 0.58], \"xaxis\": \"x\", \"y\": [48.29, 46.46, 39.7, 36.13, 32.5, 30.36, 29.93, 26.3, 24.74, 23.89, 23.43, 22.15, 21.87, 21.47, 21.07, 19.57, 17.18, 17.18, 17.15, 15.94, 15.15, 14.5, 13.84, 13.57], \"yaxis\": \"y\", \"type\": \"scatter\", \"uid\": \"81420154-faec-4098-b12f-62d23925af82\"}, {\"hovertemplate\": \"Professional League=English League Two<br>Offensive Score=%{x}<br>Soccer Power Index=%{y}<extra></extra>\", \"legendgroup\": \"Professional League=English League Two\", \"marker\": {\"color\": \"#EF553B\", \"symbol\": \"circle\"}, \"mode\": \"markers\", \"name\": \"Professional League=English League Two\", \"showlegend\": true, \"x\": [0.76, 0.72, 0.83, 0.83, 0.69, 0.6, 0.58, 0.55, 0.66, 0.45, 0.57, 0.62, 0.47, 0.4, 0.38, 0.35, 0.37, 0.22, 0.2, 0.29, 0.2, 0.28, 0.2, 0.2], \"xaxis\": \"x\", \"y\": [23.18, 21.48, 21.26, 20.17, 17.72, 17.49, 17.03, 16.33, 14.85, 14.78, 13.55, 13.35, 12.13, 10.76, 9.66, 9.22, 8.74, 8.66, 8.56, 8.22, 7.34, 6.94, 5.99, 4.81], \"yaxis\": \"y\", \"type\": \"scatter\", \"uid\": \"e3bcbc39-87e2-402c-9c94-e2b34e35d29c\"}, {\"hovertemplate\": \"Professional League=French Ligue 1<br>Offensive Score=%{x}<br>Soccer Power Index=%{y}<extra></extra>\", \"legendgroup\": \"Professional League=French Ligue 1\", \"marker\": {\"color\": \"#00cc96\", \"symbol\": \"circle\"}, \"mode\": \"markers\", \"name\": \"Professional League=French Ligue 1\", \"showlegend\": true, \"x\": [2.96, 2.2, 1.75, 1.73, 1.72, 1.67, 1.55, 1.61, 1.61, 1.56, 1.59, 1.44, 1.37, 1.48, 1.62, 1.49, 1.29, 1.3, 1.27, 1.17], \"xaxis\": \"x\", \"y\": [90.54, 75.14, 68.97, 67.8, 66.27, 64.97, 64.13, 63.67, 62.38, 62.08, 60.72, 59.31, 59.19, 59.17, 57.51, 56.81, 55.68, 53.09, 51.27, 47.86], \"yaxis\": \"y\", \"type\": \"scatter\", \"uid\": \"7683b0c9-aaf2-4231-9823-3f45a48de18f\"}, {\"hovertemplate\": \"Professional League=French Ligue 2<br>Offensive Score=%{x}<br>Soccer Power Index=%{y}<extra></extra>\", \"legendgroup\": \"Professional League=French Ligue 2\", \"marker\": {\"color\": \"#ab63fa\", \"symbol\": \"circle\"}, \"mode\": \"markers\", \"name\": \"Professional League=French Ligue 2\", \"showlegend\": true, \"x\": [1.2, 0.96, 1.14, 0.7, 0.86, 0.85, 1.18, 1.0, 1.13, 0.83, 0.9, 0.65, 0.73, 0.64, 0.61, 0.49, 0.46, 0.51, 0.32, 0.43], \"xaxis\": \"x\", \"y\": [46.41, 39.62, 39.05, 35.74, 33.83, 33.82, 33.08, 32.55, 30.02, 29.56, 28.37, 24.13, 22.81, 22.77, 21.2, 19.35, 18.08, 17.11, 14.39, 13.2], \"yaxis\": \"y\", \"type\": \"scatter\", \"uid\": \"19c40a01-ffe0-4c44-bd09-cdd7883a7dea\"}, {\"hovertemplate\": \"Professional League=German 2. Bundesliga<br>Offensive Score=%{x}<br>Soccer Power Index=%{y}<extra></extra>\", \"legendgroup\": \"Professional League=German 2. Bundesliga\", \"marker\": {\"color\": \"#19d3f3\", \"symbol\": \"circle\"}, \"mode\": \"markers\", \"name\": \"Professional League=German 2. Bundesliga\", \"showlegend\": true, \"x\": [1.75, 1.21, 1.25, 1.44, 1.32, 1.16, 1.26, 1.03, 1.06, 1.06, 0.98, 0.95, 0.91, 1.0, 0.88, 0.86, 0.8, 0.85], \"xaxis\": \"x\", \"y\": [54.94, 43.53, 42.01, 40.01, 37.31, 36.38, 35.42, 33.83, 33.36, 32.34, 31.75, 31.45, 31.45, 30.78, 30.44, 26.53, 26.12, 23.91], \"yaxis\": \"y\", \"type\": \"scatter\", \"uid\": \"d0790556-c7c4-425c-b146-72b6a66182b5\"}, {\"hovertemplate\": \"Professional League=German Bundesliga<br>Offensive Score=%{x}<br>Soccer Power Index=%{y}<extra></extra>\", \"legendgroup\": \"Professional League=German Bundesliga\", \"marker\": {\"color\": \"#e763fa\", \"symbol\": \"circle\"}, \"mode\": \"markers\", \"name\": \"Professional League=German Bundesliga\", \"showlegend\": true, \"x\": [3.16, 2.36, 2.18, 2.16, 2.31, 2.52, 2.06, 1.97, 1.86, 1.78, 1.87, 1.74, 1.75, 1.8, 1.74, 1.69, 1.44, 1.54], \"xaxis\": \"x\", \"y\": [92.57, 81.57, 81.53, 77.57, 77.19, 75.75, 69.71, 68.66, 66.45, 63.35, 63.33, 59.81, 59.01, 58.9, 58.85, 58.16, 52.03, 49.14], \"yaxis\": \"y\", \"type\": \"scatter\", \"uid\": \"18ecd11d-583e-47ca-9d42-9fc8280044c3\"}, {\"hovertemplate\": \"Professional League=Greek Super League<br>Offensive Score=%{x}<br>Soccer Power Index=%{y}<extra></extra>\", \"legendgroup\": \"Professional League=Greek Super League\", \"marker\": {\"color\": \"#fecb52\", \"symbol\": \"circle\"}, \"mode\": \"markers\", \"name\": \"Professional League=Greek Super League\", \"showlegend\": true, \"x\": [2.31, 2.24, 1.49, 1.37, 1.46, 1.01, 0.87, 1.17, 0.92, 0.67, 0.78, 0.76, 0.91, 0.83, 0.55, 0.59], \"xaxis\": \"x\", \"y\": [77.95, 77.14, 64.65, 53.75, 53.71, 44.88, 39.49, 38.77, 38.29, 37.04, 35.07, 34.5, 32.56, 29.97, 24.17, 20.33], \"yaxis\": \"y\", \"type\": \"scatter\", \"uid\": \"9eecda4b-a6b3-410a-9a8e-e40d960f08aa\"}, {\"hovertemplate\": \"Professional League=Italy Serie A<br>Offensive Score=%{x}<br>Soccer Power Index=%{y}<extra></extra>\", \"legendgroup\": \"Professional League=Italy Serie A\", \"marker\": {\"color\": \"#ffa15a\", \"symbol\": \"circle\"}, \"mode\": \"markers\", \"name\": \"Professional League=Italy Serie A\", \"showlegend\": true, \"x\": [2.42, 2.26, 2.2, 2.36, 2.0, 1.86, 2.24, 2.01, 1.92, 1.74, 1.75, 1.72, 1.65, 1.74, 1.65, 1.5, 1.57, 1.43, 1.45, 1.53], \"xaxis\": \"x\", \"y\": [86.55, 81.81, 81.16, 79.16, 76.57, 74.01, 73.06, 69.27, 69.17, 68.98, 62.5, 61.93, 60.94, 59.16, 58.49, 57.74, 56.63, 52.64, 52.25, 49.91], \"yaxis\": \"y\", \"type\": \"scatter\", \"uid\": \"98092d0e-b914-43a0-83fb-201b78c19504\"}, {\"hovertemplate\": \"Professional League=Italy Serie B<br>Offensive Score=%{x}<br>Soccer Power Index=%{y}<extra></extra>\", \"legendgroup\": \"Professional League=Italy Serie B\", \"marker\": {\"color\": \"#ff6692\", \"symbol\": \"circle\"}, \"mode\": \"markers\", \"name\": \"Professional League=Italy Serie B\", \"showlegend\": true, \"x\": [1.24, 1.04, 0.99, 0.94, 1.01, 0.99, 0.87, 0.92, 0.92, 0.75, 0.64, 0.73, 0.8, 0.83, 0.67, 0.66, 0.6, 0.58, 0.7], \"xaxis\": \"x\", \"y\": [37.2, 33.98, 33.53, 31.98, 31.47, 31.16, 31.12, 30.82, 30.15, 26.73, 24.85, 24.75, 24.56, 24.53, 20.86, 20.64, 19.94, 19.16, 18.56], \"yaxis\": \"y\", \"type\": \"scatter\", \"uid\": \"f2bdc0f7-bd8d-436f-8ad6-e3ed6089c445\"}, {\"hovertemplate\": \"Professional League=Japanese J League<br>Offensive Score=%{x}<br>Soccer Power Index=%{y}<extra></extra>\", \"legendgroup\": \"Professional League=Japanese J League\", \"marker\": {\"color\": \"#b6e880\", \"symbol\": \"circle\"}, \"mode\": \"markers\", \"name\": \"Professional League=Japanese J League\", \"showlegend\": true, \"x\": [1.41, 1.64, 1.41, 1.4, 1.41, 1.44, 1.36, 1.04, 1.0, 1.38, 0.94, 1.19, 1.34, 0.99, 0.67, 0.92, 0.74, 0.85, 0.75, 0.5], \"xaxis\": \"x\", \"y\": [51.98, 49.1, 48.53, 45.47, 42.77, 40.89, 40.48, 39.93, 39.21, 38.93, 36.4, 33.73, 33.48, 33.33, 28.76, 26.29, 25.05, 24.14, 23.85, 17.25], \"yaxis\": \"y\", \"type\": \"scatter\", \"uid\": \"73f8b288-3f7f-4070-a299-40dbeb8d6485\"}, {\"hovertemplate\": \"Professional League=Major League Soccer<br>Offensive Score=%{x}<br>Soccer Power Index=%{y}<extra></extra>\", \"legendgroup\": \"Professional League=Major League Soccer\", \"marker\": {\"color\": \"#636efa\", \"symbol\": \"circle\"}, \"mode\": \"markers\", \"name\": \"Professional League=Major League Soccer\", \"showlegend\": true, \"x\": [1.52, 1.62, 1.35, 1.42, 1.4, 1.58, 1.38, 1.35, 1.35, 1.17, 1.24, 1.54, 1.21, 1.37, 1.3, 1.16, 1.22, 1.3, 1.11, 1.15, 1.0, 1.19, 1.06, 0.91], \"xaxis\": \"x\", \"y\": [49.3, 49.29, 48.92, 47.58, 45.88, 45.6, 44.67, 43.23, 42.55, 42.48, 41.46, 40.61, 38.72, 38.57, 37.07, 35.34, 34.92, 33.84, 32.88, 32.21, 31.72, 30.9, 25.16, 24.77], \"yaxis\": \"y\", \"type\": \"scatter\", \"uid\": \"b1a6ffcc-3457-4a55-8696-ae8f4412194e\"}, {\"hovertemplate\": \"Professional League=Mexican Primera Division Torneo Clausura<br>Offensive Score=%{x}<br>Soccer Power Index=%{y}<extra></extra>\", \"legendgroup\": \"Professional League=Mexican Primera Division Torneo Clausura\", \"marker\": {\"color\": \"#EF553B\", \"symbol\": \"circle\"}, \"mode\": \"markers\", \"name\": \"Professional League=Mexican Primera Division Torneo Clausura\", \"showlegend\": true, \"x\": [1.67, 1.71, 1.65, 1.55, 1.42, 1.54, 1.41, 1.34, 1.37, 1.23, 1.34, 1.2, 1.17, 1.15, 1.18, 1.03, 1.03, 0.86], \"xaxis\": \"x\", \"y\": [61.92, 61.5, 61.24, 55.21, 53.21, 50.89, 49.64, 46.8, 46.65, 46.12, 44.62, 44.02, 42.59, 39.54, 38.21, 36.62, 32.34, 27.93], \"yaxis\": \"y\", \"type\": \"scatter\", \"uid\": \"f984dc04-6f67-42cc-9e95-89137f3a1689\"}, {\"hovertemplate\": \"Professional League=Norwegian Tippeligaen<br>Offensive Score=%{x}<br>Soccer Power Index=%{y}<extra></extra>\", \"legendgroup\": \"Professional League=Norwegian Tippeligaen\", \"marker\": {\"color\": \"#00cc96\", \"symbol\": \"circle\"}, \"mode\": \"markers\", \"name\": \"Professional League=Norwegian Tippeligaen\", \"showlegend\": true, \"x\": [1.5, 1.68, 1.28, 1.16, 1.28, 1.08, 1.12, 1.04, 1.01, 0.88, 1.0, 0.98, 0.86, 1.0, 0.78, 0.85, 0.7, 0.74], \"xaxis\": \"x\", \"y\": [51.39, 50.16, 38.22, 36.74, 33.76, 33.25, 31.51, 30.93, 30.45, 29.04, 26.93, 26.79, 25.9, 25.03, 22.98, 22.39, 20.03, 19.26], \"yaxis\": \"y\", \"type\": \"scatter\", \"uid\": \"33313a45-62ea-4406-af68-20895b3c93da\"}, {\"hovertemplate\": \"Professional League=Portuguese Liga<br>Offensive Score=%{x}<br>Soccer Power Index=%{y}<extra></extra>\", \"legendgroup\": \"Professional League=Portuguese Liga\", \"marker\": {\"color\": \"#ab63fa\", \"symbol\": \"circle\"}, \"mode\": \"markers\", \"name\": \"Professional League=Portuguese Liga\", \"showlegend\": true, \"x\": [2.28, 2.21, 1.85, 1.62, 1.31, 1.23, 1.23, 1.43, 1.19, 0.98, 1.12, 1.09, 1.06, 1.23, 1.17, 1.24, 1.0, 0.9], \"xaxis\": \"x\", \"y\": [79.87, 77.07, 68.48, 62.61, 53.91, 47.79, 47.14, 46.94, 46.65, 42.49, 42.49, 42.23, 41.59, 41.27, 40.13, 39.25, 37.02, 33.7], \"yaxis\": \"y\", \"type\": \"scatter\", \"uid\": \"70cc8fe3-a6db-4c8e-9141-aad91e6374d3\"}, {\"hovertemplate\": \"Professional League=Russian Premier Liga<br>Offensive Score=%{x}<br>Soccer Power Index=%{y}<extra></extra>\", \"legendgroup\": \"Professional League=Russian Premier Liga\", \"marker\": {\"color\": \"#19d3f3\", \"symbol\": \"circle\"}, \"mode\": \"markers\", \"name\": \"Professional League=Russian Premier Liga\", \"showlegend\": true, \"x\": [1.91, 1.74, 1.63, 1.69, 1.73, 1.53, 1.1, 1.1, 1.33, 1.11, 1.09, 1.13, 1.2, 1.19, 1.02, 0.82], \"xaxis\": \"x\", \"y\": [71.49, 71.1, 65.21, 63.94, 63.23, 56.23, 55.85, 52.2, 51.53, 49.66, 48.97, 47.3, 43.76, 42.45, 33.22, 30.24], \"yaxis\": \"y\", \"type\": \"scatter\", \"uid\": \"2e57c70f-7006-4982-bea0-fcb0ee837766\"}, {\"hovertemplate\": \"Professional League=Scottish Premiership<br>Offensive Score=%{x}<br>Soccer Power Index=%{y}<extra></extra>\", \"legendgroup\": \"Professional League=Scottish Premiership\", \"marker\": {\"color\": \"#e763fa\", \"symbol\": \"circle\"}, \"mode\": \"markers\", \"name\": \"Professional League=Scottish Premiership\", \"showlegend\": true, \"x\": [1.77, 1.79, 1.31, 1.16, 0.99, 0.93, 0.75, 0.76, 0.62, 0.53, 0.52, 0.4], \"xaxis\": \"x\", \"y\": [66.06, 60.03, 38.93, 38.83, 38.23, 30.47, 26.3, 26.19, 20.72, 14.31, 12.48, 8.96], \"yaxis\": \"y\", \"type\": \"scatter\", \"uid\": \"7ae22fa5-533c-4ea6-9607-1d8a96576e68\"}, {\"hovertemplate\": \"Professional League=South African ABSA Premier League<br>Offensive Score=%{x}<br>Soccer Power Index=%{y}<extra></extra>\", \"legendgroup\": \"Professional League=South African ABSA Premier League\", \"marker\": {\"color\": \"#fecb52\", \"symbol\": \"circle\"}, \"mode\": \"markers\", \"name\": \"Professional League=South African ABSA Premier League\", \"showlegend\": true, \"x\": [0.94, 0.98, 1.13, 0.84, 1.0, 0.89, 0.61, 0.78, 0.8, 0.62, 0.69, 0.66, 0.47, 0.48, 0.5, 0.58], \"xaxis\": \"x\", \"y\": [38.69, 35.77, 34.85, 32.98, 31.59, 29.33, 25.53, 24.31, 23.3, 22.58, 20.82, 18.92, 18.88, 18.52, 17.61, 16.2], \"yaxis\": \"y\", \"type\": \"scatter\", \"uid\": \"34199c7d-b046-4972-b527-a83ebeb27d97\"}, {\"hovertemplate\": \"Professional League=Spanish Primera Division<br>Offensive Score=%{x}<br>Soccer Power Index=%{y}<extra></extra>\", \"legendgroup\": \"Professional League=Spanish Primera Division\", \"marker\": {\"color\": \"#ffa15a\", \"symbol\": \"circle\"}, \"mode\": \"markers\", \"name\": \"Professional League=Spanish Primera Division\", \"showlegend\": true, \"x\": [3.23, 2.18, 2.79, 2.11, 2.36, 2.2, 1.88, 1.91, 1.82, 2.02, 2.14, 1.96, 1.89, 1.89, 1.82, 1.99, 1.79, 1.72, 1.98, 1.93], \"xaxis\": \"x\", \"y\": [92.43, 86.92, 86.77, 82.57, 81.78, 79.43, 78.62, 77.95, 76.57, 76.41, 74.06, 72.33, 71.3, 70.91, 70.38, 68.64, 66.24, 65.82, 65.06, 64.29], \"yaxis\": \"y\", \"type\": \"scatter\", \"uid\": \"9fe28a02-f531-4d56-a240-e5cd90f9499c\"}, {\"hovertemplate\": \"Professional League=Spanish Segunda Division<br>Offensive Score=%{x}<br>Soccer Power Index=%{y}<extra></extra>\", \"legendgroup\": \"Professional League=Spanish Segunda Division\", \"marker\": {\"color\": \"#ff6692\", \"symbol\": \"circle\"}, \"mode\": \"markers\", \"name\": \"Professional League=Spanish Segunda Division\", \"showlegend\": true, \"x\": [1.14, 0.97, 0.97, 0.91, 1.07, 0.81, 0.93, 0.79, 0.75, 0.79, 0.86, 0.86, 0.82, 0.9, 0.82, 0.96, 0.66, 0.71, 1.01, 0.56, 0.62, 0.43], \"xaxis\": \"x\", \"y\": [43.97, 39.92, 38.74, 38.68, 37.87, 37.74, 37.66, 36.14, 32.87, 31.9, 30.85, 30.33, 29.06, 28.57, 28.36, 28.15, 25.2, 24.49, 23.83, 21.75, 20.99, 15.66], \"yaxis\": \"y\", \"type\": \"scatter\", \"uid\": \"1a83b7df-7a8f-4f8c-907b-747251cebf66\"}, {\"hovertemplate\": \"Professional League=Swedish Allsvenskan<br>Offensive Score=%{x}<br>Soccer Power Index=%{y}<extra></extra>\", \"legendgroup\": \"Professional League=Swedish Allsvenskan\", \"marker\": {\"color\": \"#b6e880\", \"symbol\": \"circle\"}, \"mode\": \"markers\", \"name\": \"Professional League=Swedish Allsvenskan\", \"showlegend\": true, \"x\": [1.66, 1.32, 1.48, 1.47, 1.38, 1.3, 1.15, 1.12, 0.98, 0.87, 0.99, 0.83, 0.96, 0.68, 0.69, 0.65, 0.57, 0.67, 0.57], \"xaxis\": \"x\", \"y\": [58.38, 53.57, 50.46, 46.57, 43.72, 42.05, 38.55, 34.95, 28.86, 26.91, 25.27, 25.2, 24.82, 23.44, 19.72, 18.19, 17.36, 15.39, 11.9], \"yaxis\": \"y\", \"type\": \"scatter\", \"uid\": \"8f22a609-1860-4284-93e1-ef3eeb65ad7f\"}, {\"hovertemplate\": \"Professional League=Swiss Raiffeisen Super League<br>Offensive Score=%{x}<br>Soccer Power Index=%{y}<extra></extra>\", \"legendgroup\": \"Professional League=Swiss Raiffeisen Super League\", \"marker\": {\"color\": \"#636efa\", \"symbol\": \"circle\"}, \"mode\": \"markers\", \"name\": \"Professional League=Swiss Raiffeisen Super League\", \"showlegend\": true, \"x\": [2.29, 1.98, 1.67, 1.45, 1.24, 1.45, 1.22, 1.43, 1.27, 0.91], \"xaxis\": \"x\", \"y\": [73.44, 66.5, 48.79, 48.01, 45.35, 44.62, 43.69, 40.55, 36.87, 30.98], \"yaxis\": \"y\", \"type\": \"scatter\", \"uid\": \"7993e52f-da6d-4151-a302-c5a5349fd703\"}, {\"hovertemplate\": \"Professional League=Turkish Turkcell Super Lig<br>Offensive Score=%{x}<br>Soccer Power Index=%{y}<extra></extra>\", \"legendgroup\": \"Professional League=Turkish Turkcell Super Lig\", \"marker\": {\"color\": \"#EF553B\", \"symbol\": \"circle\"}, \"mode\": \"markers\", \"name\": \"Professional League=Turkish Turkcell Super Lig\", \"showlegend\": true, \"x\": [2.2, 1.73, 2.16, 1.89, 1.61, 1.69, 1.21, 1.42, 1.57, 1.31, 1.67, 1.12, 1.16, 1.07, 1.14, 1.21, 1.2, 1.07], \"xaxis\": \"x\", \"y\": [72.58, 72.07, 64.52, 59.07, 55.95, 55.77, 48.79, 48.17, 46.96, 45.47, 44.9, 42.56, 42.04, 41.8, 40.17, 39.79, 37.34, 34.94], \"yaxis\": \"y\", \"type\": \"scatter\", \"uid\": \"7bb16cfa-d981-4110-8284-2ae153ae818c\"}, {\"hovertemplate\": \"Professional League=UEFA Champions League<br>Offensive Score=%{x}<br>Soccer Power Index=%{y}<extra></extra>\", \"legendgroup\": \"Professional League=UEFA Champions League\", \"marker\": {\"color\": \"#00cc96\", \"symbol\": \"circle\"}, \"mode\": \"markers\", \"name\": \"Professional League=UEFA Champions League\", \"showlegend\": true, \"x\": [2.02], \"xaxis\": \"x\", \"y\": [63.24], \"yaxis\": \"y\", \"type\": \"scatter\", \"uid\": \"34e32440-3f33-4e3b-8dcf-779ea1e9959f\"}, {\"hovertemplate\": \"Professional League=UEFA Europa League<br>Offensive Score=%{x}<br>Soccer Power Index=%{y}<extra></extra>\", \"legendgroup\": \"Professional League=UEFA Europa League\", \"marker\": {\"color\": \"#ab63fa\", \"symbol\": \"circle\"}, \"mode\": \"markers\", \"name\": \"Professional League=UEFA Europa League\", \"showlegend\": true, \"x\": [2.15, 1.98, 1.68, 1.98, 1.55, 1.67, 1.46, 1.31, 1.51, 1.37, 1.26, 1.19, 1.17, 1.21, 1.35, 0.9], \"xaxis\": \"x\", \"y\": [71.79, 68.7, 64.16, 62.31, 60.37, 56.76, 55.07, 53.85, 50.51, 49.03, 46.48, 46.43, 45.21, 44.06, 37.32, 35.94], \"yaxis\": \"y\", \"type\": \"scatter\", \"uid\": \"7ec308d5-3c9d-4371-bb42-6d444ae1ec23\"}, {\"hovertemplate\": \"Professional League=United Soccer League<br>Offensive Score=%{x}<br>Soccer Power Index=%{y}<extra></extra>\", \"legendgroup\": \"Professional League=United Soccer League\", \"marker\": {\"color\": \"#19d3f3\", \"symbol\": \"circle\"}, \"mode\": \"markers\", \"name\": \"Professional League=United Soccer League\", \"showlegend\": true, \"x\": [1.29, 1.17, 0.91, 0.94, 1.11, 0.99, 0.97, 0.81, 1.15, 0.88, 1.09, 0.95, 0.73, 0.79, 0.83, 0.69, 0.68, 0.69, 0.77, 0.79, 0.85, 0.62, 0.93, 0.48, 0.63, 0.53, 0.67, 0.55, 0.7, 0.5, 0.82, 0.53, 0.41, 0.42, 0.37, 0.43, 0.2, 0.28, 0.26], \"xaxis\": \"x\", \"y\": [32.47, 30.17, 29.8, 28.45, 28.38, 27.68, 26.63, 26.37, 25.53, 25.44, 24.88, 24.31, 23.32, 22.53, 21.21, 21.13, 21.07, 20.37, 19.54, 19.37, 19.23, 18.11, 17.11, 16.18, 16.15, 14.92, 14.86, 14.69, 13.67, 13.49, 13.27, 11.94, 11.9, 11.67, 10.59, 9.86, 7.15, 6.35, 4.2], \"yaxis\": \"y\", \"type\": \"scatter\", \"uid\": \"8c0f1c6d-cbee-4e14-bd4b-8b665c176231\"}], {\"height\": 600, \"legend\": {\"tracegroupgap\": 0}, \"margin\": {\"t\": 60}, \"template\": {\"data\": {\"barpolar\": [{\"marker\": {\"line\": {\"color\": \"#E5ECF6\", \"width\": 0.5}}, \"type\": \"barpolar\"}], \"bar\": [{\"marker\": {\"line\": {\"color\": \"#E5ECF6\", \"width\": 0.5}}, \"type\": \"bar\"}], \"carpet\": [{\"aaxis\": {\"endlinecolor\": \"#2a3f5f\", \"gridcolor\": \"white\", \"linecolor\": \"white\", \"minorgridcolor\": \"white\", \"startlinecolor\": \"#2a3f5f\"}, \"baxis\": {\"endlinecolor\": \"#2a3f5f\", \"gridcolor\": \"white\", \"linecolor\": \"white\", \"minorgridcolor\": \"white\", \"startlinecolor\": \"#2a3f5f\"}, \"type\": \"carpet\"}], \"choropleth\": [{\"colorbar\": {\"outlinewidth\": 0, \"ticks\": \"\"}, \"type\": \"choropleth\"}], \"contourcarpet\": [{\"colorbar\": {\"outlinewidth\": 0, \"ticks\": \"\"}, \"type\": \"contourcarpet\"}], \"contour\": [{\"autocolorscale\": true, \"colorbar\": {\"outlinewidth\": 0, \"ticks\": \"\"}, \"type\": \"contour\"}], \"heatmapgl\": [{\"colorbar\": {\"outlinewidth\": 0, \"ticks\": \"\"}, \"type\": \"heatmapgl\"}], \"heatmap\": [{\"autocolorscale\": true, \"colorbar\": {\"outlinewidth\": 0, \"ticks\": \"\"}, \"type\": \"heatmap\"}], \"histogram2dcontour\": [{\"autocolorscale\": true, \"colorbar\": {\"outlinewidth\": 0, \"ticks\": \"\"}, \"type\": \"histogram2dcontour\"}], \"histogram2d\": [{\"autocolorscale\": true, \"colorbar\": {\"outlinewidth\": 0, \"ticks\": \"\"}, \"type\": \"histogram2d\"}], \"histogram\": [{\"marker\": {\"colorbar\": {\"outlinewidth\": 0, \"ticks\": \"\"}}, \"type\": \"histogram\"}], \"mesh3d\": [{\"colorbar\": {\"outlinewidth\": 0, \"ticks\": \"\"}, \"type\": \"mesh3d\"}], \"parcoords\": [{\"line\": {\"colorbar\": {\"outlinewidth\": 0, \"ticks\": \"\"}}, \"type\": \"parcoords\"}], \"scatter3d\": [{\"marker\": {\"colorbar\": {\"outlinewidth\": 0, \"ticks\": \"\"}}, \"type\": \"scatter3d\"}], \"scattercarpet\": [{\"marker\": {\"colorbar\": {\"outlinewidth\": 0, \"ticks\": \"\"}}, \"type\": \"scattercarpet\"}], \"scattergeo\": [{\"marker\": {\"colorbar\": {\"outlinewidth\": 0, \"ticks\": \"\"}}, \"type\": \"scattergeo\"}], \"scattergl\": [{\"marker\": {\"colorbar\": {\"outlinewidth\": 0, \"ticks\": \"\"}}, \"type\": \"scattergl\"}], \"scattermapbox\": [{\"marker\": {\"colorbar\": {\"outlinewidth\": 0, \"ticks\": \"\"}}, \"type\": \"scattermapbox\"}], \"scatterpolargl\": [{\"marker\": {\"colorbar\": {\"outlinewidth\": 0, \"ticks\": \"\"}}, \"type\": \"scatterpolargl\"}], \"scatterpolar\": [{\"marker\": {\"colorbar\": {\"outlinewidth\": 0, \"ticks\": \"\"}}, \"type\": \"scatterpolar\"}], \"scatter\": [{\"marker\": {\"colorbar\": {\"outlinewidth\": 0, \"ticks\": \"\"}}, \"type\": \"scatter\"}], \"scatterternary\": [{\"marker\": {\"colorbar\": {\"outlinewidth\": 0, \"ticks\": \"\"}}, \"type\": \"scatterternary\"}], \"surface\": [{\"colorbar\": {\"outlinewidth\": 0, \"ticks\": \"\"}, \"type\": \"surface\"}], \"table\": [{\"cells\": {\"fill\": {\"color\": \"#EBF0F8\"}, \"line\": {\"color\": \"white\"}}, \"header\": {\"fill\": {\"color\": \"#C8D4E3\"}, \"line\": {\"color\": \"white\"}}, \"type\": \"table\"}]}, \"layout\": {\"annotationdefaults\": {\"arrowcolor\": \"#506784\", \"arrowhead\": 0, \"arrowwidth\": 1}, \"colorscale\": {\"diverging\": [[0, \"#8e0152\"], [0.1, \"#c51b7d\"], [0.2, \"#de77ae\"], [0.3, \"#f1b6da\"], [0.4, \"#fde0ef\"], [0.5, \"#f7f7f7\"], [0.6, \"#e6f5d0\"], [0.7, \"#b8e186\"], [0.8, \"#7fbc41\"], [0.9, \"#4d9221\"], [1, \"#276419\"]], \"sequential\": [[0.0, \"#0508b8\"], [0.0893854748603352, \"#1910d8\"], [0.1787709497206704, \"#3c19f0\"], [0.2681564245810056, \"#6b1cfb\"], [0.3575418994413408, \"#981cfd\"], [0.44692737430167595, \"#bf1cfd\"], [0.5363128491620112, \"#dd2bfd\"], [0.6256983240223464, \"#f246fe\"], [0.7150837988826816, \"#fc67fd\"], [0.8044692737430168, \"#fe88fc\"], [0.8938547486033519, \"#fea5fd\"], [0.9832402234636871, \"#febefe\"], [1.0, \"#fec3fe\"]], \"sequentialminus\": [[0.0, \"#0508b8\"], [0.0893854748603352, \"#1910d8\"], [0.1787709497206704, \"#3c19f0\"], [0.2681564245810056, \"#6b1cfb\"], [0.3575418994413408, \"#981cfd\"], [0.44692737430167595, \"#bf1cfd\"], [0.5363128491620112, \"#dd2bfd\"], [0.6256983240223464, \"#f246fe\"], [0.7150837988826816, \"#fc67fd\"], [0.8044692737430168, \"#fe88fc\"], [0.8938547486033519, \"#fea5fd\"], [0.9832402234636871, \"#febefe\"], [1.0, \"#fec3fe\"]]}, \"colorway\": [\"#636efa\", \"#EF553B\", \"#00cc96\", \"#ab63fa\", \"#19d3f3\", \"#e763fa\", \"#FECB52\", \"#FFA15A\", \"#FF6692\", \"#B6E880\"], \"font\": {\"color\": \"#2a3f5f\"}, \"geo\": {\"bgcolor\": \"white\", \"lakecolor\": \"white\", \"landcolor\": \"#E5ECF6\", \"showlakes\": true, \"showland\": true, \"subunitcolor\": \"white\"}, \"hovermode\": \"closest\", \"mapbox\": {\"style\": \"light\"}, \"paper_bgcolor\": \"white\", \"plot_bgcolor\": \"#E5ECF6\", \"polar\": {\"angularaxis\": {\"gridcolor\": \"white\", \"linecolor\": \"white\", \"ticks\": \"\"}, \"bgcolor\": \"#E5ECF6\", \"radialaxis\": {\"gridcolor\": \"white\", \"linecolor\": \"white\", \"ticks\": \"\"}}, \"scene\": {\"xaxis\": {\"backgroundcolor\": \"#E5ECF6\", \"gridcolor\": \"white\", \"gridwidth\": 2, \"linecolor\": \"white\", \"showbackground\": true, \"ticks\": \"\", \"zerolinecolor\": \"white\"}, \"yaxis\": {\"backgroundcolor\": \"#E5ECF6\", \"gridcolor\": \"white\", \"gridwidth\": 2, \"linecolor\": \"white\", \"showbackground\": true, \"ticks\": \"\", \"zerolinecolor\": \"white\"}, \"zaxis\": {\"backgroundcolor\": \"#E5ECF6\", \"gridcolor\": \"white\", \"gridwidth\": 2, \"linecolor\": \"white\", \"showbackground\": true, \"ticks\": \"\", \"zerolinecolor\": \"white\"}}, \"shapedefaults\": {\"fillcolor\": \"#506784\", \"line\": {\"width\": 0}, \"opacity\": 0.4}, \"ternary\": {\"aaxis\": {\"gridcolor\": \"white\", \"linecolor\": \"white\", \"ticks\": \"\"}, \"baxis\": {\"gridcolor\": \"white\", \"linecolor\": \"white\", \"ticks\": \"\"}, \"bgcolor\": \"#E5ECF6\", \"caxis\": {\"gridcolor\": \"white\", \"linecolor\": \"white\", \"ticks\": \"\"}}, \"title\": {\"x\": 0.05}, \"xaxis\": {\"automargin\": true, \"gridcolor\": \"white\", \"linecolor\": \"white\", \"ticks\": \"\", \"zerolinecolor\": \"white\", \"zerolinewidth\": 2}, \"yaxis\": {\"automargin\": true, \"gridcolor\": \"white\", \"linecolor\": \"white\", \"ticks\": \"\", \"zerolinecolor\": \"white\", \"zerolinewidth\": 2}}}, \"grid\": {\"xaxes\": [\"x\"], \"yaxes\": [\"y\"], \"xgap\": 0.1, \"ygap\": 0.1, \"xside\": \"bottom\", \"yside\": \"left\"}, \"xaxis\": {\"title\": {\"text\": \"Offensive Score\"}}, \"yaxis\": {\"title\": {\"text\": \"Soccer Power Index\"}}}, {\"showLink\": false, \"linkText\": \"Export to plot.ly\", \"plotlyServerURL\": \"https://plot.ly\"}); \n",
       "}\n",
       "});</script><script type=\"text/javascript\">window.addEventListener(\"resize\", function(){if (document.getElementById(\"5ab47626-f9f4-4dd6-8970-bc5e9369f546\")) {window._Plotly.Plots.resize(document.getElementById(\"5ab47626-f9f4-4dd6-8970-bc5e9369f546\"));};})</script>"
      ]
     },
     "metadata": {},
     "output_type": "display_data"
    }
   ],
   "source": [
    "#Plot of Soccer Power Index on Offensive Score by national league \n",
    "#sns.relplot(x=\"Offensive Score\", y=\"Soccer Power Index\", hue=\"Professional League\", data=club_data);\n",
    "px.scatter(club_data, x=\"Offensive Score\", y=\"Soccer Power Index\", color=\"Professional League\")"
   ]
  },
  {
   "cell_type": "code",
   "execution_count": 12,
   "metadata": {},
   "outputs": [],
   "source": [
    "club_array = club_anony.values #converts the anonymized data set into a numpy array\n",
    "#I initially tried to do this with the full data set, but something about having text-based data points was messing up the plotting"
   ]
  },
  {
   "cell_type": "markdown",
   "metadata": {},
   "source": [
    "## Multi-Dimensional Visualization\n",
    "Plots the anonymized numpy array that was created. I'm not 100% sure how to interpret this multi-dimensional data without the club information or league information. It seems that these are plotted by individual rankings.\n",
    "\n",
    "I initially attempted to create this plot with the full data set, but several errors kept popping up. One error mentioned that not all of the data being \"float\" format, which inspired me to drop the first two columns. I had previously also tried manually converting everything to \"float,\" but that method was unsuccessful. "
   ]
  },
  {
   "cell_type": "code",
   "execution_count": 13,
   "metadata": {
    "scrolled": true
   },
   "outputs": [
    {
     "data": {
      "image/png": "[encoded data removed]",
      "text/plain": [
       "<Figure size 432x288 with 1 Axes>"
      ]
     },
     "metadata": {},
     "output_type": "display_data"
    },
    {
     "data": {
      "text/plain": [
       "<hypertools.datageometry.DataGeometry at 0x2b62a284c358>"
      ]
     },
     "execution_count": 13,
     "metadata": {},
     "output_type": "execute_result"
    }
   ],
   "source": [
    "hyp.plot(club_array, 'o', hue=np.array(club_data.index), reduce='FastICA')"
   ]
  }
 ],
 "metadata": {
  "kernelspec": {
   "display_name": "Psych 81.09",
   "language": "python",
   "name": "psych81.09"
  },
  "language_info": {
   "codemirror_mode": {
    "name": "ipython",
    "version": 3
   },
   "file_extension": ".py",
   "mimetype": "text/x-python",
   "name": "python",
   "nbconvert_exporter": "python",
   "pygments_lexer": "ipython3",
   "version": "3.6.8"
  }
 },
 "nbformat": 4,
 "nbformat_minor": 2
}
