{
 "cells": [
  {
   "cell_type": "code",
   "execution_count": 8,
   "metadata": {
    "collapsed": true
   },
   "outputs": [],
   "source": [
    "from twitterscraper import query_tweets"
   ]
  },
  {
   "cell_type": "code",
   "execution_count": 32,
   "metadata": {
    "collapsed": true
   },
   "outputs": [],
   "source": [
    "n_tweets = 10\n",
    "tweets = []\n",
    "for tweet in query_tweets(\"under armour\", n_tweets)[:n_tweets]:\n",
    "    tweets.append(tweet)"
   ]
  },
  {
   "cell_type": "code",
   "execution_count": 33,
   "metadata": {},
   "outputs": [
    {
     "data": {
      "text/plain": [
       "['Putain les Anorak Under Armour y sont archi lourd faut j’en pète un',\n",
       " 'Check out this great item: Under Armour Twist Low Crown Cap 1291864-100 M/L  http://froo.co/592KJIg00s\\xa0',\n",
       " \".@StephenCurry30's next Under Armour signature shoe releases this Saturday https://trib.al/sHtb7vB\\xa0pic.twitter.com/OMXio3tHkC\",\n",
       " '14,001',\n",
       " 'Smart garments in Baltimore: It ain’t just Under Armour http://www.baltimorefishbowl.com/stories/smart-garments-in-baltimore-it-aint-just-under-armour/\\xa0…',\n",
       " '',\n",
       " '“Under Armour still a trash brand”',\n",
       " \"Undrafted, self-made, i seen you at ODU, straight dawg. I'm extremely grateful that you have improved so much and you chose @ATLHawks \",\n",
       " 'At least 4',\n",
       " 'Wowowowow Under Armour shorts are so comfortable']"
      ]
     },
     "execution_count": 33,
     "metadata": {},
     "output_type": "execute_result"
    }
   ],
   "source": [
    "tweet_text = list(map(lambda x: x.text, tweets))\n",
    "tweet_text"
   ]
  },
  {
   "cell_type": "code",
   "execution_count": 7,
   "metadata": {
    "collapsed": true
   },
   "outputs": [],
   "source": [
    "n_topics = 10"
   ]
  },
  {
   "cell_type": "code",
   "execution_count": null,
   "metadata": {
    "collapsed": true
   },
   "outputs": [],
   "source": [
    "from sklearn.feature_extraction.text import TfidfVectorizer, CountVectorizer\n",
    "\n",
    "no_features = 1000\n",
    "\n",
    "# NMF is able to use tf-idf\n",
    "tfidf_vectorizer = TfidfVectorizer(max_df=0.95, min_df=2, max_features=no_features, stop_words='english')\n",
    "tfidf = tfidf_vectorizer.fit_transform(documents)\n",
    "tfidf_feature_names = tfidf_vectorizer.get_feature_names()\n",
    "\n",
    "# LDA can only use raw term counts for LDA because it is a probabilistic graphical model\n",
    "tf_vectorizer = CountVectorizer(max_df=0.95, min_df=2, max_features=no_features, stop_words='english')\n",
    "tf = tf_vectorizer.fit_transform(documents)\n",
    "tf_feature_names = tf_vectorizer.get_feature_names()"
   ]
  }
 ],
 "metadata": {
  "kernelspec": {
   "display_name": "Python 3",
   "language": "python",
   "name": "python3"
  },
  "language_info": {
   "codemirror_mode": {
    "name": "ipython",
    "version": 3
   },
   "file_extension": ".py",
   "mimetype": "text/x-python",
   "name": "python",
   "nbconvert_exporter": "python",
   "pygments_lexer": "ipython3",
   "version": "3.6.1"
  }
 },
 "nbformat": 4,
 "nbformat_minor": 2
}
