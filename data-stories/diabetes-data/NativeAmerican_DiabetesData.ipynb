{
 "cells": [
  {
   "cell_type": "markdown",
   "metadata": {},
   "source": [
    "# Diabetes Project \n",
    "Tia Yazzie \n",
    "\n",
    "objectives: \n",
    "- compare data from individual American Indian Communities\n",
    "    - retrieved the data from: https://gis.cdc.gov/grasp/diabetes/DiabetesAtlas.html and https://www.census.gov/tribal/?st=04&aianihh=4708 and https://www.census.gov/quickfacts/fact/table/"
   ]
  },
  {
   "cell_type": "code",
   "execution_count": 1,
   "metadata": {},
   "outputs": [],
   "source": [
    "#imports \n",
    "import numpy as np\n",
    "from geopy.geocoders import Nominatim\n",
    "import pandas as pd\n",
    "import matplotlib.pyplot as plt\n",
    "import plotly_express as px \n",
    "import folium as fm\n",
    "from folium.plugins import FastMarkerCluster # In order to add map markers\n",
    "import json \n",
    "\n",
    "%matplotlib inline"
   ]
  },
  {
   "cell_type": "markdown",
   "metadata": {},
   "source": [
    "# Load in data"
   ]
  },
  {
   "cell_type": "code",
   "execution_count": 2,
   "metadata": {},
   "outputs": [
    {
     "ename": "NameError",
     "evalue": "name 'os' is not defined",
     "output_type": "error",
     "traceback": [
      "\u001b[0;31m---------------------------------------------------------------------------\u001b[0m",
      "\u001b[0;31mNameError\u001b[0m                                 Traceback (most recent call last)",
      "\u001b[0;32m<ipython-input-2-46c04692b3b9>\u001b[0m in \u001b[0;36m<module>\u001b[0;34m\u001b[0m\n\u001b[1;32m      9\u001b[0m \u001b[0mLL\u001b[0m \u001b[0;34m=\u001b[0m \u001b[0mpd\u001b[0m\u001b[0;34m.\u001b[0m\u001b[0mread_excel\u001b[0m\u001b[0;34m(\u001b[0m\u001b[0;34m'Lat_LonAZ.xlsx'\u001b[0m\u001b[0;34m)\u001b[0m\u001b[0;34m\u001b[0m\u001b[0;34m\u001b[0m\u001b[0m\n\u001b[1;32m     10\u001b[0m \u001b[0;34m\u001b[0m\u001b[0m\n\u001b[0;32m---> 11\u001b[0;31m \u001b[0mstate_geo\u001b[0m \u001b[0;34m=\u001b[0m \u001b[0mos\u001b[0m\u001b[0;34m.\u001b[0m\u001b[0mpath\u001b[0m\u001b[0;34m.\u001b[0m\u001b[0mjoin\u001b[0m\u001b[0;34m(\u001b[0m\u001b[0;34m)\u001b[0m\u001b[0;34m\u001b[0m\u001b[0;34m\u001b[0m\u001b[0m\n\u001b[0m",
      "\u001b[0;31mNameError\u001b[0m: name 'os' is not defined"
     ]
    }
   ],
   "source": [
    "#load in datasets\n",
    "excel_file = 'AZDiabetes.7tribes.xlsx'\n",
    "bigdata = pd.read_excel(excel_file)\n",
    "\n",
    "df = pd.read_csv('DiabetesAtlasCountyData1.csv')\n",
    "\n",
    "dframe = pd.read_csv('DiabetesAtlasCountyData2.csv')\n",
    "\n",
    "LL = pd.read_excel('Lat_LonAZ.xlsx')\n",
    "\n",
    "state_geo = os.path.join()\n"
   ]
  },
  {
   "cell_type": "code",
   "execution_count": null,
   "metadata": {},
   "outputs": [],
   "source": [
    "#Create a colorscale for my map\n",
    "colorscale = [\"#141d43\",\"#15425a\",\"#0a6671\",\"#26897d\",\"#67a989\",\"#acc5a6\",\"#e0e1d2\",\n",
    "              \"#f0dbce\",\"#e4ae98\",\"#d47c6f\",\"#bb4f61\",\"#952b5f\",\"651656\",\"330d35\"]"
   ]
  },
  {
   "cell_type": "code",
   "execution_count": null,
   "metadata": {},
   "outputs": [],
   "source": [
    "#second data frame I am using from www.cdc.gov\n",
    "df"
   ]
  },
  {
   "cell_type": "markdown",
   "metadata": {},
   "source": [
    "# Data Cleanup "
   ]
  },
  {
   "cell_type": "code",
   "execution_count": null,
   "metadata": {},
   "outputs": [],
   "source": [
    "df.columns.values"
   ]
  },
  {
   "cell_type": "code",
   "execution_count": null,
   "metadata": {},
   "outputs": [],
   "source": [
    "df"
   ]
  },
  {
   "cell_type": "code",
   "execution_count": null,
   "metadata": {},
   "outputs": [],
   "source": [
    "LL #Lat and Lon of every county in AZ for map markers/bubbles"
   ]
  },
  {
   "cell_type": "markdown",
   "metadata": {},
   "source": [
    "# Data Visualizaition"
   ]
  },
  {
   "cell_type": "code",
   "execution_count": null,
   "metadata": {},
   "outputs": [],
   "source": [
    "result = pd.concat([df,LL], axis=1)\n",
    "result"
   ]
  },
  {
   "cell_type": "code",
   "execution_count": null,
   "metadata": {},
   "outputs": [],
   "source": [
    "result.columns.values"
   ]
  },
  {
   "cell_type": "code",
   "execution_count": null,
   "metadata": {
    "scrolled": true
   },
   "outputs": [],
   "source": [
    "#SCATTERPLOT \n",
    "px.scatter(df, x=\"County\", y=\"Percentage\", hover_name=\"CountyFIPS\")"
   ]
  },
  {
   "cell_type": "code",
   "execution_count": null,
   "metadata": {
    "scrolled": false
   },
   "outputs": [],
   "source": [
    "#Visualization of state of AZ and its counties \n",
    "a = fm.Map([34.048927,-111.093735],tiles=\"Stamen Toner\", zoom_start=6.5)\n",
    "colors = ['red', 'blue', 'green', 'purple', 'orange', 'darkred', 'lightred', 'beige', 'darkblue', 'darkgreen', \n",
    "          'cadetblue','darkpurple', 'white', 'pink', 'lightblue', 'lightgreen', 'gray', 'lightgray']\n",
    "#Apache County Marker\n",
    "fm.Circle(\n",
    "    radius=[14.2*1000],\n",
    "    location=[35.1061,-109.4861],\n",
    "    color='crimson',\n",
    "    fill=True,\n",
    ").add_to(a)\n",
    "\n",
    "#Cochise County Marker\n",
    "fm.Circle(\n",
    "    radius=[8.7*1000],\n",
    "    location=[31.7527, -109.9540],\n",
    "    color='blue',\n",
    "    fill=True,\n",
    ").add_to(a)\n",
    "\n",
    "#Coconino County Marker\n",
    "fm.Circle(\n",
    "    radius=[7.8*1000],\n",
    "    location=[35.8058,-111.8104],\n",
    "    color='purple',\n",
    "    fill=True,\n",
    ").add_to(a)\n",
    "\n",
    "#Gila County Marker\n",
    "fm.Circle(\n",
    "    radius=[10.0*1000],\n",
    "    location=[33.7782,-111.0344],\n",
    "    color='yellow',\n",
    "    fill=True,\n",
    ").add_to(a)\n",
    "\n",
    "#Graham County Marker\n",
    "fm.Circle(\n",
    "    radius=[10.8*1000],\n",
    "    location=[32.8628,-109.7746],\n",
    "    color='beige',\n",
    "    fill=True,\n",
    ").add_to(a)\n",
    "\n",
    "#Greenlee County Marker\n",
    "fm.Circle(\n",
    "    radius=[10.9*1000],\n",
    "    location=[33.0072,-109.2675],\n",
    "    color='cadetblue',\n",
    "    fill=True,\n",
    ").add_to(a)\n",
    "\n",
    "#La Paz County Marker\n",
    "fm.Circle(\n",
    "    radius=[10.2*1000],\n",
    "    location=[33.7875,-114.172],\n",
    "    color='lightblue',\n",
    "    fill=True,\n",
    ").add_to(a)\n",
    "\n",
    "#Maricopa County Marker\n",
    "fm.Circle(\n",
    "    radius=[8.5*1000],\n",
    "    location=[33.3170,-112.0915],\n",
    "    color='darkred',\n",
    "    fill=True,\n",
    ").add_to(a)\n",
    "\n",
    "#Mohave County Marker\n",
    "fm.Circle(\n",
    "    radius=[10.1*1000],\n",
    "    location=[35.1964,-114.1619],\n",
    "    color='black',\n",
    "    fill=True,\n",
    ").add_to(a)\n",
    "\n",
    "#Navajo County Marker\n",
    "fm.Circle(\n",
    "    radius=[12.6*1000],\n",
    "    location=[34.7780,-110.2088],\n",
    "    color='white',\n",
    "    fill=True,\n",
    ").add_to(a)\n",
    "\n",
    "#Pima County Marker\n",
    "fm.Circle(\n",
    "    radius=[7.6*1000],\n",
    "    location=[32.1288,-111.1706],\n",
    "    color='pink',\n",
    "    fill=True,\n",
    ").add_to(a)\n",
    "\n",
    "#Pinal County Marker\n",
    "fm.Circle(\n",
    "    radius=[10.9*1000],\n",
    "    location=[32.6556,-110.715],\n",
    "    color='orange',\n",
    "    fill=True,\n",
    ").add_to(a)\n",
    "\n",
    "#Santa Cruz County Marker\n",
    "fm.Circle(\n",
    "    radius=[7.8*1000],\n",
    "    location=[31.5614,-110.8613],\n",
    "    color='green',\n",
    "    fill=True,\n",
    ").add_to(a)\n",
    "\n",
    "#Yavapai County Marker\n",
    "fm.Circle(\n",
    "    radius=[7.3*1000],\n",
    "    location=[34.6338,-112.2018],\n",
    "    color='darkpurple',\n",
    "    fill=True,\n",
    ").add_to(a)\n",
    "\n",
    "#Yuma County Marker\n",
    "fm.Circle(\n",
    "    radius=[12.5*1000],\n",
    "    location=[32.6920,-114.2311],\n",
    "    color='grey',\n",
    "    fill=True,\n",
    ").add_to(a)\n",
    "\n",
    "a"
   ]
  },
  {
   "cell_type": "code",
   "execution_count": null,
   "metadata": {},
   "outputs": [],
   "source": [
    "px.choropleth(result,\n",
    "              locations=\"Lat\", \n",
    "              color=\"Percentage\", \n",
    "              hover_name=\"County\", \n",
    "              size_max=30,\n",
    "             color_continuous_scale=px.colors.sequential.Plasma)"
   ]
  },
  {
   "cell_type": "code",
   "execution_count": null,
   "metadata": {},
   "outputs": [],
   "source": [
    "px.choropleth?\n"
   ]
  },
  {
   "cell_type": "code",
   "execution_count": null,
   "metadata": {},
   "outputs": [],
   "source": []
  }
 ],
 "metadata": {
  "kernelspec": {
   "display_name": "Psych81.09",
   "language": "python",
   "name": "psych81.09"
  },
  "language_info": {
   "codemirror_mode": {
    "name": "ipython",
    "version": 3
   },
   "file_extension": ".py",
   "mimetype": "text/x-python",
   "name": "python",
   "nbconvert_exporter": "python",
   "pygments_lexer": "ipython3",
   "version": "3.6.8"
  }
 },
 "nbformat": 4,
 "nbformat_minor": 2
}
