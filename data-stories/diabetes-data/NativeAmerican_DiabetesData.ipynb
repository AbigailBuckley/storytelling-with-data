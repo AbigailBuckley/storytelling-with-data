{
 "cells": [
  {
   "cell_type": "markdown",
   "metadata": {},
   "source": [
    "# Diabetes Project \n",
    "Tia Yazzie \n",
    "\n",
    "objectives: \n",
    "- compare data from individual American Indian Communities\n",
    "    - retrieved the data from: https://gis.cdc.gov/grasp/diabetes/DiabetesAtlas.html and https://www.census.gov/tribal/?st=04&aianihh=4708 and https://www.census.gov/quickfacts/fact/table/"
   ]
  },
  {
   "cell_type": "code",
   "execution_count": 2,
   "metadata": {},
   "outputs": [],
   "source": [
    "#imports \n",
    "import numpy as np\n",
    "import pandas as pd\n",
    "import matplotlib.pyplot as plt\n",
    "import plotly_express as px \n",
    "import folium as fm\n",
    "from folium.plugins import FastMarkerCluster # In order to add map markers\n",
    "\n",
    "%matplotlib inline"
   ]
  },
  {
   "cell_type": "markdown",
   "metadata": {},
   "source": [
    "# Load in data"
   ]
  },
  {
   "cell_type": "code",
   "execution_count": 29,
   "metadata": {},
   "outputs": [],
   "source": [
    "#load in datasets\n",
    "excel_file = 'AZDiabetes.7tribes.xlsx'\n",
    "bigdata = pd.read_excel(excel_file)"
   ]
  },
  {
   "cell_type": "code",
   "execution_count": 30,
   "metadata": {},
   "outputs": [
    {
     "data": {
      "text/html": [
       "<div>\n",
       "<style scoped>\n",
       "    .dataframe tbody tr th:only-of-type {\n",
       "        vertical-align: middle;\n",
       "    }\n",
       "\n",
       "    .dataframe tbody tr th {\n",
       "        vertical-align: top;\n",
       "    }\n",
       "\n",
       "    .dataframe thead th {\n",
       "        text-align: right;\n",
       "    }\n",
       "</style>\n",
       "<table border=\"1\" class=\"dataframe\">\n",
       "  <thead>\n",
       "    <tr style=\"text-align: right;\">\n",
       "      <th></th>\n",
       "      <th>Tribe</th>\n",
       "      <th>County</th>\n",
       "      <th>CountySize</th>\n",
       "      <th>RezPopSize</th>\n",
       "      <th>#Diagnosed Diabetes for adults aged 20+</th>\n",
       "      <th>%Diagnosed Diabetes for adults aged 20+</th>\n",
       "      <th>Year</th>\n",
       "    </tr>\n",
       "  </thead>\n",
       "  <tbody>\n",
       "    <tr>\n",
       "      <th>0</th>\n",
       "      <td>Ak-Chin Indian Community</td>\n",
       "      <td>Pinal County</td>\n",
       "      <td>447138</td>\n",
       "      <td>770</td>\n",
       "      <td>37245</td>\n",
       "      <td>10.9</td>\n",
       "      <td>2015</td>\n",
       "    </tr>\n",
       "    <tr>\n",
       "      <th>1</th>\n",
       "      <td>Fort McDowell Yavapai Nation</td>\n",
       "      <td>Maricopa County</td>\n",
       "      <td>4410824</td>\n",
       "      <td>900</td>\n",
       "      <td>274898</td>\n",
       "      <td>8.5</td>\n",
       "      <td>2015</td>\n",
       "    </tr>\n",
       "    <tr>\n",
       "      <th>2</th>\n",
       "      <td>Hopi Tribe</td>\n",
       "      <td>Coconino and Navajo Counties</td>\n",
       "      <td>253299</td>\n",
       "      <td>9268</td>\n",
       "      <td>7737</td>\n",
       "      <td>7.8</td>\n",
       "      <td>2015</td>\n",
       "    </tr>\n",
       "    <tr>\n",
       "      <th>3</th>\n",
       "      <td>Navajo Nation (AZ)</td>\n",
       "      <td>Navajo County</td>\n",
       "      <td>110445</td>\n",
       "      <td>175005</td>\n",
       "      <td>10838</td>\n",
       "      <td>12.6</td>\n",
       "      <td>2015</td>\n",
       "    </tr>\n",
       "    <tr>\n",
       "      <th>4</th>\n",
       "      <td>Pascua Pueblo Yaqui</td>\n",
       "      <td>Pima County</td>\n",
       "      <td>1039073</td>\n",
       "      <td>3888</td>\n",
       "      <td>66136</td>\n",
       "      <td>7.6</td>\n",
       "      <td>2015</td>\n",
       "    </tr>\n",
       "    <tr>\n",
       "      <th>5</th>\n",
       "      <td>Salt River</td>\n",
       "      <td>Maricopa County</td>\n",
       "      <td>4410824</td>\n",
       "      <td>7087</td>\n",
       "      <td>274898</td>\n",
       "      <td>8.5</td>\n",
       "      <td>2015</td>\n",
       "    </tr>\n",
       "    <tr>\n",
       "      <th>6</th>\n",
       "      <td>Yavapai-Apache</td>\n",
       "      <td>Yavapai</td>\n",
       "      <td>231993</td>\n",
       "      <td>902</td>\n",
       "      <td>18575</td>\n",
       "      <td>7.3</td>\n",
       "      <td>2015</td>\n",
       "    </tr>\n",
       "  </tbody>\n",
       "</table>\n",
       "</div>"
      ],
      "text/plain": [
       "                          Tribe                        County  CountySize  \\\n",
       "0      Ak-Chin Indian Community                  Pinal County      447138   \n",
       "1  Fort McDowell Yavapai Nation               Maricopa County     4410824   \n",
       "2                    Hopi Tribe  Coconino and Navajo Counties      253299   \n",
       "3           Navajo Nation (AZ)                  Navajo County      110445   \n",
       "4           Pascua Pueblo Yaqui                  Pima County      1039073   \n",
       "5                   Salt River                Maricopa County     4410824   \n",
       "6                Yavapai-Apache                      Yavapai       231993   \n",
       "\n",
       "   RezPopSize  #Diagnosed Diabetes for adults aged 20+   \\\n",
       "0         770                                     37245   \n",
       "1         900                                    274898   \n",
       "2        9268                                      7737   \n",
       "3      175005                                     10838   \n",
       "4        3888                                     66136   \n",
       "5        7087                                    274898   \n",
       "6         902                                     18575   \n",
       "\n",
       "   %Diagnosed Diabetes for adults aged 20+  Year  \n",
       "0                                     10.9  2015  \n",
       "1                                      8.5  2015  \n",
       "2                                      7.8  2015  \n",
       "3                                     12.6  2015  \n",
       "4                                      7.6  2015  \n",
       "5                                      8.5  2015  \n",
       "6                                      7.3  2015  "
      ]
     },
     "execution_count": 30,
     "metadata": {},
     "output_type": "execute_result"
    }
   ],
   "source": [
    "bigdata"
   ]
  },
  {
   "cell_type": "code",
   "execution_count": 31,
   "metadata": {},
   "outputs": [
    {
     "data": {
      "text/plain": [
       "array(['Tribe', 'County', 'CountySize', 'RezPopSize',\n",
       "       '#Diagnosed Diabetes for adults aged 20+ ',\n",
       "       '%Diagnosed Diabetes for adults aged 20+', 'Year'], dtype=object)"
      ]
     },
     "execution_count": 31,
     "metadata": {},
     "output_type": "execute_result"
    }
   ],
   "source": [
    "bigdata.columns.values"
   ]
  },
  {
   "cell_type": "markdown",
   "metadata": {},
   "source": [
    "# Data Explanation \n",
    "- this data set consists of 7 tribes that I chose randomly from the state of Arizona. In Arizona, there are 21 federally recognized tribes. I decided to start with a small data set and then work toward bigger ones for the next small project and final project. \n",
    "- Additionally, it was easier for me to create a data set in which I could easily work just to be familiar with the numbers. Also, I wanted to look at the population size on the reservation and compare this to the percentages. The column  \"Diagnosed Diabetes for adults aged 20+ (Numbers)\" has bigger numbers than the population size of the respective Native American tribe as the diabetes statistics took into account all people in that county - non-Native and Native. However, I thought looking at the numbers of the counties within AZ and in which the tribes fall into would be cool to look at. "
   ]
  },
  {
   "cell_type": "code",
   "execution_count": 33,
   "metadata": {},
   "outputs": [
    {
     "ename": "NameError",
     "evalue": "name 'os' is not defined",
     "output_type": "error",
     "traceback": [
      "\u001b[0;31m---------------------------------------------------------------------------\u001b[0m",
      "\u001b[0;31mNameError\u001b[0m                                 Traceback (most recent call last)",
      "\u001b[0;32m<ipython-input-33-72e5f5d2f62e>\u001b[0m in \u001b[0;36m<module>\u001b[0;34m\u001b[0m\n\u001b[0;32m----> 1\u001b[0;31m \u001b[0mstate_geo\u001b[0m \u001b[0;34m=\u001b[0m \u001b[0mos\u001b[0m\u001b[0;34m.\u001b[0m\u001b[0mpath\u001b[0m\u001b[0;34m.\u001b[0m\u001b[0mjoin\u001b[0m\u001b[0;34m(\u001b[0m\u001b[0;34m'data'\u001b[0m\u001b[0;34m,\u001b[0m \u001b[0;34m'us-states.json'\u001b[0m\u001b[0;34m)\u001b[0m\u001b[0;34m\u001b[0m\u001b[0;34m\u001b[0m\u001b[0m\n\u001b[0m\u001b[1;32m      2\u001b[0m \u001b[0;34m\u001b[0m\u001b[0m\n\u001b[1;32m      3\u001b[0m \u001b[0mstate_unemployment\u001b[0m \u001b[0;34m=\u001b[0m \u001b[0mos\u001b[0m\u001b[0;34m.\u001b[0m\u001b[0mpath\u001b[0m\u001b[0;34m.\u001b[0m\u001b[0mjoin\u001b[0m\u001b[0;34m(\u001b[0m\u001b[0;34m'data'\u001b[0m\u001b[0;34m,\u001b[0m \u001b[0;34m'US_Unemployment_Oct2012.csv'\u001b[0m\u001b[0;34m)\u001b[0m\u001b[0;34m\u001b[0m\u001b[0;34m\u001b[0m\u001b[0m\n\u001b[1;32m      4\u001b[0m \u001b[0mstate_data\u001b[0m \u001b[0;34m=\u001b[0m \u001b[0mpd\u001b[0m\u001b[0;34m.\u001b[0m\u001b[0mread_csv\u001b[0m\u001b[0;34m(\u001b[0m\u001b[0mstate_unemployment\u001b[0m\u001b[0;34m)\u001b[0m\u001b[0;34m\u001b[0m\u001b[0;34m\u001b[0m\u001b[0m\n\u001b[1;32m      5\u001b[0m \u001b[0;34m\u001b[0m\u001b[0m\n",
      "\u001b[0;31mNameError\u001b[0m: name 'os' is not defined"
     ]
    }
   ],
   "source": [
    "state_geo = os.path.join('data', 'us-states.json')\n",
    "\n",
    "state_unemployment = os.path.join('data', 'US_Unemployment_Oct2012.csv')\n",
    "state_data = pd.read_csv(state_unemployment)\n",
    "\n",
    "m = folium.Map(location=[48, -102], zoom_start=3)\n",
    "\n",
    "folium.Choropleth(\n",
    "    geo_data=state_geo,\n",
    "    name='choropleth',\n",
    "    data=state_data,\n",
    "    columns=['State', 'Unemployment'],\n",
    "    key_on='feature.id',\n",
    "    fill_color='YlGn',\n",
    "    fill_opacity=0.7,\n",
    "    line_opacity=0.2,\n",
    "    legend_name='Unemployment Rate (%)'\n",
    ").add_to(m)\n",
    "\n",
    "folium.LayerControl().add_to(m)\n",
    "\n",
    "m"
   ]
  },
  {
   "cell_type": "code",
   "execution_count": null,
   "metadata": {},
   "outputs": [],
   "source": []
  }
 ],
 "metadata": {
  "kernelspec": {
   "display_name": "Psych81.09",
   "language": "python",
   "name": "psych81.09"
  },
  "language_info": {
   "codemirror_mode": {
    "name": "ipython",
    "version": 3
   },
   "file_extension": ".py",
   "mimetype": "text/x-python",
   "name": "python",
   "nbconvert_exporter": "python",
   "pygments_lexer": "ipython3",
   "version": "3.6.8"
  }
 },
 "nbformat": 4,
 "nbformat_minor": 2
}
