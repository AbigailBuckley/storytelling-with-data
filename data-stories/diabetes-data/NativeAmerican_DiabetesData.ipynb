{
 "cells": [
  {
   "cell_type": "markdown",
   "metadata": {},
   "source": [
    "# Diabetes Project \n",
    "Tia Yazzie \n",
    "\n",
    "objectives: \n",
    "- compare data from individual American Indian Communities\n",
    "    - retrieved the data from: https://gis.cdc.gov/grasp/diabetes/DiabetesAtlas.html and https://www.census.gov/tribal/?st=04&aianihh=4708 and https://www.census.gov/quickfacts/fact/table/"
   ]
  },
  {
   "cell_type": "code",
   "execution_count": null,
   "metadata": {},
   "outputs": [],
   "source": [
    "#imports \n",
    "import numpy as np\n",
    "from geopy.geocoders import Nominatim\n",
    "import pandas as pd\n",
    "import matplotlib.pyplot as plt\n",
    "import plotly_express as px \n",
    "import folium as fm\n",
    "from folium.plugins import FastMarkerCluster # In order to add map markers\n",
    "import json \n",
    "\n",
    "%matplotlib inline"
   ]
  },
  {
   "cell_type": "markdown",
   "metadata": {},
   "source": [
    "# Load in data"
   ]
  },
  {
   "cell_type": "code",
   "execution_count": null,
   "metadata": {},
   "outputs": [],
   "source": [
    "#load in datasets\n",
    "excel_file = 'AZDiabetes.7tribes.xlsx'\n",
    "bigdata = pd.read_excel(excel_file)\n",
    "\n",
    "df = pd.read_csv('DiabetesAtlasCountyData1.csv')\n",
    "\n",
    "dframe = pd.read_csv('DiabetesAtlasCountyData2.csv')\n",
    "\n",
    "LL = pd.read_excel('Lat_LonAZ.xlsx')\n"
   ]
  },
  {
   "cell_type": "code",
   "execution_count": null,
   "metadata": {},
   "outputs": [],
   "source": [
    "#Create a colorscale for my map\n",
    "colorscale = [\"#141d43\",\"#15425a\",\"#0a6671\",\"#26897d\",\"#67a989\",\"#acc5a6\",\"#e0e1d2\",\n",
    "              \"#f0dbce\",\"#e4ae98\",\"#d47c6f\",\"#bb4f61\",\"#952b5f\",\"651656\",\"330d35\"]"
   ]
  },
  {
   "cell_type": "code",
   "execution_count": null,
   "metadata": {},
   "outputs": [],
   "source": [
    "#second data frame I am using from www.cdc.gov\n",
    "df"
   ]
  },
  {
   "cell_type": "markdown",
   "metadata": {},
   "source": [
    "# Data Cleanup "
   ]
  },
  {
   "cell_type": "code",
   "execution_count": null,
   "metadata": {},
   "outputs": [],
   "source": [
    "df.columns.values"
   ]
  },
  {
   "cell_type": "code",
   "execution_count": null,
   "metadata": {},
   "outputs": [],
   "source": [
    "df"
   ]
  },
  {
   "cell_type": "code",
   "execution_count": null,
   "metadata": {},
   "outputs": [],
   "source": [
    "LL #Lat and Lon of every county in AZ for map markers/bubbles"
   ]
  },
  {
   "cell_type": "markdown",
   "metadata": {},
   "source": [
    "# Data Visualizaition"
   ]
  },
  {
   "cell_type": "code",
   "execution_count": null,
   "metadata": {
    "scrolled": true
   },
   "outputs": [],
   "source": [
    "#SCATTERPLOT \n",
    "px.scatter(df, x=\"County\", y=\"Percentage\", hover_name=\"CountyFIPS\")"
   ]
  },
  {
   "cell_type": "code",
   "execution_count": null,
   "metadata": {
    "scrolled": true
   },
   "outputs": [],
   "source": [
    "#Visualization of state of AZ and its counties \n",
    "a = fm.Map([34.048927,-111.093735], zoom_start=6.5)\n",
    "#Apache County Marker\n",
    "\n",
    "\n",
    "\n",
    "a"
   ]
  },
  {
   "cell_type": "code",
   "execution_count": null,
   "metadata": {},
   "outputs": [],
   "source": []
  },
  {
   "cell_type": "code",
   "execution_count": null,
   "metadata": {},
   "outputs": [],
   "source": []
  }
 ],
 "metadata": {
  "kernelspec": {
   "display_name": "Psych81.09",
   "language": "python",
   "name": "psych81.09"
  },
  "language_info": {
   "codemirror_mode": {
    "name": "ipython",
    "version": 3
   },
   "file_extension": ".py",
   "mimetype": "text/x-python",
   "name": "python",
   "nbconvert_exporter": "python",
   "pygments_lexer": "ipython3",
   "version": "3.6.8"
  }
 },
 "nbformat": 4,
 "nbformat_minor": 2
}
