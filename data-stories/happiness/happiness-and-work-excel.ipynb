{
 "cells": [
  {
   "cell_type": "markdown",
   "metadata": {},
   "source": [
    "## Import necessary packages"
   ]
  },
  {
   "cell_type": "code",
   "execution_count": 4,
   "metadata": {
    "collapsed": true
   },
   "outputs": [],
   "source": [
    "import xlrd\n",
    "import pandas as pd\n",
    "import numpy as np\n",
    "import seaborn as sns\n",
    "import hypertools as hyp\n",
    "import matplotlib.pyplot as plt\n",
    "%matplotlib inline\n",
    "sns.set_context('poster')"
   ]
  },
  {
   "cell_type": "markdown",
   "metadata": {},
   "source": [
    "## Read in data"
   ]
  },
  {
   "cell_type": "code",
   "execution_count": 9,
   "metadata": {},
   "outputs": [],
   "source": [
    "data = pd.read_excel('GSS 3.xlsx', sheetname='Data')"
   ]
  },
  {
   "cell_type": "code",
   "execution_count": 10,
   "metadata": {},
   "outputs": [
    {
     "data": {
      "text/html": [
       "<div>\n",
       "<style>\n",
       "    .dataframe thead tr:only-child th {\n",
       "        text-align: right;\n",
       "    }\n",
       "\n",
       "    .dataframe thead th {\n",
       "        text-align: left;\n",
       "    }\n",
       "\n",
       "    .dataframe tbody tr th {\n",
       "        vertical-align: top;\n",
       "    }\n",
       "</style>\n",
       "<table border=\"1\" class=\"dataframe\">\n",
       "  <thead>\n",
       "    <tr style=\"text-align: right;\">\n",
       "      <th></th>\n",
       "      <th>What is your view on politics in us &amp; world</th>\n",
       "      <th>Ballot used for interview</th>\n",
       "      <th>Year of birth</th>\n",
       "      <th>Household type</th>\n",
       "      <th>Number in family of r</th>\n",
       "      <th>Rs income in constant $</th>\n",
       "      <th>Family income in constant $</th>\n",
       "      <th>Rs job is useful to society</th>\n",
       "      <th>R has opportunity to advance</th>\n",
       "      <th>Rs income is high</th>\n",
       "      <th>...</th>\n",
       "      <th>Spend evening with friends</th>\n",
       "      <th>Spend evening with relatives</th>\n",
       "      <th>Confidence in congress</th>\n",
       "      <th>Confid. in united states supreme court</th>\n",
       "      <th>Confid. in exec branch of fed govt</th>\n",
       "      <th>Confidence in education</th>\n",
       "      <th>Confidence in major companies</th>\n",
       "      <th>Can people be trusted</th>\n",
       "      <th>Is life exciting or dull</th>\n",
       "      <th>Gss year for this respondent</th>\n",
       "    </tr>\n",
       "  </thead>\n",
       "  <tbody>\n",
       "    <tr>\n",
       "      <th>0</th>\n",
       "      <td>Policies in america depend more on who is in g...</td>\n",
       "      <td>Ballot a</td>\n",
       "      <td>1969</td>\n",
       "      <td>2adlts,mar,1+kids</td>\n",
       "      <td>1st person</td>\n",
       "      <td>164382.03756</td>\n",
       "      <td>131676.6906</td>\n",
       "      <td>No issp</td>\n",
       "      <td>No issp</td>\n",
       "      <td>No issp</td>\n",
       "      <td>...</td>\n",
       "      <td>Sev times a year</td>\n",
       "      <td>Almost daily</td>\n",
       "      <td>Not applicable</td>\n",
       "      <td>Not applicable</td>\n",
       "      <td>Not applicable</td>\n",
       "      <td>Not applicable</td>\n",
       "      <td>Not applicable</td>\n",
       "      <td>Not applicable</td>\n",
       "      <td>Routine</td>\n",
       "      <td>2016.0</td>\n",
       "    </tr>\n",
       "    <tr>\n",
       "      <th>1</th>\n",
       "      <td>Policies in america depend on what is happenin...</td>\n",
       "      <td>Ballot b</td>\n",
       "      <td>1955</td>\n",
       "      <td>1adlt,0kids</td>\n",
       "      <td>1st person</td>\n",
       "      <td>25740.00000</td>\n",
       "      <td>25740.0000</td>\n",
       "      <td>No issp</td>\n",
       "      <td>No issp</td>\n",
       "      <td>No issp</td>\n",
       "      <td>...</td>\n",
       "      <td>Sev times a year</td>\n",
       "      <td>Sev times a year</td>\n",
       "      <td>Hardly any</td>\n",
       "      <td>A great deal</td>\n",
       "      <td>Only some</td>\n",
       "      <td>Hardly any</td>\n",
       "      <td>Hardly any</td>\n",
       "      <td>Depends</td>\n",
       "      <td>Not applicable</td>\n",
       "      <td>2016.0</td>\n",
       "    </tr>\n",
       "    <tr>\n",
       "      <th>2</th>\n",
       "      <td>Not applicable</td>\n",
       "      <td>Ballot c</td>\n",
       "      <td>1944</td>\n",
       "      <td>2adlts,mar,0kids</td>\n",
       "      <td>1st person</td>\n",
       "      <td>0.00000</td>\n",
       "      <td>38610.0000</td>\n",
       "      <td>No issp</td>\n",
       "      <td>No issp</td>\n",
       "      <td>No issp</td>\n",
       "      <td>...</td>\n",
       "      <td>Not applicable</td>\n",
       "      <td>Not applicable</td>\n",
       "      <td>Hardly any</td>\n",
       "      <td>A great deal</td>\n",
       "      <td>Hardly any</td>\n",
       "      <td>Only some</td>\n",
       "      <td>Only some</td>\n",
       "      <td>Can trust</td>\n",
       "      <td>Exciting</td>\n",
       "      <td>2016.0</td>\n",
       "    </tr>\n",
       "    <tr>\n",
       "      <th>3</th>\n",
       "      <td>Policies in america depend more on who is in g...</td>\n",
       "      <td>Ballot a</td>\n",
       "      <td>1973</td>\n",
       "      <td>4+adlts,2mar,1+kids</td>\n",
       "      <td>2nd person</td>\n",
       "      <td>5265.00000</td>\n",
       "      <td>131676.6906</td>\n",
       "      <td>No issp</td>\n",
       "      <td>No issp</td>\n",
       "      <td>No issp</td>\n",
       "      <td>...</td>\n",
       "      <td>Sev times a week</td>\n",
       "      <td>Sev times a week</td>\n",
       "      <td>Not applicable</td>\n",
       "      <td>Not applicable</td>\n",
       "      <td>Not applicable</td>\n",
       "      <td>Not applicable</td>\n",
       "      <td>Not applicable</td>\n",
       "      <td>Not applicable</td>\n",
       "      <td>Exciting</td>\n",
       "      <td>2016.0</td>\n",
       "    </tr>\n",
       "    <tr>\n",
       "      <th>4</th>\n",
       "      <td>Not applicable</td>\n",
       "      <td>Ballot c</td>\n",
       "      <td>1961</td>\n",
       "      <td>3adlts,2mar,sp,rel,0kids</td>\n",
       "      <td>2nd person</td>\n",
       "      <td>936.00000</td>\n",
       "      <td>131676.6906</td>\n",
       "      <td>Strongly agree</td>\n",
       "      <td>Disagree</td>\n",
       "      <td>Strongly disagree</td>\n",
       "      <td>...</td>\n",
       "      <td>Not applicable</td>\n",
       "      <td>Not applicable</td>\n",
       "      <td>Hardly any</td>\n",
       "      <td>A great deal</td>\n",
       "      <td>Only some</td>\n",
       "      <td>Only some</td>\n",
       "      <td>A great deal</td>\n",
       "      <td>Can trust</td>\n",
       "      <td>Routine</td>\n",
       "      <td>2016.0</td>\n",
       "    </tr>\n",
       "  </tbody>\n",
       "</table>\n",
       "<p>5 rows × 61 columns</p>\n",
       "</div>"
      ],
      "text/plain": [
       "         What is your view on politics in us & world  \\\n",
       "0  Policies in america depend more on who is in g...   \n",
       "1  Policies in america depend on what is happenin...   \n",
       "2                                     Not applicable   \n",
       "3  Policies in america depend more on who is in g...   \n",
       "4                                     Not applicable   \n",
       "\n",
       "  Ballot used for interview Year of birth            Household type  \\\n",
       "0                  Ballot a          1969         2adlts,mar,1+kids   \n",
       "1                  Ballot b          1955               1adlt,0kids   \n",
       "2                  Ballot c          1944          2adlts,mar,0kids   \n",
       "3                  Ballot a          1973       4+adlts,2mar,1+kids   \n",
       "4                  Ballot c          1961  3adlts,2mar,sp,rel,0kids   \n",
       "\n",
       "  Number in family of r  Rs income in constant $  Family income in constant $  \\\n",
       "0            1st person             164382.03756                  131676.6906   \n",
       "1            1st person              25740.00000                   25740.0000   \n",
       "2            1st person                  0.00000                   38610.0000   \n",
       "3            2nd person               5265.00000                  131676.6906   \n",
       "4            2nd person                936.00000                  131676.6906   \n",
       "\n",
       "  Rs job is useful to society R has opportunity to advance  Rs income is high  \\\n",
       "0                     No issp                      No issp            No issp   \n",
       "1                     No issp                      No issp            No issp   \n",
       "2                     No issp                      No issp            No issp   \n",
       "3                     No issp                      No issp            No issp   \n",
       "4              Strongly agree                     Disagree  Strongly disagree   \n",
       "\n",
       "                          ...                          \\\n",
       "0                         ...                           \n",
       "1                         ...                           \n",
       "2                         ...                           \n",
       "3                         ...                           \n",
       "4                         ...                           \n",
       "\n",
       "  Spend evening with friends Spend evening with relatives  \\\n",
       "0           Sev times a year                 Almost daily   \n",
       "1           Sev times a year             Sev times a year   \n",
       "2             Not applicable               Not applicable   \n",
       "3           Sev times a week             Sev times a week   \n",
       "4             Not applicable               Not applicable   \n",
       "\n",
       "  Confidence in congress Confid. in united states supreme court  \\\n",
       "0         Not applicable                         Not applicable   \n",
       "1             Hardly any                           A great deal   \n",
       "2             Hardly any                           A great deal   \n",
       "3         Not applicable                         Not applicable   \n",
       "4             Hardly any                           A great deal   \n",
       "\n",
       "  Confid. in exec branch of fed govt Confidence in education  \\\n",
       "0                     Not applicable          Not applicable   \n",
       "1                          Only some              Hardly any   \n",
       "2                         Hardly any               Only some   \n",
       "3                     Not applicable          Not applicable   \n",
       "4                          Only some               Only some   \n",
       "\n",
       "  Confidence in major companies Can people be trusted  \\\n",
       "0                Not applicable        Not applicable   \n",
       "1                    Hardly any               Depends   \n",
       "2                     Only some             Can trust   \n",
       "3                Not applicable        Not applicable   \n",
       "4                  A great deal             Can trust   \n",
       "\n",
       "  Is life exciting or dull Gss year for this respondent                         \n",
       "0                  Routine                                             2016.0   \n",
       "1           Not applicable                                             2016.0   \n",
       "2                 Exciting                                             2016.0   \n",
       "3                 Exciting                                             2016.0   \n",
       "4                  Routine                                             2016.0   \n",
       "\n",
       "[5 rows x 61 columns]"
      ]
     },
     "execution_count": 10,
     "metadata": {},
     "output_type": "execute_result"
    }
   ],
   "source": [
    "data.head()"
   ]
  },
  {
   "cell_type": "markdown",
   "metadata": {
    "collapsed": true
   },
   "source": [
    "## Create new data frames only looking at happiness, work, and demographic factors"
   ]
  },
  {
   "cell_type": "code",
   "execution_count": 11,
   "metadata": {
    "collapsed": true
   },
   "outputs": [],
   "source": [
    "#list of happiness factors\n",
    "happiness = ['Standard of living of r will improve', \n",
    "             'How much time felt sad in past wk', \n",
    "             'How much time felt happy in past wk',\n",
    "             'How much time felt depressed in past wk',\n",
    "             'I am meeting my current goals',\n",
    "             'I see myself as successful',\n",
    "             'I expect more good things to happen to me than bad',\n",
    "             'I\\'m always optimistic about my future',\n",
    "             'Happiness of marriage',\n",
    "             'General happiness',\n",
    "             'Happiness of relt with partner',\n",
    "             'Condition of health',\n",
    "             'Satisfaction with financial situation',\n",
    "             'Rs self ranking of social position',\n",
    "             'Is life exciting or dull']\n",
    "\n",
    "#list of work factors\n",
    "work = ['Rs income in constant $',\n",
    "        'Rs job is useful to society',\n",
    "        'R has opportunity to advance',\n",
    "        'Rs income is high',\n",
    "        'Rs job is secure',\n",
    "        'The highest degree r have earned',\n",
    "        'Respondents income',\n",
    "        'Rs living standard compared to parents',\n",
    "        'Respondents income',\n",
    "        'Living with parents when 16 yrs old',\n",
    "        'Marital status',\n",
    "        'Number of hours usually work a week',\n",
    "        'Job or housework',\n",
    "        'Is r likely to lose job']\n",
    "\n",
    "#list of demographic factors\n",
    "demo = ['Ballot used for interview', \n",
    "        'Gss year for this respondent                       ',\n",
    "        'Year of birth',\n",
    "        'Region of interview',\n",
    "        'Was r born in this country']"
   ]
  },
  {
   "cell_type": "code",
   "execution_count": 12,
   "metadata": {},
   "outputs": [],
   "source": [
    "demo_df = data[demo]\n",
    "happiness_df = data[happiness]\n",
    "work_df = data[work]"
   ]
  },
  {
   "cell_type": "markdown",
   "metadata": {},
   "source": [
    "## Is happiness data clustered in any way?"
   ]
  },
  {
   "cell_type": "code",
   "execution_count": null,
   "metadata": {},
   "outputs": [],
   "source": [
    "hyp.plot(happiness_df, '.', group = happiness_df['General happiness'], legend = list(happiness_df['General happiness'].unique()))"
   ]
  },
  {
   "cell_type": "code",
   "execution_count": null,
   "metadata": {
    "scrolled": true
   },
   "outputs": [],
   "source": [
    "for factor in happiness:\n",
    "    print(factor)\n",
    "    hyp.plot(happiness_df, '.', group=happiness_df[factor], legend = list(happiness_df[factor].unique()))"
   ]
  },
  {
   "cell_type": "markdown",
   "metadata": {},
   "source": [
    "## Overall, how many respondents consider themselves happy?"
   ]
  },
  {
   "cell_type": "code",
   "execution_count": null,
   "metadata": {},
   "outputs": [],
   "source": [
    "sns.countplot('General happiness', data = data, order = ['Very happy', 'Pretty happy', 'Not too happy', \"Don't know\", 'No answer'])"
   ]
  },
  {
   "cell_type": "markdown",
   "metadata": {},
   "source": [
    "## What does work look like for different levels of happiness?"
   ]
  },
  {
   "cell_type": "code",
   "execution_count": null,
   "metadata": {},
   "outputs": [],
   "source": [
    "sns.swarmplot(data = data, x='General happiness', y='Rs income in constant $')"
   ]
  },
  {
   "cell_type": "code",
   "execution_count": null,
   "metadata": {},
   "outputs": [],
   "source": [
    "sns.violinplot(data = data, x='General happiness', y='Rs income in constant $', order = ['Very happy', 'Pretty happy', 'Not too happy', \"Don't know\"])"
   ]
  },
  {
   "cell_type": "code",
   "execution_count": null,
   "metadata": {},
   "outputs": [],
   "source": [
    "sns.boxplot(data = data, x='General happiness', y='Rs income in constant $', order = ['Very happy', 'Pretty happy', 'Not too happy', \"Don't know\"])"
   ]
  },
  {
   "cell_type": "code",
   "execution_count": null,
   "metadata": {
    "collapsed": true
   },
   "outputs": [],
   "source": [
    "#create a data frame for people who answered \"pretty happy\"\n",
    "pretty_happy = data.loc[data['General happiness'] == 'Pretty happy']\n",
    "\n",
    "#create a data frame for people who answered \"very happy\"\n",
    "very_happy = data.loc[data['General happiness'] == 'Very happy']\n",
    "\n",
    "#create a data frame for people who answered \"not too happy\"\n",
    "not_too_happy = data.loc[data['General happiness'] == 'Not too happy']"
   ]
  },
  {
   "cell_type": "markdown",
   "metadata": {},
   "source": [
    "### Income"
   ]
  },
  {
   "cell_type": "code",
   "execution_count": null,
   "metadata": {
    "scrolled": false
   },
   "outputs": [],
   "source": [
    "sns.countplot('Rs income in constant $', data = very_happy)\n",
    "plt.title('Very happy')\n",
    "plt.xticks(rotation=90)\n",
    "plt.ylim(0, 60)\n",
    "plt.show()\n",
    "\n",
    "sns.countplot('Rs income in constant $', data = pretty_happy)\n",
    "plt.title('Pretty happy')\n",
    "plt.xticks(rotation=90)\n",
    "plt.ylim(0, 100)\n",
    "plt.show()\n",
    "\n",
    "sns.countplot('Rs income in constant $', data = not_too_happy)\n",
    "plt.title('Not too happy')\n",
    "plt.xticks(rotation=90)\n",
    "plt.ylim(0, 20)\n",
    "plt.show()"
   ]
  },
  {
   "cell_type": "markdown",
   "metadata": {},
   "source": [
    "### Job satisfaction"
   ]
  },
  {
   "cell_type": "code",
   "execution_count": null,
   "metadata": {
    "scrolled": false
   },
   "outputs": [],
   "source": [
    "sns.countplot('Job or housework', data = very_happy, order = ['Very satisfied', 'Mod. satisfied', 'A little dissat', 'Very dissatisfied', \"Don't know\", 'Not applicable', 'No answer'])\n",
    "plt.title('Very happy')\n",
    "plt.xticks(rotation=90)\n",
    "#plt.ylim(0, 100)\n",
    "plt.show()\n",
    "\n",
    "sns.countplot('Job or housework', data = pretty_happy, order = ['Very satisfied', 'Mod. satisfied', 'A little dissat', 'Very dissatisfied', \"Don't know\", 'Not applicable', 'No answer'])\n",
    "plt.title('Pretty happy')\n",
    "plt.xticks(rotation=90)\n",
    "#plt.ylim(0, 60)\n",
    "plt.show()\n",
    "\n",
    "sns.countplot('Job or housework', data = not_too_happy, order = ['Very satisfied', 'Mod. satisfied', 'A little dissat', 'Very dissatisfied', \"Don't know\", 'Not applicable', 'No answer'])\n",
    "plt.title('Not too happy')\n",
    "plt.xticks(rotation=90)\n",
    "#plt.ylim(0, 20)\n",
    "plt.show()"
   ]
  },
  {
   "cell_type": "markdown",
   "metadata": {},
   "source": [
    "### Job security"
   ]
  },
  {
   "cell_type": "code",
   "execution_count": null,
   "metadata": {
    "scrolled": false
   },
   "outputs": [],
   "source": [
    "sns.countplot('Rs job is secure', data = very_happy, order = ['Strongly agree', 'Agree', 'Neither', 'Disagree', 'Strongly disagree', 'No issp'])\n",
    "plt.title('Very happy')\n",
    "plt.xticks(rotation=90)\n",
    "plt.ylim(0, 150)\n",
    "plt.show()\n",
    "\n",
    "sns.countplot('Rs job is secure', data = pretty_happy, order = ['Strongly agree', 'Agree', 'Neither', 'Disagree', 'Strongly disagree', 'No issp'])\n",
    "plt.xticks(rotation=90)\n",
    "plt.ylim(0, 250)\n",
    "plt.show()\n",
    "\n",
    "sns.countplot('Rs job is secure', data = not_too_happy, order = ['Strongly agree', 'Agree', 'Neither', 'Disagree', 'Strongly disagree', 'No issp'])\n",
    "plt.title('Not too happy')\n",
    "plt.xticks(rotation=90)\n",
    "plt.ylim(0, 50)\n",
    "plt.show()"
   ]
  },
  {
   "cell_type": "markdown",
   "metadata": {},
   "source": [
    "### Graph with percentages instead of counts"
   ]
  },
  {
   "cell_type": "code",
   "execution_count": null,
   "metadata": {
    "collapsed": true
   },
   "outputs": [],
   "source": [
    "#write function to get percentages by dividing value count of each by total count\n",
    "\n",
    "def answer(df, factor):\n",
    "    \n",
    "    #make list for all unique answers\n",
    "    answers = []\n",
    "    \n",
    "    for answer in range(0, len(df[factor].value_counts())):\n",
    "        answers.append(df[factor].value_counts().index[answer])\n",
    "        \n",
    "    return answers\n",
    "\n",
    "def percentage(df, factor):\n",
    "    \n",
    "    #make list for all percentages\n",
    "    percentage_list = []\n",
    "    \n",
    "    #get percentages\n",
    "    for answer in range(0, len(df[factor].value_counts())):\n",
    "        percentage_list.append(df[factor].value_counts()[answer]/sum(df[factor].value_counts()))\n",
    "    \n",
    "    return percentage_list"
   ]
  },
  {
   "cell_type": "code",
   "execution_count": null,
   "metadata": {},
   "outputs": [],
   "source": [
    "#wrong bc value_counts and unique() are not in same order\n",
    "x = answer(very_happy, 'Job or housework')\n",
    "print(x)\n",
    "\n",
    "y = percentage(very_happy, 'Job or housework')\n",
    "print(y)\n",
    "\n",
    "sns.barplot(x = x, y = y, order = ['Very satisfied', 'Mod. satisfied', 'A little dissat', 'Very dissatisfied', \"Don't know\", 'Not applicable', 'No answer'])"
   ]
  },
  {
   "cell_type": "code",
   "execution_count": null,
   "metadata": {
    "collapsed": true
   },
   "outputs": [],
   "source": []
  }
 ],
 "metadata": {
  "kernelspec": {
   "display_name": "Python 3",
   "language": "python",
   "name": "python3"
  },
  "language_info": {
   "codemirror_mode": {
    "name": "ipython",
    "version": 3
   },
   "file_extension": ".py",
   "mimetype": "text/x-python",
   "name": "python",
   "nbconvert_exporter": "python",
   "pygments_lexer": "ipython3",
   "version": "3.6.1"
  }
 },
 "nbformat": 4,
 "nbformat_minor": 2
}
