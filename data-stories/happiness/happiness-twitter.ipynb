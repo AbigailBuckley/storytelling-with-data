{
 "cells": [
  {
   "cell_type": "markdown",
   "metadata": {},
   "source": [
    "## Import necessary packages"
   ]
  },
  {
   "cell_type": "code",
   "execution_count": 11,
   "metadata": {},
   "outputs": [
    {
     "name": "stdout",
     "output_type": "stream",
     "text": [
      "[nltk_data] Downloading package brown to /root/nltk_data...\n",
      "[nltk_data]   Package brown is already up-to-date!\n",
      "[nltk_data] Downloading package punkt to /root/nltk_data...\n",
      "[nltk_data]   Package punkt is already up-to-date!\n"
     ]
    }
   ],
   "source": [
    "from twitterscraper import query_tweets\n",
    "from sklearn.decomposition import LatentDirichletAllocation as LDA\n",
    "from sklearn.feature_extraction.text import CountVectorizer\n",
    "from scipy.sparse import csr_matrix\n",
    "import seaborn as sns\n",
    "import hypertools as hyp\n",
    "import numpy as np\n",
    "from textblob import TextBlob as tb\n",
    "import nltk\n",
    "import datetime as dt\n",
    "nltk.download('brown')\n",
    "nltk.download('punkt')\n",
    "%matplotlib inline"
   ]
  },
  {
   "cell_type": "markdown",
   "metadata": {},
   "source": [
    "## Scrape twitter for tweets about different factors\n",
    "\n",
    "- family\n",
    "- friends\n",
    "- work\n",
    "- job\n",
    "\n",
    "#### Tweets will have the following characteristics:\n",
    "- user\n",
    "- id\n",
    "- timestamp\n",
    "- fullname\n",
    "- text\n",
    "- replies\n",
    "- retweets\n",
    "- likes\n",
    "\n",
    "find geotag for region??"
   ]
  },
  {
   "cell_type": "markdown",
   "metadata": {},
   "source": [
    "### Function to search twitter for a keyword and output the happiest/saddest tweets about it"
   ]
  },
  {
   "cell_type": "code",
   "execution_count": 12,
   "metadata": {
    "collapsed": true
   },
   "outputs": [],
   "source": [
    "def tweet_sentiment(tweet):\n",
    "    b = tb(tweet)\n",
    "    return np.sum(np.array(list(map(lambda x: x.sentiment.polarity, b.sentences))))\n",
    "\n",
    "def find_tweets(keyword):\n",
    "    \n",
    "    #find tweets with keyword\n",
    "    n_tweets = 1000\n",
    "    tweets = []\n",
    "    for tweet in query_tweets(keyword, n_tweets)[:n_tweets]:\n",
    "        tweets.append(tweet)\n",
    "    \n",
    "    #get tweet text\n",
    "    tweet_text = list(map(lambda x: x.text, tweets))\n",
    "    \n",
    "    #analyze sentiment of all tweets\n",
    "    sentiments = list(map(tweet_sentiment, tweet_text))\n",
    "    \n",
    "    #get the ten happiest tweets\n",
    "    print('TOP POSITIVE TWEETS')\n",
    "    for index in list(np.array(sentiments).argsort())[-5:]:\n",
    "        print(tweet_text[index])\n",
    "        print('')\n",
    "        \n",
    "    print('---')\n",
    "        \n",
    "    #get the ten saddest tweets\n",
    "    print('TOP NEGATIVE TWEETS')\n",
    "    for index in list(np.array(sentiments).argsort())[:5]:\n",
    "        print(tweet_text[index])\n",
    "        print('')"
   ]
  },
  {
   "cell_type": "markdown",
   "metadata": {},
   "source": [
    "# WORK"
   ]
  },
  {
   "cell_type": "code",
   "execution_count": 13,
   "metadata": {},
   "outputs": [
    {
     "name": "stdout",
     "output_type": "stream",
     "text": [
      "TOP POSITIVE TWEETS\n",
      "This is amazing. Doing some great work, Kevin! I hope we can team up on some local history stuff after we get more of the archives processed https://twitter.com/KevinFrisch/status/927720347239178240 …\n",
      "\n",
      "You are welcome! Keep up with the great work! \n",
      "\n",
      "it’s okay boo! your work is amazing!! love you!!\n",
      "\n",
      "HAPPY THANKSGIVING to all!!! Hope ya'll have a great one. I'm off to work now :)\n",
      "\n",
      "Think positive. Exercise daily. Eat healthy. Work hard. Stay Strong. Worry less. Dance more. Love often. Be Happy.\n",
      "\n",
      "---\n",
      "TOP NEGATIVE TWEETS\n",
      "No buts. Every time I am angered, you have to work 80 years slavishly devoted to flattering me to get ranked up 1 from nothing. \n",
      "\n",
      "Too bad.\n",
      "\n",
      "It’s horrible. It was just as cold when I left work this evening.  \n",
      "\n",
      "@Bill_Gardner on why work reqs for Medicaid is a terrible idea is spot on. But there's another case to be made./1\n",
      "https://newrepublic.com/article/121717/medicaid-work-requirements-why-republicans-reasons-are-wrong …\n",
      "\n",
      "Work is boring today.\n",
      "\n",
      "Mudered by a jealous, nasty piece of work.\n",
      "Rest In Peace Reena Virk #iremember #reena and #icommit2nonviolence.\n",
      "\n"
     ]
    }
   ],
   "source": [
    "find_tweets('work')"
   ]
  },
  {
   "cell_type": "code",
   "execution_count": 23,
   "metadata": {},
   "outputs": [
    {
     "name": "stdout",
     "output_type": "stream",
     "text": [
      "TOP POSITIVE TWEETS\n",
      "Sherry @3843 with a $617.00 recovery by offering excellent customer service!!!   Great job @NicoletteH17 @m_depieropic.twitter.com/kQmXKqCwbS\n",
      "\n",
      "Dallas is a tough city. My best friend is a cop there.  Be safe.  Great job.\n",
      "\n",
      "Awesome job! :D\n",
      "\n",
      "Mike you summed this up perfectly. Great job! Go Saints!\n",
      "\n",
      "Colleen! You've done a great job with this. Plus, you are so talented in front of a mic or camera. Keep up the excellent work.\n",
      "\n",
      "---\n",
      "TOP NEGATIVE TWEETS\n",
      "So says the guy whose entire job is to sensationalize horrible things on the internet...and look at that. I've fallen into his trap. Crap.\n",
      "\n",
      "Downtrodden: people who are treated very badly by those in power!! One example, a boss who thinks She/He can control you at your job!! Union\n",
      "\n",
      "Do u wanna get blocked?Get a job.Shut up hater disgusting trolled.Mariahs voice is fantasy this year on tour.\n",
      "\n",
      "@chsobrino usted hable cuando las gallinas hagan pipi. Besides, en ningún momento @njaresco verbalizó tal cosa. Cut the crap! Step aside and let #lajunta do the job for Puerto Rico.\n",
      "\n",
      "They should all be locked up.  Very disappointed in @jeffsessions @jeffsessions Please Jeff do your job r give it 2 someone who will. #MAGA\n",
      "\n"
     ]
    }
   ],
   "source": [
    "find_tweets('job')"
   ]
  },
  {
   "cell_type": "markdown",
   "metadata": {},
   "source": [
    "# Family"
   ]
  },
  {
   "cell_type": "code",
   "execution_count": 14,
   "metadata": {},
   "outputs": [
    {
     "name": "stdout",
     "output_type": "stream",
     "text": [
      "TOP POSITIVE TWEETS\n",
      "Want to win GoTenna Mesh Family 4-pack [two winners]? I just entered to win and you can too. http://gvwy.io/y8owzkk \n",
      "\n",
      "@GirlontheGoCA we are happy to welcome you to our Twitter family! Hope you are having an amazing Tuesday! http://www.funair.com pic.twitter.com/Rxru9vySyw\n",
      "\n",
      "Well that’s great. It’s a wonderful feeling, being around your family and close friends. You know...\n",
      "\n",
      "All the people you’re...\n",
      "\n",
      "THANKFUL FOR\n",
      "\n",
      "@MechaMaiden  Awesome!!! Thank you for the incredible support you've done for me and my family in here Puerto Rico  pic.twitter.com/I4bRqs0kv9\n",
      "\n",
      "Sarah is awesome, done a great job at @RocksteadyGames & @bethesda. So happy to have her in the Yakuza Family!!.\n",
      "\n",
      "---\n",
      "TOP NEGATIVE TWEETS\n",
      "Y’all need to tell y’all family members stop calling me with they nasty ass attitudes \n",
      "\n",
      "Man that’s crazy!!! I pray justice get served for Bilbo and his family!!\n",
      "\n",
      "Exactly... a little inconvenience for us in nothing to the poor soul's family. Selfish comments overheard at WFJ are disgusting #Bletchley\n",
      "\n",
      "go to http://needtoimpeach.com  and stand up to Trump and anyone else that is trying to normalize the lies and hate coming out of the WH\n",
      "\n",
      "I hate my family\n",
      "\n"
     ]
    }
   ],
   "source": [
    "find_tweets('family')"
   ]
  },
  {
   "cell_type": "markdown",
   "metadata": {},
   "source": [
    "# Friends"
   ]
  },
  {
   "cell_type": "code",
   "execution_count": 15,
   "metadata": {},
   "outputs": [
    {
     "name": "stdout",
     "output_type": "stream",
     "text": [
      "TOP POSITIVE TWEETS\n",
      "hbd to one of my longest friends... i hope 16 treats you well and you have the best day ever. love you always @valerydelgado72pic.twitter.com/p5fxkS7va6\n",
      "\n",
      "Yes you were so good! Got some great streaks where almost all my deaths were you coming like: STAP KILLING MAH FRIENDS YOU BABY BLASTER D:<\n",
      "\n",
      "Well that’s great. It’s a wonderful feeling, being around your family and close friends. You know...\n",
      "\n",
      "All the people you’re...\n",
      "\n",
      "THANKFUL FOR\n",
      "\n",
      "AHH Shana! you are too kind. I love what I do and I love my authors. Makes me so happy to share that with friends and readers like you.\n",
      "\n",
      "The best friends in the world. The perfect gift for the perfect best freinds https://www.redbubble.com/people/happygiftideas/works/28784759-the-best-friends-in-the-world-the-perfect-gift-for-the-perfect-best-freinds?asc=t&p=womens-premium-t-shirt … via @redbubble\n",
      "\n",
      "---\n",
      "TOP NEGATIVE TWEETS\n",
      "Nasty sunamabih!! And the toilet you released yourself in! I don't even believe in religion but yall need Jesus...and his friends!\n",
      "\n",
      "Oh my god I had to turn messages off on PSN from anyone not friends with me. It’s the worst.\n",
      "\n",
      "all my friends.... and dirty!!! http://fb.me/3tS5f8Ylc \n",
      "\n",
      "The worst thing to these people is the reminder that not being a terrible person may just get you friends\n",
      "\n",
      "#VA friends don't let friends fall for these kinds of dirty tricks!! #VoteNortham #VoteVirginia #VoteVA #Virginia #VirginiaElection #VAGovpic.twitter.com/QIaPtXlQXn\n",
      "\n"
     ]
    }
   ],
   "source": [
    "find_tweets('friends')"
   ]
  },
  {
   "cell_type": "markdown",
   "metadata": {},
   "source": [
    "# Happy"
   ]
  },
  {
   "cell_type": "code",
   "execution_count": 16,
   "metadata": {},
   "outputs": [
    {
     "name": "stdout",
     "output_type": "stream",
     "text": [
      "TOP POSITIVE TWEETS\n",
      "Happy Bday to my favorite Lamb in Australia, Luke J Baker!!!\n",
      "Have a great day hun, you deserve it. (Enjoy... http://fb.me/7SC19mI5p \n",
      "\n",
      "@missccx Happy birthday!! Hope you have an amazing birthday. Can’t wait to celebrate your birthday with you this Friday. Love you  pic.twitter.com/xhNTQs1fzD\n",
      "\n",
      "Happy birthday kid. Meeting u this summer was one of the best days of my life. Thank you for all you do, enjoy your day today @itsAlgeehttps://twitter.com/cammybxoxo/status/893248328791715841 …\n",
      "\n",
      "Happy birthday!! hope you have an amazing day! You’re big inspiration to me! Love you!\n",
      "\n",
      "@CaseyElizabeeth ; Happy birthday babe! Hope you have a great day! Love you! pic.twitter.com/Jnq1DFV7Rs\n",
      "\n",
      "---\n",
      "TOP NEGATIVE TWEETS\n",
      "Not particularly happy about anything at West Ham at the mo suz! Wouldn’t have been my choice but need to get behind the fella now!\n",
      "\n",
      "so you mean the Bernie coalition isnt happy w the Democratic Party? shocking https://twitter.com/MaxBlumenthal/status/927984512373608448 …\n",
      "\n",
      "U want to be allowed to go around and say (example) fat people are ugly, and then people should not be allowed say they don't like it, yes?\n",
      "\n",
      "You have a choice to be happy or sad. To take comfort in where you are or feel frustrated for not being where you want to be. Your choice! pic.twitter.com/fP3XR7W2KM\n",
      "\n",
      "I feel like I’m not worth anythingI’m not happy with who I am today..I am ugly and fat! @GraysonDolan @EthanDolan you guys always me me \n",
      "\n"
     ]
    }
   ],
   "source": [
    "find_tweets('happy')"
   ]
  },
  {
   "cell_type": "markdown",
   "metadata": {},
   "source": [
    "# Sad"
   ]
  },
  {
   "cell_type": "code",
   "execution_count": 22,
   "metadata": {},
   "outputs": [
    {
     "name": "stdout",
     "output_type": "stream",
     "text": [
      "TOP POSITIVE TWEETS\n",
      "Everyone telling me do what’s best for me but idek what that is \n",
      "\n",
      "[My Best Fans] @sovietbakuretsu @xXHAINXx @xKAZAKUx @etnada__ @Meg_39_ @Gabrl__ via http://anatweet.com/bestFan pic.twitter.com/VHPUJCcWGE\n",
      "\n",
      "2do Header que hago :v\n",
      "MG Y RT se agradecen :D\n",
      "¿Que tengo que mejorar?\n",
      "@Hnzzll @PaulAbstract @FazerArtZpic.twitter.com/VsOJOa7AkW\n",
      "\n",
      "You'll hear many stories! They will turn on each other for a plea deal or immunity! They will eat their own!\n",
      "Hilda hag is on the menu!\n",
      "\n",
      "@JimBartko1 I wish you the best. I am sad to see you are leaving @Fresno_State but we all have to do what’s best for us. Good luck, sir. \n",
      "\n",
      "---\n",
      "TOP NEGATIVE TWEETS\n",
      "What’s sad is you throw around a word yourself that you don’t even understand. You just hate anything not wwe. That’s what’s wrong.\n",
      "\n",
      "Very sad to hear that. :( Crossing my fingers. If I can help (Ubi Toronto is hiring!), let me know. #TelltaleJobshttps://twitter.com/GIBiz/status/927978572010213377 …\n",
      "\n",
      "Poor guy. Giving his clothing to the poor is admirable. It’s sad they got into an accident immediately after. \n",
      "\n",
      "That's what I thought especially about villain . I'm so disgusted and sad he did this . I'm so so sorry...\n",
      "\n",
      "@BestBuy Extremely disappointed with the customer service regarding Xbox One X pre-order.  Order is Out of Stock and lack of updates is sad\n",
      "\n"
     ]
    }
   ],
   "source": [
    "find_tweets('sad')"
   ]
  },
  {
   "cell_type": "markdown",
   "metadata": {},
   "source": [
    "# Income"
   ]
  },
  {
   "cell_type": "code",
   "execution_count": 17,
   "metadata": {},
   "outputs": [
    {
     "name": "stdout",
     "output_type": "stream",
     "text": [
      "TOP POSITIVE TWEETS\n",
      "Good point!  Plus this new Tax Bill does nothing to address off shore hiding of income to avoid paying taxes. They all are GOP major donors. https://twitter.com/kkgood21/status/927962313289818113 …\n",
      "\n",
      "Cancel Mrs. Brown's Boys. That would make me so happy. Not happy enough to forgive not paying income tax. But happy.\n",
      "\n",
      "@realDonaldTrump @SpeakerRyan @SenMajLdr @RepBrady BIGGEST LIARS & CON-ARTISTS! Promoting TAX CUTS, NOT REFORM 4 Corps & Wealthy Ppl & NOT BENEFITING Avg Ppl. INCOME INEQUALITIES REAL ISSUE 2 RESOLVE, NOT MORE $$$ 4 WEALTHY Corps/Ppl. They're doing GREAT.\n",
      "https://m.huffpost.com/us/entry/us_5a00b5a3e4b0baea2633fbf5?ncid=inblnkushpmg00000009 …\n",
      "\n",
      "So excellent when an unusually large electricity bill comes right after you no longer have an income. So awesome.\n",
      "\n",
      "We ran a semi successful lunch place. To boost income we ran semi successful music nights and events. And remained sober throughout.\n",
      "\n",
      "---\n",
      "TOP NEGATIVE TWEETS\n",
      "It’s unfortunate because Meek is about to go, at minimum, 2 years without any income. You know how bad that can be?\n",
      "\n",
      "Tax avoidance isn't illegal. If you don't like it, change the law. Don't get mad at people trying to maximize their income. You would too.\n",
      "\n",
      "I don't give a crap. Companies are not paying the taxes on the income they take out of the country. End of story.\n",
      "\n",
      "I pay state income, property, & sales taxes to you idiots to run a water system SO I DON'T HAVE TO catch rainwater like a tree sloth. https://twitter.com/latimes/status/927940050909876225 …\n",
      "\n",
      "10 Ways to Make Passive Income Online _ How to get Filthy Rich_HD https://www.google.com/url?rct=j&sa=t&url=https://www.youtube.com/watch%3Fv%3D7slO5vBLUzs&ct=ga&cd=CAIyGjBlMDRlZTE1MjhjOWU2YmI6Y29tOmVuOlVT&usg=AFQjCNFHC_VglOhdEVtkO2neG_EDn8sQ2Q …\n",
      "\n"
     ]
    }
   ],
   "source": [
    "find_tweets('income')"
   ]
  },
  {
   "cell_type": "code",
   "execution_count": 18,
   "metadata": {},
   "outputs": [
    {
     "name": "stdout",
     "output_type": "stream",
     "text": [
      "TOP POSITIVE TWEETS\n",
      "He is @ReElectCohen on Twitter. ReElect says it all. Please, good people of Tennessee, don't! Steve Cohen is the last person who should represent any citizen's rights, except his own. End his salary, his political career, his sinecure.\n",
      "\n",
      "In the salary cap era every core has their prime. We made the most of ours. Good luck on not (continuing to) choke yours away\n",
      "\n",
      "I ain’t gone lie, I’d take option 2 right now. Lol. \n",
      "\n",
      "Option 2 would be a HUGE bump in salary for me.\n",
      "\n",
      "1. Yes he's not that good and it's sort of a salary dump 2. Why not? Makes no sense not to if that's where you're getting the best return\n",
      "\n",
      "I feel like Torres is a good example. TAM salary and he’s basically one of the best CBs in the league\n",
      "\n",
      "---\n",
      "TOP NEGATIVE TWEETS\n",
      "Explain to me how it’s a terrible idea? Saving the planet is a terrible idea? Creating jobs where the avg salary is above $100k is terrible?\n",
      "\n",
      "People on the train giving me dirty looks for coughing & sneezing like hey sorry wanna pay me a salary to stay home then? Hope I get u sick\n",
      "\n",
      "ANOTHER PERSON TRUMP HIRED AND IS USELESS.  INSTEAD OF FAKE TAX CUTS THE CUTS SHOULD BEGIN WITH HER SALARY!\n",
      "\n",
      "And before the “at least you’re getting paid” comments happen, I’m on salary so I’m getting paid whether I’m here or not. This is stupid af\n",
      "\n",
      "At this point, my salary would have to be almost doubled for me to even consider it. It's that awful.\n",
      "\n"
     ]
    }
   ],
   "source": [
    "find_tweets('salary')"
   ]
  },
  {
   "cell_type": "code",
   "execution_count": 19,
   "metadata": {},
   "outputs": [
    {
     "name": "stdout",
     "output_type": "stream",
     "text": [
      "TOP POSITIVE TWEETS\n",
      "Make sure to join us for a family fun day and help us raise money to help in the fight against cancer! A great... http://fb.me/1HNrl8Gvs \n",
      "\n",
      "do i regret buying dave brubeck's best album, time out, on vinyl? no, but i sure wish i would have not spent the money\n",
      "\n",
      "“Being good in business is the most fascinating kind of art. Making money is art and working is art and good business is the best art.”\n",
      "\n",
      "Have you Signed Up on Our Site yet? \n",
      "\n",
      "No ? Why not? \n",
      "\n",
      "Free to Sign Up free to play!!\n",
      "\n",
      "#Win #Prizes \n",
      "\n",
      "Put your money where your mouse is!! pic.twitter.com/POppKePpqN\n",
      "\n",
      "Hey, any chance to save money on gifts is a great time for me lol! I'm sure everyone would agree! Who doesn't love a great deal!? #Holipak\n",
      "\n",
      "---\n",
      "TOP NEGATIVE TWEETS\n",
      "It’s shame for you, people discuss his name as thief, stop crying bloody corrupt ruling elite. It’s vIP trail, think about common man, all of you must be hanged up, you waste time & money of poor PPL & country. Don’t be cruel!!! Bloody IDIOTS!!!\n",
      "\n",
      "Question: are signed NDAs (with or without money) enforceable in the case of criminal conduct, like rape? If so, should they? Seems insane.\n",
      "\n",
      "It's working, though. I do hate them. So much. I don't know how they managed to get all that money when they are SO BAD with money.\n",
      "\n",
      "That’s what you make an hour . It was always our money , I am mad that you call it s pay raise . Get to cutting the spending .\n",
      "\n",
      "I hate school a lot. And like not in the relatable way. Just the “I literally don’t know if I want to keep paying money for this shit” way.\n",
      "\n"
     ]
    }
   ],
   "source": [
    "find_tweets('money')"
   ]
  },
  {
   "cell_type": "code",
   "execution_count": 20,
   "metadata": {},
   "outputs": [
    {
     "name": "stdout",
     "output_type": "stream",
     "text": [
      "TOP POSITIVE TWEETS\n",
      "Let’s hope he arrives healthy, has a monster spring and becomes delicious trade bait. I’m sure Dodgers can afford to eat his contract.\n",
      "\n",
      "@BigDrewandJim I get making and naming your own beer. It's genius marketing. But giving $ away to charity? You'll never afford a nice suv!\n",
      "\n",
      "@RealJamesWoods  with all the cool movies you have been in you should be able to afford a cooler pistol.  Keep up the great work!\n",
      "\n",
      "Want to fund the finishing of set of Acoustic Guitars?\n",
      "\n",
      "I can't afford that many guitars.\n",
      "But the display would be...\n",
      "Mind-blowingly awesome\n",
      "\n",
      "Yeh.  Real amazing.  People can't afford to go to get help/People can't afford to get their medicine/nor go to their OWN Dr. REAL AMAZING\n",
      "\n",
      "---\n",
      "TOP NEGATIVE TWEETS\n",
      "Just the little people pay taxes who can’t afford expensive lawyers and clever accountants to avoid paying taxes?  Shocking and needs change\n",
      "\n",
      "I’m fucking terrified of failing this class. I am on the border of it already. I can’t afford to fail.\n",
      "\n",
      "To LDN from Brum. Not unless the money was outrageous. So outrageous that meant I could afford to live just as nice as I do in Brum \n",
      "\n",
      "It’s awful. The cost to live here can choke a family. I don’t know how my kids will be able to afford it. 30 yrs ago, it wasn’t bad, now ugh\n",
      "\n",
      "Ew. I hate that. Like if you can’t afford to give a proper tip then we’re at the wrong restaurant. https://twitter.com/lupusfiasco/status/927693595741769728 …\n",
      "\n"
     ]
    }
   ],
   "source": [
    "find_tweets('afford to')"
   ]
  },
  {
   "cell_type": "markdown",
   "metadata": {},
   "source": [
    "# Home"
   ]
  },
  {
   "cell_type": "code",
   "execution_count": 21,
   "metadata": {},
   "outputs": [
    {
     "name": "stdout",
     "output_type": "stream",
     "text": [
      "TOP POSITIVE TWEETS\n",
      "Nothing really beats a well-grilled sandwich! \n",
      "#foodporn #delicious #cookingpic.twitter.com/kox2cTNl1s\n",
      "\n",
      "My daughters came home @HorncastlePS excited to tell me about their fun visit @PolypipeTrade Horncastle. Excellent community engagement \n",
      "\n",
      "She smiled as she helped him pack. Humming to herself, happily. \n",
      "\n",
      "As he finished packing, she flew home and grabbed her car. Hey loaded it-\n",
      "\n",
      "Hiring a Master Elite™ roofing company means you are providing the best services for your home. Learn more here. http://bit.ly/2zzvhnD pic.twitter.com/Mzyzua3fOG\n",
      "\n",
      "Very well thank you! Settled down for an hour of #TradesTalk followed by grand designs best home at 9. Perfect Tuesday\n",
      "\n",
      "---\n",
      "TOP NEGATIVE TWEETS\n",
      "They should have kept walking all the way home.  They all are WORTHLESS piece of crap anyways. #WORTHLESS democRats.!!!  lmao.\n",
      "\n",
      "A home with no heath is awful.\n",
      "\n",
      "And every mass shooters follow the law! Pathetic excuses\n",
      "\n",
      "Fucked it the day. Had the kit all ready to go, then work happened. Just wanted to get home. Fucking raging at myself\n",
      "\n",
      "Home game tonight at 6, come out and support!!!!!\n",
      "\n"
     ]
    }
   ],
   "source": [
    "find_tweets('home')"
   ]
  },
  {
   "cell_type": "markdown",
   "metadata": {},
   "source": [
    "# Internet"
   ]
  },
  {
   "cell_type": "code",
   "execution_count": 24,
   "metadata": {},
   "outputs": [
    {
     "name": "stdout",
     "output_type": "stream",
     "text": [
      "TOP POSITIVE TWEETS\n",
      "If the internet says it's the best, it must be true! What's your favorite smoothie? https://goo.gl/kwI02Z  -http://bit.ly/2lqj1dw \n",
      "\n",
      "Great article on the evolution of Threadless. What Happened to the Internet’s Favorite T-Shirt Company? https://www.racked.com/2017/11/6/16551468/threadless-t-shirts-ecommerce?utm_campaign=racked&utm_content=entry&utm_medium=social&utm_source=twitter … via @Racked\n",
      "\n",
      "@pumpkinberry Was awesome chatting with you yesterday! Thanks for all the advice! Hope your internet issue is fixed this week!\n",
      "\n",
      "I love how many people who aren't even in Minneapolis are #GOTV for #EricaFor11. This is the best part of the internet.\n",
      "\n",
      "@IGGYAZALEA I love youu! You the best internet troll in history baby \n",
      "\n",
      "---\n",
      "TOP NEGATIVE TWEETS\n",
      "So says the guy whose entire job is to sensationalize horrible things on the internet...and look at that. I've fallen into his trap. Crap.\n",
      "\n",
      "Some times I really hate the internet!! pic.twitter.com/UlWt81thbO\n",
      "\n",
      "@virginmedia your internet is terrible! Leaving.\n",
      "\n",
      "Hollywood is obsessed with climate change disasters. What does that mean for the planet?: Mashablehttp://mashable.com/2017/11/07/global-warming-disaster-movies-geostorm/ …\n",
      "\n",
      "they make pills out of metal?  i hate the internet.\n",
      "\n"
     ]
    }
   ],
   "source": [
    "find_tweets('internet')"
   ]
  },
  {
   "cell_type": "code",
   "execution_count": null,
   "metadata": {
    "collapsed": true
   },
   "outputs": [],
   "source": []
  }
 ],
 "metadata": {
  "kernelspec": {
   "display_name": "Python 3",
   "language": "python",
   "name": "python3"
  },
  "language_info": {
   "codemirror_mode": {
    "name": "ipython",
    "version": 3
   },
   "file_extension": ".py",
   "mimetype": "text/x-python",
   "name": "python",
   "nbconvert_exporter": "python",
   "pygments_lexer": "ipython3",
   "version": "3.6.1"
  }
 },
 "nbformat": 4,
 "nbformat_minor": 2
}
