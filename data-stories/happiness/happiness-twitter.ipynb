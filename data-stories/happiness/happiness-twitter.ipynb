{
 "cells": [
  {
   "cell_type": "markdown",
   "metadata": {},
   "source": [
    "## Import necessary packages"
   ]
  },
  {
   "cell_type": "code",
   "execution_count": 1,
   "metadata": {},
   "outputs": [
    {
     "name": "stdout",
     "output_type": "stream",
     "text": [
      "[nltk_data] Downloading package brown to /root/nltk_data...\n",
      "[nltk_data]   Unzipping corpora/brown.zip.\n",
      "[nltk_data] Downloading package punkt to /root/nltk_data...\n",
      "[nltk_data]   Unzipping tokenizers/punkt.zip.\n"
     ]
    }
   ],
   "source": [
    "from twitterscraper import query_tweets\n",
    "from sklearn.decomposition import LatentDirichletAllocation as LDA\n",
    "from sklearn.feature_extraction.text import CountVectorizer\n",
    "from scipy.sparse import csr_matrix\n",
    "import seaborn as sns\n",
    "import hypertools as hyp\n",
    "import numpy as np\n",
    "from textblob import TextBlob as tb\n",
    "import nltk\n",
    "import datetime as dt\n",
    "nltk.download('brown')\n",
    "nltk.download('punkt')\n",
    "%matplotlib inline"
   ]
  },
  {
   "cell_type": "markdown",
   "metadata": {},
   "source": [
    "## Scrape twitter for tweets about different factors\n",
    "\n",
    "- family\n",
    "- friends\n",
    "- work\n",
    "- job\n",
    "\n",
    "#### Tweets will have the following characteristics:\n",
    "- user\n",
    "- id\n",
    "- timestamp\n",
    "- fullname\n",
    "- text\n",
    "- replies\n",
    "- retweets\n",
    "- likes"
   ]
  },
  {
   "cell_type": "code",
   "execution_count": 8,
   "metadata": {
    "collapsed": true
   },
   "outputs": [],
   "source": [
    "n_tweets = 50\n",
    "tweets = []\n",
    "for tweet in query_tweets(\"work\", n_tweets)[:n_tweets]:\n",
    "    tweets.append(tweet)"
   ]
  },
  {
   "cell_type": "code",
   "execution_count": 9,
   "metadata": {
    "scrolled": false
   },
   "outputs": [
    {
     "name": "stdout",
     "output_type": "stream",
     "text": [
      "I work with addicts/ex addicts everyday and seeing them want better for themselves and them doing well always warms my heart\n",
      "\n",
      "If this is true show receipts and expose them, we will do our work bc one thing is this little stan wars, other thing is crossing the lines. https://twitter.com/iordecabello/status/926156756463394816 …\n",
      "\n",
      "This is just the epitome of your hard work. The best is yet to come. So proud of you.  \n",
      "\n",
      "/me begins work on the Flux Capacitor for the DeLorean....\n",
      "\n",
      "I’d be quite happy for no new work to come my way for rest of the year, to let me catch up. To say I’m insanely busy is an understatement. \n",
      "\n",
      "I'm cancelling tight jeans/pants. I only wear them for how they make my booty look and i can't keep holding my breathe at work for this\n",
      "\n",
      "Exciting to see more options for our joint customers, great work!\n",
      "\n",
      "Those same reps are supposed to work 4 Californians. Not their stated purpose of “why should other states subsidize ca”. They don’t rep them\n",
      "\n",
      "Want to work at Reyes Fleet Management? We're #hiring in #Milwaukee, WI! Click for details: http://bit.ly/2iYSpVP  #Automotive #Job #Jobs\n",
      "\n",
      "Oh, most surely will be, but I think your work would allow you to go (they might even have to? Not sure?) & you'll get a wee stipend.\n",
      "\n",
      "Yeah the whole dynamic of the team has changed, we no longer cross and May is not in the box when we do, I like Wright but he’s a work in progress\n",
      "\n",
      "Captures the diverse areas we work in... and that’s just the profile of one committee  #OTWeek2017https://twitter.com/rcotnyregion/status/926016554344607746 …\n",
      "\n",
      "So frickin proud to wear this right now. All the hard work is finally put into perspective. The future is going to be bright. @SU_esportspic.twitter.com/dwaNuINrcj\n",
      "\n",
      "RT @ EconGMAT_Qs Let’s work on your #Data Sufficiency: The Question Stem - What is the Type? skills! http://econgm.at/cxHjxw  #MBA #Busines…\n",
      "\n",
      "i really just had to open facebook to see a post in the work group about 'world kindness day' and being charitable haha do one\n",
      "\n",
      "*work https://twitter.com/lovesashafierce/status/926163530474278912 …\n",
      "\n",
      "go to http://GVAjob.com .100% confidential and free service when looking for work.\n",
      "\n",
      "y'all know I'm not going anywhere just a vacation from work\n",
      "\n",
      "@POTUS @NC_Governor @deahq Can we please do the right thing and legalize? I am sick without it and manmade drugs don't work. Ive tried.  P https://twitter.com/nowthisnews/status/926140107173666816 …\n",
      "\n",
      "This damn show keeps making me cry (and laugh)!!! Keep up the good work. \n",
      "\n",
      "A1 Chaos! Trying to get hubby to work, kids to school, pets to stay out from under our feet! #NatureMadeHeartHealth\n",
      "\n",
      "THE LINKS DON’T WORK WITH ME SOMEONE STREAM IT VIA TWITTER JSBSHS pic.twitter.com/jPnLHgBrg0\n",
      "\n",
      "Kinda pissed I have to work on my bday\n",
      "\n",
      "@Audi not to mention setting jumper cables on backwards and shorting out her LCD display screen that would not work afterwards.\n",
      "\n",
      "If you work in marine conservation and you want a reminder of why you are so important, read this, from my late friend Ruth\n",
      "http://marianamonument.blogspot.com/2008/09/unnatural-history-of-sea.html …\n",
      "\n",
      "#Harman sees #Saumya before leaving for work\n",
      "#Shakti @VivianDsena01pic.twitter.com/XXGyZHdLb3\n",
      "\n",
      "Check out new work on my @Behance portfolio: \"textile pattern\"http://be.net/gallery/58421433/textile-pattern …\n",
      "\n",
      "I tried, it wont work :(\n",
      "\n",
      "orgasm contractions prostitute quebecoise work\n",
      "\n",
      "I’d love to if youre able do it soon on like Sunday or Monday possibly i just work unfortunately\n",
      "\n",
      "36/ work through them. It pays off unless it's a toxic relationship. Whether you decide to have a celebrity or non-celeb partner, most of\n",
      "\n",
      "go to http://GVAjob.com .100% confidential and free service when looking for work.\n",
      "\n",
      "Can you bring me some to work I thought I was your favorite Cousin\n",
      "\n",
      "I can't wait to go back to work start my grind again\n",
      "\n",
      "Faculty are suspicious of Open Education Resources and the time they need to make those resources work.  -  #EDU17. #highered #CIO #OERpic.twitter.com/tC0YCWmIPh\n",
      "\n",
      "I have work at 5.. And I just want to do this today..  pic.twitter.com/XZEk0kmuCW\n",
      "\n",
      "Great read: Whether You're a Millennial or Eyeing Retirement, Here's What You Really Need To Get Right About Work http://tinyurl.com/yb8rucey \n",
      "\n",
      "Because it's great to rewarded for hard work and remind yourself of why you love your job. Well-being is essential in my eyes\n",
      "\n",
      "3G and 4G doesn't work and they are thinking about 5G. Crap\n",
      "\n",
      "Well without the state tax deduction, mortgage deduction, medical deduction, student loan ...the math does not work in most people’s favor.\n",
      "\n",
      "Nice work big mouth. Cost us all £500 each. pic.twitter.com/CuHCJnLB6e\n",
      "\n",
      "Leaving work* https://twitter.com/xoaddi/status/926157500495282176 …\n",
      "\n",
      "It's almost 2018-- why isn't the work week only 4 days yet?!\n",
      "\n",
      "Just finished work. Off home now #verytired\n",
      "\n",
      "Hahaha. Keep doing the Lord's work ma!\n",
      "\n",
      "Never give up on your dreams! Many Thanks to @astro_DonThomas for inspiring #CapeTown children! Great work @LivingMaths #education #STEMpic.twitter.com/De7io83SZq\n",
      "\n",
      "Okay, so let's make sure we all understand what Donald is saying... an end to DIVERSARY...\n",
      "\n",
      "Enjoying some damn fine coffee and #TwinPeaks The Final Dossier before work. I couldn't wait until the weekend.\n",
      "\n",
      "Everyone smoke in my office at work, they try to hit on the new girl - I try to act like I’m working, I be listening, it’s funny.\n",
      "\n",
      "Studio classes is taking time away from me wanting to do work. BUT I am finally working on a new YouTube video starting Friday :)\n",
      "\n"
     ]
    }
   ],
   "source": [
    "for tweet in tweets:\n",
    "    print(tweet.text)\n",
    "    print('')"
   ]
  },
  {
   "cell_type": "code",
   "execution_count": null,
   "metadata": {
    "collapsed": true
   },
   "outputs": [],
   "source": []
  }
 ],
 "metadata": {
  "kernelspec": {
   "display_name": "Python 3",
   "language": "python",
   "name": "python3"
  },
  "language_info": {
   "codemirror_mode": {
    "name": "ipython",
    "version": 3
   },
   "file_extension": ".py",
   "mimetype": "text/x-python",
   "name": "python",
   "nbconvert_exporter": "python",
   "pygments_lexer": "ipython3",
   "version": "3.6.1"
  }
 },
 "nbformat": 4,
 "nbformat_minor": 2
}
