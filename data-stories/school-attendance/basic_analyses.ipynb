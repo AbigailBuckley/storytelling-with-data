{
 "cells": [
  {
   "cell_type": "code",
   "execution_count": 1,
   "metadata": {
    "collapsed": true
   },
   "outputs": [],
   "source": [
    "import pandas as pd\n",
    "import numpy as np\n",
    "import hypertools as hyp\n",
    "%matplotlib notebook"
   ]
  },
  {
   "cell_type": "code",
   "execution_count": 48,
   "metadata": {},
   "outputs": [],
   "source": [
    "#load in the data\n",
    "\n",
    "fname = 'At Risk Students For Dartmouth.xlsx'\n",
    "sheet1 = 'Year 16-17'\n",
    "sheet2 = 'Year 17-18 9.25.17'\n",
    "columns = ('id', 'grade', 'age', 'school', 'sex', 'homeless', 'disadvantaged', 'specialneeds',\n",
    "           'excused1', 'unexcused1', 'tardy1',\n",
    "           'excused2', 'unexcused2', 'tardy2',\n",
    "           'excused3', 'unexcused3', 'tardy3',\n",
    "           'excused4', 'unexcused4', 'tardy4')\n",
    "y1_data = pd.read_excel(fname, sheetname=sheet1, skiprows=[0], names=columns)\n",
    "y2_data = pd.read_excel(fname, sheetname=sheet2, skiprows=[0], names=columns)\n",
    "\n",
    "#use student IDs as the index\n",
    "y1_data.set_index('id', inplace=True)\n",
    "y2_data.set_index('id', inplace=True)"
   ]
  },
  {
   "cell_type": "code",
   "execution_count": 54,
   "metadata": {},
   "outputs": [],
   "source": [
    "#do some data cleaning\n",
    "\n",
    "#in \"disadvantaged\" column, replace \"YES\" with 1 and NaN with 0\n",
    "y1_data['disadvantaged'] = y1_data['disadvantaged'].map({np.nan: 0, 'YES': 1})\n",
    "y2_data['disadvantaged'] = y2_data['disadvantaged'].map({np.nan: 0, 'YES': 1})\n",
    "\n",
    "#replace '---' with 0 (Fourth marking period columns)\n",
    "y1_data.replace('---', 0, inplace=True)\n",
    "y2_data.replace('---', 0, inplace=True)"
   ]
  }
 ],
 "metadata": {
  "kernelspec": {
   "display_name": "Python 3",
   "language": "python",
   "name": "python3"
  },
  "language_info": {
   "codemirror_mode": {
    "name": "ipython",
    "version": 3
   },
   "file_extension": ".py",
   "mimetype": "text/x-python",
   "name": "python",
   "nbconvert_exporter": "python",
   "pygments_lexer": "ipython3",
   "version": "3.6.1"
  }
 },
 "nbformat": 4,
 "nbformat_minor": 2
}
