{
 "cells": [
  {
   "cell_type": "code",
   "execution_count": null,
   "metadata": {
    "collapsed": true
   },
   "outputs": [],
   "source": [
    "import pandas as pd\n",
    "import numpy as np\n",
    "import hypertools as hyp\n",
    "%matplotlib notebook"
   ]
  },
  {
   "cell_type": "code",
   "execution_count": null,
   "metadata": {},
   "outputs": [],
   "source": [
    "#load in the data\n",
    "\n",
    "fname = 'At Risk Students For Dartmouth.xlsx'\n",
    "sheet1 = 'Year 16-17'\n",
    "sheet2 = 'Year 17-18 9.25.17'\n",
    "columns = ('id', 'grade', 'age', 'school', 'sex', 'homeless', 'disadvantaged', 'specialneeds',\n",
    "           'excused1', 'unexcused1', 'tardy1',\n",
    "           'excused2', 'unexcused2', 'tardy2',\n",
    "           'excused3', 'unexcused3', 'tardy3',\n",
    "           'excused4', 'unexcused4', 'tardy4')\n",
    "y1_data = pd.read_excel(fname, sheetname=sheet1, skiprows=[0], names=columns)\n",
    "y2_data = pd.read_excel(fname, sheetname=sheet2, skiprows=[0], names=columns)\n",
    "\n",
    "#use student IDs as the index\n",
    "y1_data.set_index('id', inplace=True)\n",
    "y2_data.set_index('id', inplace=True)"
   ]
  },
  {
   "cell_type": "code",
   "execution_count": null,
   "metadata": {},
   "outputs": [],
   "source": [
    "pd.unique(y1_data['specialneeds'])"
   ]
  },
  {
   "cell_type": "code",
   "execution_count": null,
   "metadata": {
    "collapsed": true
   },
   "outputs": [],
   "source": [
    "#do some data cleaning\n",
    "\n",
    "#in \"disadvantaged\" column, replace \"YES\" with 1 and NaN with 0\n",
    "y1_data['disadvantaged'] = y1_data['disadvantaged'].map({np.nan: 0, 'YES': 1})\n",
    "y2_data['disadvantaged'] = y2_data['disadvantaged'].map({np.nan: 0, 'YES': 1})\n",
    "\n",
    "#in \"specialneeds\" column, \n",
    "y1_data['specialneeds'] = y1_data['specialneeds'].map({np.nan: 0, 504: '504', 'IEP': 'IEP'})\n",
    "y2_data['specialneeds'] = y2_data['specialneeds'].map({np.nan: 0, 504: '504', 'IEP': 'IEP'})\n",
    "\n",
    "\n",
    "#replace '---' with 0 (Fourth marking period columns)\n",
    "y1_data.replace('---', 0, inplace=True)\n",
    "y2_data.replace('---', 0, inplace=True)"
   ]
  },
  {
   "cell_type": "code",
   "execution_count": null,
   "metadata": {},
   "outputs": [],
   "source": [
    "y1_data[y1_data['school'] == 'Hartford High School/HACTC']"
   ]
  },
  {
   "cell_type": "code",
   "execution_count": null,
   "metadata": {
    "collapsed": true
   },
   "outputs": [],
   "source": [
    "grade9 = y1_data['grade'] == 9\n",
    "grade10 = y1_data['grade'] == 10\n",
    "grade11 = y1_data['grade'] == 11\n",
    "grade12 = y1_data['grade'] == 12\n",
    "\n",
    "hs_students = y1_data.loc[grade9 | grade10 | grade11 | grade12]\n",
    "\n",
    "#get students' gender\n",
    "\n",
    "#tally up number of absences per student\n",
    "\n",
    "#make a histogram of absenses by gender"
   ]
  },
  {
   "cell_type": "code",
   "execution_count": null,
   "metadata": {},
   "outputs": [],
   "source": [
    "hs_students.head()"
   ]
  },
  {
   "cell_type": "code",
   "execution_count": null,
   "metadata": {
    "collapsed": true
   },
   "outputs": [],
   "source": [
    "sns.factorplot(data=, x=“grade”, y=“sum_absent”, hue=“age”,\n",
    "               col=“sex”, kind=“swarm”)"
   ]
  },
  {
   "cell_type": "code",
   "execution_count": null,
   "metadata": {},
   "outputs": [],
   "source": [
    "help(sns.factorplot)"
   ]
  },
  {
   "cell_type": "code",
   "execution_count": null,
   "metadata": {
    "collapsed": true
   },
   "outputs": [],
   "source": []
  }
 ],
 "metadata": {
  "kernelspec": {
   "display_name": "Python 3",
   "language": "python",
   "name": "python3"
  },
  "language_info": {
   "codemirror_mode": {
    "name": "ipython",
    "version": 3
   },
   "file_extension": ".py",
   "mimetype": "text/x-python",
   "name": "python",
   "nbconvert_exporter": "python",
   "pygments_lexer": "ipython3",
   "version": "3.6.1"
  }
 },
 "nbformat": 4,
 "nbformat_minor": 2
}
