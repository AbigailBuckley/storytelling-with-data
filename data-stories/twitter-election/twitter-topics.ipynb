{
 "cells": [
  {
   "cell_type": "markdown",
   "metadata": {},
   "source": [
    "# To run this, you need to run (or have run) the following in docker:\n",
    "```\n",
    "pip install textblob\n",
    "pip install nltk\n",
    "pip install twitterscraper\n",
    "```"
   ]
  },
  {
   "cell_type": "code",
   "execution_count": 30,
   "metadata": {
    "scrolled": true
   },
   "outputs": [
    {
     "name": "stdout",
     "output_type": "stream",
     "text": [
      "[nltk_data] Downloading package brown to /root/nltk_data...\n",
      "[nltk_data]   Package brown is already up-to-date!\n",
      "[nltk_data] Downloading package punkt to /root/nltk_data...\n",
      "[nltk_data]   Package punkt is already up-to-date!\n"
     ]
    }
   ],
   "source": [
    "from twitterscraper import query_tweets\n",
    "from sklearn.decomposition import LatentDirichletAllocation as LDA\n",
    "from sklearn.feature_extraction.text import CountVectorizer\n",
    "from scipy.sparse import csr_matrix\n",
    "import seaborn as sns\n",
    "import hypertools as hyp\n",
    "import numpy as np\n",
    "from textblob import TextBlob as tb\n",
    "import nltk\n",
    "import datetime as dt\n",
    "nltk.download('brown')\n",
    "nltk.download('punkt')\n",
    "%matplotlib inline"
   ]
  },
  {
   "cell_type": "markdown",
   "metadata": {},
   "source": [
    "# Exploring twitter data\n",
    "\n",
    "Scrape twitter for a keyword, fit topic models, do sentiment analyses on the tweets, and make a plot"
   ]
  },
  {
   "cell_type": "code",
   "execution_count": 31,
   "metadata": {
    "collapsed": true
   },
   "outputs": [],
   "source": [
    "#scrape twitter for most recent tweets on the election...this will take a while\n",
    "n_tweets = 500\n",
    "tweets = []\n",
    "for tweet in query_tweets(\"election\", n_tweets)[:n_tweets]:\n",
    "    tweets.append(tweet)"
   ]
  },
  {
   "cell_type": "code",
   "execution_count": 32,
   "metadata": {},
   "outputs": [
    {
     "data": {
      "text/plain": [
       "datetime.datetime(2017, 10, 12, 22, 29, 26)"
      ]
     },
     "execution_count": 32,
     "metadata": {},
     "output_type": "execute_result"
    }
   ],
   "source": [
    "tweets[0].timestamp"
   ]
  },
  {
   "cell_type": "code",
   "execution_count": 33,
   "metadata": {
    "collapsed": true
   },
   "outputs": [],
   "source": [
    "#get the tweet text\n",
    "tweet_text = list(map(lambda x: x.text, tweets))"
   ]
  },
  {
   "cell_type": "code",
   "execution_count": 34,
   "metadata": {
    "collapsed": true
   },
   "outputs": [],
   "source": [
    "#convert the data to a useable format\n",
    "n_features = 1000\n",
    "tf_vectorizer = CountVectorizer(max_df=0.95, min_df=2, max_features=n_features, stop_words='english')\n",
    "tf = tf_vectorizer.fit_transform(tweet_text)\n",
    "tf_feature_names = tf_vectorizer.get_feature_names()"
   ]
  },
  {
   "cell_type": "code",
   "execution_count": 35,
   "metadata": {
    "collapsed": true
   },
   "outputs": [],
   "source": [
    "#fit a topic model to the tweets\n",
    "n_topics = 10\n",
    "lda = LDA(n_topics=n_topics, max_iter=5, learning_method='online', learning_offset=50., random_state=0).fit(tf)\n",
    "tweet_topics = lda.fit(tf)"
   ]
  },
  {
   "cell_type": "code",
   "execution_count": 36,
   "metadata": {},
   "outputs": [
    {
     "data": {
      "text/plain": [
       "<matplotlib.axes._subplots.AxesSubplot at 0x7f0895dfe860>"
      ]
     },
     "execution_count": 36,
     "metadata": {},
     "output_type": "execute_result"
    },
    {
     "data": {
      "image/png": "[encoded data removed]",
      "text/plain": [
       "<matplotlib.figure.Figure at 0x7f0890b2a048>"
      ]
     },
     "metadata": {},
     "output_type": "display_data"
    }
   ],
   "source": [
    "#topic vectors for each tweet\n",
    "sns.heatmap(tweet_topics.components_.T)"
   ]
  },
  {
   "cell_type": "code",
   "execution_count": 37,
   "metadata": {
    "collapsed": true
   },
   "outputs": [],
   "source": [
    "def display_topics(model, feature_names, no_top_words):\n",
    "    for topic_idx, topic in enumerate(model.components_):\n",
    "        print('Topic ' + str(topic_idx) + ': ', end='')\n",
    "        print(\" \".join([feature_names[i]\n",
    "                        for i in topic.argsort()[:-no_top_words - 1:-1]]))"
   ]
  },
  {
   "cell_type": "code",
   "execution_count": 38,
   "metadata": {},
   "outputs": [
    {
     "name": "stdout",
     "output_type": "stream",
     "text": [
      "Topic 0: election liberia weah com http george twitter presidential news pic\n",
      "Topic 1: election http com trump www won vote https news just\n",
      "Topic 2: election com twitter https russia status pic pokemon used cnn\n",
      "Topic 3: executive editor nytpolitics http trump election nyti like cover reporters\n",
      "Topic 4: election twitter com think really won elections https status football\n",
      "Topic 5: happened started election en élection les ben performing drag retire\n",
      "Topic 6: wants crash burn election american yqyrq_czyum try youtube sway youtu\n",
      "Topic 7: la unesco les élection en du que et israel plus\n",
      "Topic 8: election way 3rd japan happening world soon october real time\n",
      "Topic 9: facebook election sandberg http meddling russia 2016 sheryl america says\n"
     ]
    }
   ],
   "source": [
    "display_topics(lda, tf_feature_names, 10)"
   ]
  },
  {
   "cell_type": "code",
   "execution_count": 39,
   "metadata": {},
   "outputs": [
    {
     "data": {
      "text/plain": [
       "<matplotlib.axes._subplots.AxesSubplot at 0x7f088a3e17b8>"
      ]
     },
     "execution_count": 39,
     "metadata": {},
     "output_type": "execute_result"
    },
    {
     "data": {
      "image/png": "[encoded data removed]",
      "text/plain": [
       "<matplotlib.figure.Figure at 0x7f088a3edb38>"
      ]
     },
     "metadata": {},
     "output_type": "display_data"
    }
   ],
   "source": [
    "sns.heatmap(tf.todense())"
   ]
  },
  {
   "cell_type": "code",
   "execution_count": 40,
   "metadata": {
    "collapsed": true
   },
   "outputs": [],
   "source": [
    "blob = tb(tweet_text[0])"
   ]
  },
  {
   "cell_type": "code",
   "execution_count": 41,
   "metadata": {},
   "outputs": [
    {
     "name": "stdout",
     "output_type": "stream",
     "text": [
      "Imagine all that tainted political donation $$$ from Hollywood that will have to be refused by Democrats during the next election.\n"
     ]
    }
   ],
   "source": [
    "print(tweet_text[0])"
   ]
  },
  {
   "cell_type": "code",
   "execution_count": 42,
   "metadata": {
    "collapsed": true
   },
   "outputs": [],
   "source": [
    "def tweet_sentiment(tweet):\n",
    "    b = tb(tweet)\n",
    "    return np.sum(np.array(list(map(lambda x: x.sentiment.polarity, b.sentences))))"
   ]
  },
  {
   "cell_type": "code",
   "execution_count": 43,
   "metadata": {
    "collapsed": true
   },
   "outputs": [],
   "source": [
    "sentiments = list(map(tweet_sentiment, tweet_text))"
   ]
  },
  {
   "cell_type": "code",
   "execution_count": 44,
   "metadata": {},
   "outputs": [
    {
     "data": {
      "text/plain": [
       "'Yes.  Yes.  Yes. And love election night videos.  “Brace for impact.”  Lol.'"
      ]
     },
     "execution_count": 44,
     "metadata": {},
     "output_type": "execute_result"
    }
   ],
   "source": [
    "#happiest tweet\n",
    "tweet_text[np.where(sentiments == np.max(sentiments))[0][0]]"
   ]
  },
  {
   "cell_type": "code",
   "execution_count": 45,
   "metadata": {},
   "outputs": [
    {
     "data": {
      "text/plain": [
       "\"I'm disgusted every election year by the vandalism that PETA does to all those RE-ELECT Mayor McCheese election signs.\""
      ]
     },
     "execution_count": 45,
     "metadata": {},
     "output_type": "execute_result"
    }
   ],
   "source": [
    "#saddest tweet\n",
    "tweet_text[np.where(sentiments == np.min(sentiments))[0][0]]"
   ]
  },
  {
   "cell_type": "code",
   "execution_count": 46,
   "metadata": {},
   "outputs": [
    {
     "name": "stdout",
     "output_type": "stream",
     "text": [
      "[[ 0.49377615  6.19928547  9.32053214 ...,  0.38934287  0.50221058\n",
      "   0.3962199 ]\n",
      " [ 0.39031046  2.38092916  1.83300828 ...,  0.3831004   0.36098529\n",
      "   0.39465173]\n",
      " [ 0.43919849  1.74024355  3.62235037 ...,  0.44356089  0.44634201\n",
      "   0.37711106]\n",
      " ..., \n",
      " [ 0.43465144  0.42364688  0.62765172 ...,  0.40086022  0.37386797\n",
      "   0.36617939]\n",
      " [ 0.40843414  1.02451011  0.34758814 ...,  0.39515419  0.36172462\n",
      "   1.09219229]\n",
      " [ 0.3848038   0.54435886  0.41860297 ...,  2.50366979  0.3691239\n",
      "   0.3873185 ]]\n"
     ]
    }
   ],
   "source": [
    "print(tweet_topics.components_.T)"
   ]
  },
  {
   "cell_type": "code",
   "execution_count": 47,
   "metadata": {},
   "outputs": [
    {
     "data": {
      "image/png": "[encoded data removed]",
      "text/plain": [
       "<matplotlib.figure.Figure at 0x7f088a3bb208>"
      ]
     },
     "metadata": {},
     "output_type": "display_data"
    }
   ],
   "source": [
    "#make a hypertools plot of the tweets, colored by sentiment\n",
    "hyp.plot(tweet_topics.components_.T, '.', group=sentiments, palette='RdBu_r', model='SpectralEmbedding');"
   ]
  },
  {
   "cell_type": "markdown",
   "metadata": {},
   "source": [
    "# Defining some useful Twitter-related functions"
   ]
  },
  {
   "cell_type": "code",
   "execution_count": 48,
   "metadata": {
    "collapsed": true
   },
   "outputs": [],
   "source": [
    "# function for scraping twitter for one or more keywords and returning a dictionary with:\n",
    "# - tweets: the tweet text (list of length n_tweets)\n",
    "# - topicvecs: the tweet topic vectors (numpy array with n_tweets rows and n_topics columns)\n",
    "# - topwords: the top n words from each topic (list of length n_topics, where each element is a list of n_words)\n",
    "# - sentiments: the sentiment valence of each tweet (numpy array of length n_tweets)\n",
    "\n",
    "def twitter_magic(keywords, n_tweets=500, n_topics=10, n_words=5, model=None):\n",
    "    #if keywords is a list, combine all keywords into a single string, where each word is separated by \" OR \"\n",
    "    if type(keywords) == list:\n",
    "        keywords = ' OR '.join(keywords)\n",
    "    \n",
    "    #get the tweets\n",
    "    tweets = []\n",
    "    for tweet in query_tweets(keywords, n_tweets)[:n_tweets]:\n",
    "        tweets.append(tweet)\n",
    "    \n",
    "    #get the tweet text\n",
    "    tweet_text = list(map(lambda x: x.text, tweets))\n",
    "    \n",
    "    #fit a topic model to the tweet text    \n",
    "    n_features = 1000\n",
    "    tf_vectorizer = CountVectorizer(max_df=0.95, min_df=2, max_features=n_features, stop_words='english')\n",
    "    tf = tf_vectorizer.fit_transform(tweet_text)    \n",
    "    vocab = tf_vectorizer.get_feature_names()\n",
    "    \n",
    "    if model == None:\n",
    "        lda = LDA(n_topics=n_topics, max_iter=5, learning_method='online', learning_offset=50., random_state=0).fit(tf)\n",
    "    else:\n",
    "        lda = model            \n",
    "    tweet_topics = lda.fit(tf)\n",
    "    \n",
    "    def get_top_words(model, vocab, n_words):\n",
    "        top_words = []\n",
    "        for topic_idx, topic in enumerate(model.components_):       \n",
    "            next = topic.argsort()[:-n_words - 1:-1]\n",
    "            top_words.append(list(map(lambda x: vocab[x], next)))\n",
    "        return top_words\n",
    "    \n",
    "    def tweet_sentiment(tweet):\n",
    "        b = tb(tweet)\n",
    "        return np.sum(np.array(list(map(lambda x: x.sentiment.polarity, b.sentences))))\n",
    "    \n",
    "    return{'tweets': tweet_text,\n",
    "           'topicvecs': lda.components_.T,\n",
    "           'topwords': get_top_words(lda, vocab, n_words),\n",
    "           'sentiments': np.array(list(map(tweet_sentiment, tweet_text))),\n",
    "           'model': lda}"
   ]
  },
  {
   "cell_type": "code",
   "execution_count": 49,
   "metadata": {
    "collapsed": true
   },
   "outputs": [],
   "source": [
    "n = 100 #number of tweets to download for each candidate\n",
    "\n",
    "trump = twitter_magic(['election AND trump'], n_tweets=n)\n",
    "\n",
    "#now fit clinton tweets using the topic model from trump_election_tweets (otherwise the topic vectors will be different)\n",
    "clinton = twitter_magic(['election AND clinton', 'election AND hillary'], n_tweets=n, model=trump['model'])\n",
    "\n",
    "#now fit sanders tweets (using the same topic model)\n",
    "sanders = twitter_magic(['election AND sanders', 'election AND bernie'], n_tweets=n, model=trump['model'])"
   ]
  },
  {
   "cell_type": "code",
   "execution_count": 50,
   "metadata": {},
   "outputs": [
    {
     "data": {
      "image/png": "[encoded data removed]",
      "text/plain": [
       "<matplotlib.figure.Figure at 0x7f088a59aba8>"
      ]
     },
     "metadata": {},
     "output_type": "display_data"
    }
   ],
   "source": [
    "#plot the trump and clinton tweets\n",
    "hyp.plot([trump['topicvecs'], sanders['topicvecs'], clinton['topicvecs']],\n",
    "         '.', model='SpectralEmbedding', legend=['Trump', 'Sanders', 'Clinton']);"
   ]
  },
  {
   "cell_type": "code",
   "execution_count": 51,
   "metadata": {},
   "outputs": [
    {
     "name": "stdout",
     "output_type": "stream",
     "text": [
      "HAPPIEST TWEETS:\n",
      "TRUMP-CONTAINING: 100%.  You can count on that. Need to talk to more people who didn't vote last election. In my opinion they are our best bet.\n",
      "\n",
      "SANDERS-CONTAINING: Did you get a refund on your bernie donations! Match me! Lol. Good luck on next election. You are REALLY gonna need it.\n",
      "\n",
      "CLINTON-CONTAINING: True. The last election covered all this. Hillary was most qualified, Bernie may have been more exciting to dems. Vote split and Trump wins\n",
      "\n",
      "\n",
      "\n",
      "SADDEST TWEETS:\n",
      "TRUMP-CONTAINING: Our election was hacked by Russia and Russia paid big companies like Google, Facebook and twitter for ads. Voting is worthless.\n",
      "\n",
      "SANDERS-CONTAINING: And good luck without the base in any Bernie election. See how that works? Do you even know who the base is? Women and POC.\n",
      "\n",
      "CLINTON-CONTAINING: Faux News and the Republican Party need to get over Hillary. The p***y grabber won the election and you are still afraid of her. Sad!\n",
      "\n"
     ]
    }
   ],
   "source": [
    "#get the happiest and saddest tweets from each candidate\n",
    "def get_happiest_tweets(results):\n",
    "    return results['tweets'][np.where(results['sentiments'] == np.max(results['sentiments']))[0][0]]\n",
    "\n",
    "def get_saddest_tweets(results):\n",
    "    return results['tweets'][np.where(results['sentiments'] == np.min(results['sentiments']))[0][0]]\n",
    "\n",
    "candidates = ['trump', 'sanders', 'clinton']\n",
    "\n",
    "print('HAPPIEST TWEETS:')\n",
    "for c in candidates:\n",
    "    print(c.upper() + '-CONTAINING: ' + get_happiest_tweets(eval(c)) + '\\n')\n",
    "    \n",
    "print('\\n\\nSADDEST TWEETS:')\n",
    "for c in candidates:\n",
    "    print(c.upper() + '-CONTAINING: ' + get_saddest_tweets(eval(c)) + '\\n')"
   ]
  }
 ],
 "metadata": {
  "kernelspec": {
   "display_name": "Python 3",
   "language": "python",
   "name": "python3"
  },
  "language_info": {
   "codemirror_mode": {
    "name": "ipython",
    "version": 3
   },
   "file_extension": ".py",
   "mimetype": "text/x-python",
   "name": "python",
   "nbconvert_exporter": "python",
   "pygments_lexer": "ipython3",
   "version": "3.6.1"
  }
 },
 "nbformat": 4,
 "nbformat_minor": 2
}
