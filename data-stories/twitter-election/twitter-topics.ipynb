{
 "cells": [
  {
   "cell_type": "markdown",
   "metadata": {},
   "source": [
    "# To run this, you need to run (or have run) the following in docker:\n",
    "```\n",
    "pip install textblob\n",
    "pip install nltk\n",
    "pip install twitterscraper\n",
    "```"
   ]
  },
  {
   "cell_type": "code",
   "execution_count": 1,
   "metadata": {
    "scrolled": true
   },
   "outputs": [
    {
     "name": "stdout",
     "output_type": "stream",
     "text": [
      "[nltk_data] Downloading package brown to /root/nltk_data...\n",
      "[nltk_data]   Package brown is already up-to-date!\n",
      "[nltk_data] Downloading package punkt to /root/nltk_data...\n",
      "[nltk_data]   Package punkt is already up-to-date!\n"
     ]
    }
   ],
   "source": [
    "from twitterscraper import query_tweets\n",
    "from sklearn.decomposition import LatentDirichletAllocation as LDA\n",
    "from sklearn.feature_extraction.text import CountVectorizer\n",
    "from scipy.sparse import csr_matrix\n",
    "import seaborn as sns\n",
    "import hypertools as hyp\n",
    "import numpy as np\n",
    "from textblob import TextBlob as tb\n",
    "import nltk\n",
    "import datetime as dt\n",
    "nltk.download('brown')\n",
    "nltk.download('punkt')\n",
    "%matplotlib inline"
   ]
  },
  {
   "cell_type": "markdown",
   "metadata": {},
   "source": [
    "# Exploring twitter data\n",
    "\n",
    "Scrape twitter for a keyword, fit topic models, do sentiment analyses on the tweets, and make a plot"
   ]
  },
  {
   "cell_type": "code",
   "execution_count": 2,
   "metadata": {},
   "outputs": [],
   "source": [
    "#scrape twitter for most recent tweets on the election...this will take a while\n",
    "n_tweets = 50\n",
    "tweets = []\n",
    "for tweet in query_tweets(\"election\", n_tweets)[:n_tweets]:\n",
    "    tweets.append(tweet)"
   ]
  },
  {
   "cell_type": "code",
   "execution_count": 4,
   "metadata": {},
   "outputs": [
    {
     "data": {
      "text/plain": [
       "datetime.datetime(2017, 10, 10, 18, 26, 59)"
      ]
     },
     "execution_count": 4,
     "metadata": {},
     "output_type": "execute_result"
    }
   ],
   "source": [
    "tweets[0].timestamp"
   ]
  },
  {
   "cell_type": "code",
   "execution_count": 5,
   "metadata": {
    "collapsed": true
   },
   "outputs": [],
   "source": [
    "#get the tweet text\n",
    "tweet_text = list(map(lambda x: x.text, tweets))"
   ]
  },
  {
   "cell_type": "code",
   "execution_count": 8,
   "metadata": {},
   "outputs": [
    {
     "data": {
      "text/plain": [
       "'There will be no election on 26th and no one will be declared President without a fresh election..'"
      ]
     },
     "execution_count": 8,
     "metadata": {},
     "output_type": "execute_result"
    }
   ],
   "source": [
    "tweet_text[1]"
   ]
  },
  {
   "cell_type": "code",
   "execution_count": 9,
   "metadata": {
    "collapsed": true
   },
   "outputs": [],
   "source": [
    "#convert the data to a useable format\n",
    "n_features = 1000\n",
    "tf_vectorizer = CountVectorizer(max_df=0.95, min_df=2, max_features=n_features, stop_words='english')\n",
    "tf = tf_vectorizer.fit_transform(tweet_text)\n",
    "tf_feature_names = tf_vectorizer.get_feature_names()"
   ]
  },
  {
   "cell_type": "code",
   "execution_count": 10,
   "metadata": {},
   "outputs": [
    {
     "data": {
      "text/plain": [
       "['10',\n",
       " '2017',\n",
       " '26th',\n",
       " 'abc',\n",
       " 'abcpolitics',\n",
       " 'amendment',\n",
       " 'best',\n",
       " 'boycotted',\n",
       " 'campaign',\n",
       " 'candidate',\n",
       " 'close',\n",
       " 'com',\n",
       " 'court',\n",
       " 'day',\n",
       " 'does',\n",
       " 'election',\n",
       " 'elections',\n",
       " 'fair',\n",
       " 'fb',\n",
       " 'free',\n",
       " 'going',\n",
       " 'html',\n",
       " 'http',\n",
       " 'https',\n",
       " 'iebc',\n",
       " 'just',\n",
       " 'kenyan',\n",
       " 'latest',\n",
       " 'liberia',\n",
       " 'liberian',\n",
       " 'lnjx_imoz3m',\n",
       " 'make',\n",
       " 'million',\n",
       " 'new',\n",
       " 'obama',\n",
       " 'october',\n",
       " 'odinga',\n",
       " 'passes',\n",
       " 'people',\n",
       " 'pic',\n",
       " 'place',\n",
       " 'poll',\n",
       " 'polls',\n",
       " 'presidential',\n",
       " 'press',\n",
       " 'raila',\n",
       " 'russian',\n",
       " 'senate',\n",
       " 'state',\n",
       " 'status',\n",
       " 'today',\n",
       " 'trump',\n",
       " 'twitter',\n",
       " 'unanimously',\n",
       " 'update',\n",
       " 'vote',\n",
       " 'wait',\n",
       " 'wants',\n",
       " 'web',\n",
       " 'withdrawal',\n",
       " 'won',\n",
       " 'www',\n",
       " 'youtu',\n",
       " 'youtube']"
      ]
     },
     "execution_count": 10,
     "metadata": {},
     "output_type": "execute_result"
    }
   ],
   "source": [
    "tf_feature_names"
   ]
  },
  {
   "cell_type": "code",
   "execution_count": 11,
   "metadata": {
    "collapsed": true
   },
   "outputs": [],
   "source": [
    "#fit a topic model to the tweets\n",
    "n_topics = 10\n",
    "lda = LDA(n_topics=n_topics, max_iter=5, learning_method='online', learning_offset=50., random_state=0).fit(tf)\n",
    "tweet_topics = lda.fit(tf)"
   ]
  },
  {
   "cell_type": "code",
   "execution_count": 12,
   "metadata": {},
   "outputs": [
    {
     "data": {
      "text/plain": [
       "<matplotlib.axes._subplots.AxesSubplot at 0x7f97a7ad2400>"
      ]
     },
     "execution_count": 12,
     "metadata": {},
     "output_type": "execute_result"
    },
    {
     "data": {
      "image/png": "[encoded data removed]",
      "text/plain": [
       "<matplotlib.figure.Figure at 0x7f97a76500f0>"
      ]
     },
     "metadata": {},
     "output_type": "display_data"
    }
   ],
   "source": [
    "#topic vectors for each tweet\n",
    "sns.heatmap(tweet_topics.components_.T)"
   ]
  },
  {
   "cell_type": "code",
   "execution_count": 13,
   "metadata": {
    "collapsed": true
   },
   "outputs": [],
   "source": [
    "def display_topics(model, feature_names, no_top_words):\n",
    "    for topic_idx, topic in enumerate(model.components_):\n",
    "        print('Topic ' + str(topic_idx) + ': ', end='')\n",
    "        print(\" \".join([feature_names[i]\n",
    "                        for i in topic.argsort()[:-no_top_words - 1:-1]]))"
   ]
  },
  {
   "cell_type": "code",
   "execution_count": 14,
   "metadata": {},
   "outputs": [
    {
     "name": "stdout",
     "output_type": "stream",
     "text": [
      "Topic 0: does 26th won 10 elections close fair going trump html\n",
      "Topic 1: election russian com youtube won free fair new twitter today\n",
      "Topic 2: people make kenyan court new october day trump www wait\n",
      "Topic 3: election press senate lnjx_imoz3m elections state russian http wait october\n",
      "Topic 4: election com https liberia twitter 10 court raila latest boycotted\n",
      "Topic 5: election polls abc liberia presidential latest http close just pic\n",
      "Topic 6: election com twitter 2017 http https status 10 www passes\n",
      "Topic 7: fair just 26th election unanimously obama place candidate free october\n",
      "Topic 8: election 26th court october just iebc http liberian update obama\n",
      "Topic 9: abcpolitics press https status web abc com state trump twitter\n"
     ]
    }
   ],
   "source": [
    "display_topics(lda, tf_feature_names, 10)"
   ]
  },
  {
   "cell_type": "code",
   "execution_count": 15,
   "metadata": {},
   "outputs": [
    {
     "data": {
      "text/plain": [
       "<matplotlib.axes._subplots.AxesSubplot at 0x7f97a76498d0>"
      ]
     },
     "execution_count": 15,
     "metadata": {},
     "output_type": "execute_result"
    },
    {
     "data": {
      "image/png": "[encoded data removed]",
      "text/plain": [
       "<matplotlib.figure.Figure at 0x7f97a4278ac8>"
      ]
     },
     "metadata": {},
     "output_type": "display_data"
    }
   ],
   "source": [
    "sns.heatmap(tf.todense())"
   ]
  },
  {
   "cell_type": "code",
   "execution_count": 16,
   "metadata": {
    "collapsed": true
   },
   "outputs": [],
   "source": [
    "blob = tb(tweet_text[0])"
   ]
  },
  {
   "cell_type": "code",
   "execution_count": 18,
   "metadata": {
    "collapsed": true
   },
   "outputs": [],
   "source": [
    "def tweet_sentiment(tweet):\n",
    "    b = tb(tweet)\n",
    "    return np.sum(np.array(list(map(lambda x: x.sentiment.polarity, b.sentences))))"
   ]
  },
  {
   "cell_type": "code",
   "execution_count": 19,
   "metadata": {
    "collapsed": true
   },
   "outputs": [],
   "source": [
    "sentiments = list(map(tweet_sentiment, tweet_text))"
   ]
  },
  {
   "cell_type": "code",
   "execution_count": 22,
   "metadata": {},
   "outputs": [
    {
     "data": {
      "text/plain": [
       "\"The ALP's greatest asset for 2019 Election.  In the meantime just sit back and let @TonyAbbottMHR campaign for them.  A great strategy...\""
      ]
     },
     "execution_count": 22,
     "metadata": {},
     "output_type": "execute_result"
    }
   ],
   "source": [
    "#happiest tweet\n",
    "tweet_text[np.where(sentiments == np.max(sentiments))[0][0]]"
   ]
  },
  {
   "cell_type": "code",
   "execution_count": 23,
   "metadata": {},
   "outputs": [
    {
     "data": {
      "text/plain": [
       "'@K24 Tv am watching from Roisambu Nairobi i think IEBC should go with OCTOBER 26th election so as to hard here to the Supreme Court order'"
      ]
     },
     "execution_count": 23,
     "metadata": {},
     "output_type": "execute_result"
    }
   ],
   "source": [
    "#saddest tweet\n",
    "tweet_text[np.where(sentiments == np.min(sentiments))[0][0]]"
   ]
  },
  {
   "cell_type": "code",
   "execution_count": 25,
   "metadata": {},
   "outputs": [
    {
     "data": {
      "image/png": "[encoded data removed]",
      "text/plain": [
       "<matplotlib.figure.Figure at 0x7f97a7843128>"
      ]
     },
     "metadata": {},
     "output_type": "display_data"
    }
   ],
   "source": [
    "#make a hypertools plot of the tweets, colored by sentiment\n",
    "hyp.plot(tweet_topics.components_.T, 'o', group=sentiments, palette='RdBu_r', model='SpectralEmbedding');"
   ]
  },
  {
   "cell_type": "markdown",
   "metadata": {},
   "source": [
    "# Defining some useful Twitter-related functions"
   ]
  },
  {
   "cell_type": "code",
   "execution_count": 26,
   "metadata": {
    "collapsed": true
   },
   "outputs": [],
   "source": [
    "# function for scraping twitter for one or more keywords and returning a dictionary with:\n",
    "# - tweets: the tweet text (list of length n_tweets)\n",
    "# - topicvecs: the tweet topic vectors (numpy array with n_tweets rows and n_topics columns)\n",
    "# - topwords: the top n words from each topic (list of length n_topics, where each element is a list of n_words)\n",
    "# - sentiments: the sentiment valence of each tweet (numpy array of length n_tweets)\n",
    "\n",
    "def twitter_magic(keywords, n_tweets=500, n_topics=10, n_words=5, model=None):\n",
    "    #if keywords is a list, combine all keywords into a single string, where each word is separated by \" OR \"\n",
    "    if type(keywords) == list:\n",
    "        keywords = ' OR '.join(keywords)\n",
    "    \n",
    "    #get the tweets\n",
    "    tweets = []\n",
    "    for tweet in query_tweets(keywords, n_tweets)[:n_tweets]:\n",
    "        tweets.append(tweet)\n",
    "    \n",
    "    #get the tweet text\n",
    "    tweet_text = list(map(lambda x: x.text, tweets))\n",
    "    \n",
    "    #fit a topic model to the tweet text    \n",
    "    n_features = 1000\n",
    "    tf_vectorizer = CountVectorizer(max_df=0.95, min_df=2, max_features=n_features, stop_words='english')\n",
    "    tf = tf_vectorizer.fit_transform(tweet_text)    \n",
    "    vocab = tf_vectorizer.get_feature_names()\n",
    "    \n",
    "    if model == None:\n",
    "        lda = LDA(n_topics=n_topics, max_iter=5, learning_method='online', learning_offset=50., random_state=0).fit(tf)\n",
    "    else:\n",
    "        lda = model            \n",
    "    tweet_topics = lda.fit(tf)\n",
    "    \n",
    "    def get_top_words(model, vocab, n_words):\n",
    "        top_words = []\n",
    "        for topic_idx, topic in enumerate(model.components_):       \n",
    "            next = topic.argsort()[:-n_words - 1:-1]\n",
    "            top_words.append(list(map(lambda x: vocab[x], next)))\n",
    "        return top_words\n",
    "    \n",
    "    def tweet_sentiment(tweet):\n",
    "        b = tb(tweet)\n",
    "        return np.sum(np.array(list(map(lambda x: x.sentiment.polarity, b.sentences))))\n",
    "    \n",
    "    return{'tweets': tweet_text,\n",
    "           'topicvecs': lda.components_.T,\n",
    "           'topwords': get_top_words(lda, vocab, n_words),\n",
    "           'sentiments': np.array(list(map(tweet_sentiment, tweet_text))),\n",
    "           'model': lda}"
   ]
  },
  {
   "cell_type": "code",
   "execution_count": 27,
   "metadata": {
    "collapsed": true
   },
   "outputs": [],
   "source": [
    "n = 100 #number of tweets to download for each candidate\n",
    "\n",
    "trump = twitter_magic(['election AND trump'], n_tweets=n)\n",
    "\n",
    "#now fit clinton tweets using the topic model from trump_election_tweets (otherwise the topic vectors will be different)\n",
    "clinton = twitter_magic(['election AND clinton', 'election AND hillary'], n_tweets=n, model=trump['model'])\n",
    "\n",
    "#now fit sanders tweets (using the same topic model)\n",
    "sanders = twitter_magic(['election AND sanders', 'election AND bernie'], n_tweets=n, model=trump['model'])"
   ]
  },
  {
   "cell_type": "code",
   "execution_count": 28,
   "metadata": {},
   "outputs": [
    {
     "data": {
      "image/png": "[encoded data removed]",
      "text/plain": [
       "<matplotlib.figure.Figure at 0x7f97a4374630>"
      ]
     },
     "metadata": {},
     "output_type": "display_data"
    }
   ],
   "source": [
    "#plot the trump and clinton tweets\n",
    "hyp.plot([trump['topicvecs'], sanders['topicvecs'], clinton['topicvecs']],\n",
    "         '.', model='SpectralEmbedding', legend=['Trump', 'Sanders', 'Clinton']);"
   ]
  },
  {
   "cell_type": "code",
   "execution_count": 29,
   "metadata": {},
   "outputs": [
    {
     "name": "stdout",
     "output_type": "stream",
     "text": [
      "HAPPIEST TWEETS:\n",
      "TRUMP-CONTAINING: You know how to get Trump out, right? Win an election. pic.twitter.com/0LJCEVCrU4\n",
      "\n",
      "SANDERS-CONTAINING: He couldn’t win with a stacked deck.  May be should hire Wasserman-Schultz.  She is good a tilting primary election results.  Ask Bernie!\n",
      "\n",
      "CLINTON-CONTAINING: 2016 Primary Election was rigged!\n",
      "\" #BernieWouldHaveWon \"\n",
      "Super Delegates  BEFORE 1st States voted\n",
      "Hillary: 714\n",
      "Sanders: 39\n",
      "#BERNIE2020 \n",
      "\n",
      "\n",
      "\n",
      "SADDEST TWEETS:\n",
      "TRUMP-CONTAINING: Do that and you’ll destroy the Republican Party! Once party is destroyed and wiped out 2018 election will be brutal Dems will impeach Trump\n",
      "\n",
      "SANDERS-CONTAINING: How did the DNC rig the election? Do you mean against Bernie? I get what you’re trying to say w trump but imo I feel he is as corrupt as they are.\n",
      "\n",
      "CLINTON-CONTAINING: Ohh and I did voted Trump during the spring primaries (bc of bad dem options)But yes, I voted Hillary during the general election. (my bad)\n",
      "\n"
     ]
    }
   ],
   "source": [
    "#get the happiest and saddest tweets from each candidate\n",
    "def get_happiest_tweets(results):\n",
    "    return results['tweets'][np.where(results['sentiments'] == np.max(results['sentiments']))[0][0]]\n",
    "\n",
    "def get_saddest_tweets(results):\n",
    "    return results['tweets'][np.where(results['sentiments'] == np.min(results['sentiments']))[0][0]]\n",
    "\n",
    "candidates = ['trump', 'sanders', 'clinton']\n",
    "\n",
    "print('HAPPIEST TWEETS:')\n",
    "for c in candidates:\n",
    "    print(c.upper() + '-CONTAINING: ' + get_happiest_tweets(eval(c)) + '\\n')\n",
    "    \n",
    "print('\\n\\nSADDEST TWEETS:')\n",
    "for c in candidates:\n",
    "    print(c.upper() + '-CONTAINING: ' + get_saddest_tweets(eval(c)) + '\\n')"
   ]
  },
  {
   "cell_type": "code",
   "execution_count": null,
   "metadata": {
    "collapsed": true
   },
   "outputs": [],
   "source": []
  }
 ],
 "metadata": {
  "kernelspec": {
   "display_name": "Python 3",
   "language": "python",
   "name": "python3"
  },
  "language_info": {
   "codemirror_mode": {
    "name": "ipython",
    "version": 3
   },
   "file_extension": ".py",
   "mimetype": "text/x-python",
   "name": "python",
   "nbconvert_exporter": "python",
   "pygments_lexer": "ipython3",
   "version": "3.6.1"
  }
 },
 "nbformat": 4,
 "nbformat_minor": 2
}
