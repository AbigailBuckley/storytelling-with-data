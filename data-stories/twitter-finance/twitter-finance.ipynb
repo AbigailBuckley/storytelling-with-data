{
 "cells": [
  {
   "cell_type": "markdown",
   "metadata": {},
   "source": [
    "# To run this, you need to run (or have run) the following in docker:\n",
    "```\n",
    "pip install textblob\n",
    "pip install nltk\n",
    "pip install twitterscraper\n",
    "pip install pandas_datareader\n",
    "pip install yahoo-finance\n",
    "```"
   ]
  },
  {
   "cell_type": "code",
   "execution_count": 159,
   "metadata": {
    "scrolled": true
   },
   "outputs": [
    {
     "name": "stdout",
     "output_type": "stream",
     "text": [
      "[nltk_data] Downloading package brown to /root/nltk_data...\n",
      "[nltk_data]   Package brown is already up-to-date!\n",
      "[nltk_data] Downloading package punkt to /root/nltk_data...\n",
      "[nltk_data]   Package punkt is already up-to-date!\n"
     ]
    }
   ],
   "source": [
    "from twitterscraper import query_tweets\n",
    "from twitterscraper.query import query_tweets_once as query_tweets_advanced\n",
    "from sklearn.decomposition import LatentDirichletAllocation as LDA\n",
    "from sklearn.feature_extraction.text import CountVectorizer\n",
    "from scipy.sparse import csr_matrix\n",
    "import seaborn as sns\n",
    "import hypertools as hyp\n",
    "import numpy as np\n",
    "from textblob import TextBlob as tb\n",
    "import pandas_datareader as pdr\n",
    "import pandas as pd\n",
    "import numpy as np\n",
    "import datetime as dt\n",
    "from yahoo_finance import Share\n",
    "import nltk\n",
    "nltk.download('brown')\n",
    "nltk.download('punkt')\n",
    "%matplotlib inline"
   ]
  },
  {
   "cell_type": "markdown",
   "metadata": {},
   "source": [
    "# Define some useful Twitter-related functions\n",
    "\n",
    "- Find most recent tweets containing a given keyword\n",
    "- Fit topic models to a set of tweets\n",
    "- Do sentiment analyses on tweets\n",
    "- Get the tweet text and dates"
   ]
  },
  {
   "cell_type": "code",
   "execution_count": 179,
   "metadata": {
    "collapsed": true
   },
   "outputs": [],
   "source": [
    "# function for scraping twitter for one or more keywords and returning a dictionary with:\n",
    "# - tweets: the tweet text (list of length n_tweets)\n",
    "# - datetimes: the tweet date/time (as a DateTime object)\n",
    "# - topicvecs: the tweet topic vectors (numpy array with n_tweets rows and n_topics columns)\n",
    "# - topwords: the top n words from each topic (list of length n_topics, where each element is a list of n_words)\n",
    "# - sentiments: the sentiment valence of each tweet (numpy array of length n_tweets)\n",
    "\n",
    "def twitter_witch(keywords, n_tweets=500, n_topics=10, n_words=5, model=None, use_advanced=False):\n",
    "    #if keywords is a list, combine all keywords into a single string, where each word is separated by \" OR \"\n",
    "    if type(keywords) == list:\n",
    "        if use_advanced:\n",
    "            print('Cannot scrape lists of advanced queries')\n",
    "            return None\n",
    "        else:\n",
    "            keywords = ' OR '.join(keywords)\n",
    "    \n",
    "    #get the tweets\n",
    "    tweets = []\n",
    "    if not use_advanced:\n",
    "        for tweet in query_tweets(keywords, n_tweets)[:n_tweets]:\n",
    "            tweets.append(tweet)\n",
    "    else:\n",
    "        tweets = query_tweets_advanced(keywords, num_tweets=n_tweets, limit=n_tweets)\n",
    "    \n",
    "    #get the tweet text\n",
    "    tweet_text = list(map(lambda x: x.text, tweets))\n",
    "    \n",
    "    #fit a topic model to the tweet text    \n",
    "    n_features = 1000\n",
    "    tf_vectorizer = CountVectorizer(max_df=0.95, min_df=2, max_features=n_features, stop_words='english')\n",
    "    tf = tf_vectorizer.fit_transform(tweet_text)    \n",
    "    vocab = tf_vectorizer.get_feature_names()\n",
    "    \n",
    "    if model == None:\n",
    "        lda = LDA(n_topics=n_topics, max_iter=5, learning_method='online', learning_offset=50., random_state=0).fit(tf)\n",
    "    else:\n",
    "        lda = model            \n",
    "    tweet_topics = lda.fit(tf)\n",
    "    \n",
    "    def get_top_words(model, vocab, n_words):\n",
    "        top_words = []\n",
    "        for topic_idx, topic in enumerate(model.components_):       \n",
    "            next = topic.argsort()[:-n_words - 1:-1]\n",
    "            top_words.append(list(map(lambda x: vocab[x], next)))\n",
    "        return top_words\n",
    "    \n",
    "    def tweet_sentiment(tweet):\n",
    "        b = tb(tweet)\n",
    "        return np.sum(np.array(list(map(lambda x: x.sentiment.polarity, b.sentences))))\n",
    "    \n",
    "    #get the tweet datetimes\n",
    "    tweet_dts = list(map(lambda x: x.timestamp, tweets))\n",
    "    \n",
    "    return {'tweets': tweet_text,\n",
    "            'datetimes': tweet_dts,\n",
    "            'topicvecs': lda.components_.T,\n",
    "            'topwords': get_top_words(lda, vocab, n_words),\n",
    "            'sentiments': np.array(list(map(tweet_sentiment, tweet_text))),\n",
    "            'model': lda}"
   ]
  },
  {
   "cell_type": "markdown",
   "metadata": {},
   "source": [
    "# Define some useful finance-related functions\n",
    "\n",
    "Given a stock ticker symbol and a date, return a dictionary with the following keys/values (strings or floats, or None if unavailable):\n",
    "- name: The company name\n",
    "- open: The opening price from that day\n",
    "- close: The closing price from that day\n",
    "- vol: The trading volume from that day\n",
    "- price_change: The change in price from the previous day, in whatever the trading currency is\n",
    "- percent_change: The change in price from the previous day, as a percentage\n",
    "- currency: The currency (e.g. USD)"
   ]
  },
  {
   "cell_type": "code",
   "execution_count": 234,
   "metadata": {},
   "outputs": [],
   "source": [
    "def finance_wizard(name, date):\n",
    "    def floater(n):\n",
    "        '''\n",
    "        Turn n into a float.  Acceptable values are: floats or dataframes\n",
    "        '''\n",
    "        if type(n) == pd.core.series.Series:\n",
    "            return n.values[-1]\n",
    "        else:\n",
    "            return n\n",
    "    \n",
    "    def datefloor(date):\n",
    "        '''\n",
    "        Reset a date to 00:00:00 and return the new datetime object\n",
    "        '''\n",
    "        return dt.datetime(year=date.year, month=date.month, day=date.day)\n",
    "    \n",
    "    x = Share(name.upper())\n",
    "    info = {'name': '',\n",
    "            'symbol': name,\n",
    "            'open': np.nan,\n",
    "            'close': np.nan,\n",
    "            'vol': np.nan,\n",
    "            'price_change': np.nan,\n",
    "            'percent_change': np.nan,\n",
    "            'currency': ''}\n",
    "            \n",
    "    info['name'] = x.get_name()\n",
    "    info['currency'] = x.get_currency()\n",
    "    \n",
    "    if info['name'] == None: #ticker symbol not found\n",
    "        return info\n",
    "    \n",
    "    end = datefloor(date)\n",
    "    start = end - dt.timedelta(5) #look up to 5 days prior to the target date to account for days when the markets were closed\n",
    "    \n",
    "    try:\n",
    "        data = pdr.data.DataReader(name.upper(), 'yahoo', start, end)\n",
    "    except:\n",
    "        return info\n",
    "    \n",
    "    info['open'] = floater(data.loc[data.index[-1]]['Open'])\n",
    "    info['close'] = floater(data.loc[data.index[-1]]['Adj Close'])\n",
    "    info['vol'] = floater(data.loc[data.index[-1]]['Volume'])\n",
    "    info['price_change'] = info['open'] - floater(data.loc[data.index[-2]]['Open'])\n",
    "    info['percent_change'] = np.divide(info['price_change'], info['open'])\n",
    "    \n",
    "    return info"
   ]
  },
  {
   "cell_type": "markdown",
   "metadata": {
    "collapsed": true
   },
   "source": [
    "## Tweet topics and sentiments as market predictors\n",
    "\n",
    "Define a stock symbol and company name.  Define a start and end date.  For each day, get up to n tweets containing the company name (with twitter_witch stats), along with financial info for that day (with finance_wizard stats)."
   ]
  },
  {
   "cell_type": "code",
   "execution_count": 277,
   "metadata": {},
   "outputs": [],
   "source": [
    "def get_tweets_and_stocks(symbol='AAPL', keyword='apple', start=None, end=None, n_tweets=100):\n",
    "    if end == None:\n",
    "        end = dt.datetime.today()\n",
    "    if start == None:\n",
    "        start = end - dt.timedelta(30)\n",
    "    \n",
    "    def date2str(date):\n",
    "        return date.strftime('%Y-%m-%d')\n",
    "    \n",
    "    if start >= end:\n",
    "        return None\n",
    "    \n",
    "    d = start\n",
    "    twitter_data = []\n",
    "    finance_data = []\n",
    "    \n",
    "    print('Getting information for ' + str((end - start).days) + ' days')\n",
    "    while d <= end:\n",
    "        search_string = '\"' + keyword + '\"%20since%3A' + date2str(d) + '%20until%3A' + date2str(d + dt.timedelta(1))\n",
    "        if len(twitter_data) == 0:\n",
    "            twitter_data.append(twitter_witch(search_string, n_tweets=n_tweets, use_advanced=True))\n",
    "        else:\n",
    "            twitter_data.append(twitter_witch(search_string, n_tweets=n_tweets, use_advanced=True, model=twitter_data[0]['model']))\n",
    "        finance_data.append(finance_wizard(symbol, d))\n",
    "        print('.', end='')                \n",
    "        d = d + dt.timedelta(1)\n",
    "    print('done')\n",
    "    \n",
    "    return {'tweets': twitter_data, 'stocks': finance_data}"
   ]
  },
  {
   "cell_type": "code",
   "execution_count": 278,
   "metadata": {},
   "outputs": [
    {
     "name": "stdout",
     "output_type": "stream",
     "text": [
      "Getting information for 30 days\n",
      "...............................done\n"
     ]
    }
   ],
   "source": [
    "info = get_tweets_and_stocks(n_tweets=10)"
   ]
  },
  {
   "cell_type": "code",
   "execution_count": 279,
   "metadata": {
    "collapsed": true
   },
   "outputs": [],
   "source": [
    "#compile useful info (by day)\n",
    "average_sentiments = list(map(lambda x: np.mean(x['sentiments']), info['tweets']))\n",
    "average_topics = np.vstack(list(map(lambda x: np.mean(x['topicvecs'], axis=0), info['tweets'])))\n",
    "closing_prices = list(map(lambda x: x['close'], info['stocks']))"
   ]
  },
  {
   "cell_type": "code",
   "execution_count": 285,
   "metadata": {},
   "outputs": [
    {
     "data": {
      "image/png": "[encoded data removed]",
      "text/plain": [
       "<matplotlib.figure.Figure at 0x7fd2814b39b0>"
      ]
     },
     "metadata": {},
     "output_type": "display_data"
    }
   ],
   "source": [
    "hyp.plot(average_topics, 'o', group=average_sentiments, palette='coolwarm');"
   ]
  },
  {
   "cell_type": "code",
   "execution_count": 286,
   "metadata": {},
   "outputs": [
    {
     "data": {
      "image/png": "[encoded data removed]",
      "text/plain": [
       "<matplotlib.figure.Figure at 0x7fd286482a58>"
      ]
     },
     "metadata": {},
     "output_type": "display_data"
    }
   ],
   "source": [
    "h = sns.regplot(x=np.array(average_sentiments), y=np.array(closing_prices));\n",
    "h.set(xlabel='Sentiment', ylabel='Adjusted closing price (' + info['stocks'][0]['currency'] + ')');"
   ]
  }
 ],
 "metadata": {
  "kernelspec": {
   "display_name": "Python 3",
   "language": "python",
   "name": "python3"
  },
  "language_info": {
   "codemirror_mode": {
    "name": "ipython",
    "version": 3
   },
   "file_extension": ".py",
   "mimetype": "text/x-python",
   "name": "python",
   "nbconvert_exporter": "python",
   "pygments_lexer": "ipython3",
   "version": "3.6.1"
  }
 },
 "nbformat": 4,
 "nbformat_minor": 2
}
