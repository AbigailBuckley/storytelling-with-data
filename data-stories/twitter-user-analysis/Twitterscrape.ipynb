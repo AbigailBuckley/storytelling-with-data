{
 "cells": [
  {
   "cell_type": "code",
   "execution_count": 15,
   "metadata": {
    "collapsed": true
   },
   "outputs": [],
   "source": [
    "import tweepy\n",
    "from selenium import webdriver\n",
    "from tweepy import OAuthHandler\n",
    " \n",
    "consumer_key = '2dSyaPR8HQv3pal4tpfPaxEIZ'\n",
    "consumer_secret = 'JaB1nVrsc0TYWLOvzVkoM6feHqtBAruKCWn9erz9SJpYu71wNw'\n",
    "access_token = '2952993774-NHXUYXLgs4JKc3NvSTL6cUPwsLKoqgxCxTpKnho'\n",
    "access_secret = 'IOYodaEvwQplWPZboTJPX8cdBNuNux2IfVsdUXjuIkjcn'\n",
    " \n",
    "auth = OAuthHandler(consumer_key, consumer_secret)\n",
    "auth.set_access_token(access_token, access_secret)\n",
    " \n",
    "api = tweepy.API(auth)"
   ]
  },
  {
   "cell_type": "code",
   "execution_count": null,
   "metadata": {
    "collapsed": true
   },
   "outputs": [],
   "source": [
    "from twitterscraper import query_tweets\n",
    "from twitterscraper.query import query_tweets_once as query_tweets_advanced\n",
    "from sklearn.decomposition import LatentDirichletAllocation as LDA\n",
    "from sklearn.feature_extraction.text import CountVectorizer\n",
    "from scipy.sparse import csr_matrix\n",
    "import seaborn as sns\n",
    "import hypertools as hyp\n",
    "import numpy as np\n",
    "from textblob import TextBlob as tb\n",
    "import pandas_datareader as pdr\n",
    "import pandas as pd\n",
    "import numpy as np\n",
    "import datetime as dt\n",
    "from yahoo_finance import Share\n",
    "import nltk\n",
    "nltk.download('brown')\n",
    "nltk.download('punkt')\n",
    "%matplotlib inline"
   ]
  },
  {
   "cell_type": "code",
   "execution_count": null,
   "metadata": {
    "collapsed": true
   },
   "outputs": [],
   "source": [
    "def get_tweets(start=None, end=None, n_tweets=100):\n",
    "    if end == None:\n",
    "        end = dt.datetime.today()\n",
    "    if start == None:\n",
    "        start = end - dt.timedelta(30)\n",
    "    \n",
    "    def date2str(date):\n",
    "        return date.strftime('%Y-%m-%d')\n",
    "    \n",
    "    if start >= end:\n",
    "        return None\n",
    "    \n",
    "    d = start\n",
    "    twitter_data = []\n",
    "    trump_data = []\n",
    "    \n",
    "    realDonaldTrump&src=typd\n",
    "    \n",
    "    print('Getting information for ' + str((end - start).days) + ' days')\n",
    "    while d <= end:\n",
    "        search_string = 'l=&q=from%3A' + username + '\"%20since%3A' + date2str(d) + '%20until%3A' + date2str(d + dt.timedelta(1))\n",
    "        if len(twitter_data) == 0:\n",
    "            twitter_data.append(twitter_witch(search_string, n_tweets=n_tweets, use_advanced=True))\n",
    "        else:\n",
    "            twitter_data.append(twitter_witch(search_string, n_tweets=n_tweets, use_advanced=True, model=twitter_data[0]['model']))\n",
    "        trump_data.append(finance_wizard(symbol, d))\n",
    "        print('.', end='')                \n",
    "        d = d + dt.timedelta(1)\n",
    "    print('done')\n",
    "    \n",
    "    return {'tweets': twitter_data, 'stocks': trump_data}"
   ]
  }
 ],
 "metadata": {
  "kernelspec": {
   "display_name": "Python 3",
   "language": "python",
   "name": "python3"
  },
  "language_info": {
   "codemirror_mode": {
    "name": "ipython",
    "version": 3
   },
   "file_extension": ".py",
   "mimetype": "text/x-python",
   "name": "python",
   "nbconvert_exporter": "python",
   "pygments_lexer": "ipython3",
   "version": "3.6.1"
  }
 },
 "nbformat": 4,
 "nbformat_minor": 2
}
