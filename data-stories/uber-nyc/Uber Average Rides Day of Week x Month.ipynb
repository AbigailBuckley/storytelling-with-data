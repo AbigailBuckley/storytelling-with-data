{
 "cells": [
  {
   "cell_type": "code",
   "execution_count": 54,
   "metadata": {
    "collapsed": true
   },
   "outputs": [],
   "source": [
    "import pandas as pd\n",
    "from plotly.offline import download_plotlyjs, init_notebook_mode, plot, iplot\n",
    "import numpy as np\n",
    "import matplotlib.pyplot as plt\n",
    "import hypertools as hyp\n",
    "import seaborn as sns\n",
    "import plotly.graph_objs as go\n",
    "import datetime\n",
    "%matplotlib inline\n",
    "import plotly \n",
    "plotly.tools.set_credentials_file(username='jjanelee97', api_key='BYKuJO5q20amqPwH5zHw')\n",
    "plotly.tools.set_config_file(sharing='public')\n",
    "plotly.tools.set_config_file(world_readable=True,\n",
    "                             sharing='public')"
   ]
  },
  {
   "cell_type": "code",
   "execution_count": 101,
   "metadata": {
    "collapsed": true
   },
   "outputs": [],
   "source": [
    "fname3 = 'uber-trip-data/uber-raw-data-apr14.csv'\n",
    "columns3 = ('Time', 'Lat', 'Lon', 'Driver')\n",
    "april_df = pd.read_csv(fname3, skiprows=[0], names=columns3)\n",
    "\n",
    "fname4 = 'uber-trip-data/uber-raw-data-may14.csv'\n",
    "columns4 = ('Time', 'Lat', 'Lon', 'Driver')\n",
    "may_df = pd.read_csv(fname4, skiprows=[0], names=columns4)\n",
    "\n",
    "fname5 = 'uber-trip-data/uber-raw-data-jun14.csv'\n",
    "columns5 = ('Time', 'Lat', 'Lon', 'Driver')\n",
    "jun_df = pd.read_csv(fname5, skiprows=[0], names=columns5)\n",
    "\n",
    "fname6 = 'uber-trip-data/uber-raw-data-jul14.csv'\n",
    "columns6 = ('Time', 'Lat', 'Lon', 'Driver')\n",
    "jul_df = pd.read_csv(fname6, skiprows=[0], names=columns6)\n",
    "\n",
    "fname7 = 'uber-trip-data/uber-raw-data-aug14.csv'\n",
    "columns7 = ('Time', 'Lat', 'Lon', 'Driver')\n",
    "aug_df = pd.read_csv(fname7, skiprows=[0], names=columns7)\n",
    "\n",
    "fname8 = 'uber-trip-data/uber-raw-data-sep14.csv'\n",
    "columns8 = ('Time', 'Lat', 'Lon', 'Driver')\n",
    "sep_df = pd.read_csv(fname8, skiprows=[0], names=columns8)"
   ]
  },
  {
   "cell_type": "code",
   "execution_count": 56,
   "metadata": {},
   "outputs": [
    {
     "name": "stdout",
     "output_type": "stream",
     "text": [
      "Thursday\n"
     ]
    }
   ],
   "source": [
    "mydate = datetime.date(17, 11, 9)  #year, month, day\n",
    "print(mydate.strftime(\"%A\"))"
   ]
  },
  {
   "cell_type": "code",
   "execution_count": 88,
   "metadata": {},
   "outputs": [
    {
     "name": "stdout",
     "output_type": "stream",
     "text": [
      "{'Tue': 91185, 'Wed': 108631, 'Thu': 85067, 'Fri': 90303, 'Sat': 77218, 'Sun': 51251, 'Mon': 60861}\n",
      "{'Sun': ['4/6/14', '4/13/14', '4/20/14', '4/27/14'], 'Mon': ['4/7/14', '4/14/14', '4/21/14', '4/28/14'], 'Tue': ['4/1/14', '4/8/14', '4/15/14', '4/22/14', '4/29/14'], 'Wed': ['4/2/14', '4/9/14', '4/16/14', '4/23/14', '4/30/14'], 'Thu': ['4/3/14', '4/10/14', '4/17/14', '4/24/14'], 'Fri': ['4/4/14', '4/11/14', '4/18/14', '4/25/14'], 'Sat': ['4/5/14', '4/12/14', '4/19/14', '4/26/14']}\n"
     ]
    },
    {
     "ename": "AttributeError",
     "evalue": "'list' object has no attribute 'length'",
     "output_type": "error",
     "traceback": [
      "\u001b[0;31m---------------------------------------------------------------------------\u001b[0m",
      "\u001b[0;31mAttributeError\u001b[0m                            Traceback (most recent call last)",
      "\u001b[0;32m<ipython-input-88-18960cd8e74e>\u001b[0m in \u001b[0;36m<module>\u001b[0;34m()\u001b[0m\n\u001b[1;32m     29\u001b[0m \u001b[0;32mfor\u001b[0m \u001b[0mi\u001b[0m \u001b[0;32min\u001b[0m \u001b[0mdow_april\u001b[0m\u001b[0;34m:\u001b[0m\u001b[0;34m\u001b[0m\u001b[0m\n\u001b[1;32m     30\u001b[0m     \u001b[0mtotal\u001b[0m \u001b[0;34m=\u001b[0m \u001b[0mdow_april\u001b[0m\u001b[0;34m[\u001b[0m\u001b[0mi\u001b[0m\u001b[0;34m]\u001b[0m\u001b[0;34m\u001b[0m\u001b[0m\n\u001b[0;32m---> 31\u001b[0;31m     \u001b[0mdivided_by\u001b[0m \u001b[0;34m=\u001b[0m \u001b[0mnum_dates\u001b[0m\u001b[0;34m[\u001b[0m\u001b[0mi\u001b[0m\u001b[0;34m]\u001b[0m\u001b[0;34m.\u001b[0m\u001b[0mlength\u001b[0m\u001b[0;34m(\u001b[0m\u001b[0;34m)\u001b[0m\u001b[0;34m\u001b[0m\u001b[0m\n\u001b[0m\u001b[1;32m     32\u001b[0m \u001b[0;34m\u001b[0m\u001b[0m\n\u001b[1;32m     33\u001b[0m     \u001b[0mavg\u001b[0m \u001b[0;34m=\u001b[0m \u001b[0mround\u001b[0m\u001b[0;34m(\u001b[0m\u001b[0mtotal\u001b[0m\u001b[0;34m/\u001b[0m\u001b[0mdivided_by\u001b[0m\u001b[0;34m)\u001b[0m\u001b[0;34m\u001b[0m\u001b[0m\n",
      "\u001b[0;31mAttributeError\u001b[0m: 'list' object has no attribute 'length'"
     ]
    }
   ],
   "source": [
    "# day of week in april\n",
    "dow_april = {}\n",
    "num_dates = {'Sun': [], 'Mon': [], 'Tue': [], 'Wed': [], 'Thu': [], 'Fri': [], 'Sat': [],}\n",
    "for i in range(0,len(april_df)):\n",
    "    date = april_df.Time[i].strip().split()\n",
    "    parts = date[0].split('/')\n",
    "    year, month, day = int(parts[2]), int(parts[0]), int(parts[1])\n",
    "    mydate = datetime.date(year, month, day)\n",
    "    dow = mydate.strftime(\"%a\")\n",
    "    \n",
    "    if dow not in dow_april:\n",
    "        dow_april[dow] = 1\n",
    "    else:\n",
    "        dow_april[dow] += 1\n",
    "for i in range(0,len(april_df)):\n",
    "    date = april_df.Time[i].strip().split()\n",
    "    parts = date[0].split('/')\n",
    "    year, month, day = int(parts[2]), int(parts[0]), int(parts[1])\n",
    "    mydate = datetime.date(year, month, day)\n",
    "    dow = mydate.strftime(\"%a\")\n",
    "\n",
    "    if date[0] not in num_dates[dow]:\n",
    "        num_dates[dow].append(date[0])\n",
    "        \n",
    "print (dow_april)\n",
    "print (num_dates)\n",
    "\n",
    "april = []\n",
    "for i in dow_april:\n",
    "    total = dow_april[i]\n",
    "    divided_by = len(num_dates[i])\n",
    "    avg = round(total/divided_by)\n",
    "    april.append(avg)\n",
    "\n",
    "print (april)"
   ]
  },
  {
   "cell_type": "code",
   "execution_count": 97,
   "metadata": {},
   "outputs": [
    {
     "name": "stdout",
     "output_type": "stream",
     "text": [
      "{'Thu': 128921, 'Fri': 133991, 'Sat': 102990, 'Sun': 56168, 'Mon': 63846, 'Tue': 76662, 'Wed': 89857}\n",
      "{'Sun': ['5/4/2014', '5/11/2014', '5/18/2014', '5/25/2014'], 'Mon': ['5/5/2014', '5/12/2014', '5/19/2014', '5/26/2014'], 'Tue': ['5/6/2014', '5/13/2014', '5/20/2014', '5/27/2014'], 'Wed': ['5/7/2014', '5/14/2014', '5/21/2014', '5/28/2014'], 'Thu': ['5/1/2014', '5/8/2014', '5/15/2014', '5/22/2014', '5/29/2014'], 'Fri': ['5/2/2014', '5/9/2014', '5/16/2014', '5/23/2014', '5/30/2014'], 'Sat': ['5/3/2014', '5/10/2014', '5/17/2014', '5/24/2014', '5/31/2014']}\n",
      "[25784, 26798, 20598, 14042, 15962, 19166, 22464]\n"
     ]
    }
   ],
   "source": [
    "# day of week in may\n",
    "dow_may = {}\n",
    "num_dates = {'Sun': [], 'Mon': [], 'Tue': [], 'Wed': [], 'Thu': [], 'Fri': [], 'Sat': [],}\n",
    "for i in range(0,len(may_df)):\n",
    "    date = may_df.Time[i].strip().split()\n",
    "    parts = date[0].split('/')\n",
    "    year, month, day = int(parts[2]), int(parts[0]), int(parts[1])\n",
    "    mydate = datetime.date(year, month, day)\n",
    "    dow = mydate.strftime(\"%a\")\n",
    "    \n",
    "    if dow not in dow_may:\n",
    "        dow_may[dow] = 1\n",
    "    else:\n",
    "        dow_may[dow] += 1\n",
    "for i in range(0,len(may_df)):\n",
    "    date = may_df.Time[i].strip().split()\n",
    "    parts = date[0].split('/')\n",
    "    year, month, day = int(parts[2]), int(parts[0]), int(parts[1])\n",
    "    mydate = datetime.date(year, month, day)\n",
    "    dow = mydate.strftime(\"%a\")\n",
    "\n",
    "    if date[0] not in num_dates[dow]:\n",
    "        num_dates[dow].append(date[0])\n",
    "        \n",
    "print (dow_may)\n",
    "print (num_dates)\n",
    "\n",
    "may = []\n",
    "for i in dow_may:\n",
    "    total = dow_may[i]\n",
    "    divided_by = len(num_dates[i])\n",
    "    avg = round(total/divided_by)\n",
    "    may.append(avg)\n",
    "\n",
    "print (may)"
   ]
  },
  {
   "cell_type": "code",
   "execution_count": 92,
   "metadata": {},
   "outputs": [
    {
     "name": "stdout",
     "output_type": "stream",
     "text": [
      "{'Sun': 79656, 'Mon': 94655, 'Tue': 88134, 'Wed': 99654, 'Thu': 115325, 'Fri': 105056, 'Sat': 81364}\n",
      "{'Sun': ['6/1/2014', '6/8/2014', '6/15/2014', '6/22/2014', '6/29/2014'], 'Mon': ['6/2/2014', '6/9/2014', '6/16/2014', '6/23/2014', '6/30/2014'], 'Tue': ['6/3/2014', '6/10/2014', '6/17/2014', '6/24/2014'], 'Wed': ['6/4/2014', '6/11/2014', '6/18/2014', '6/25/2014'], 'Thu': ['6/5/2014', '6/12/2014', '6/19/2014', '6/26/2014'], 'Fri': ['6/6/2014', '6/13/2014', '6/20/2014', '6/27/2014'], 'Sat': ['6/7/2014', '6/14/2014', '6/21/2014', '6/28/2014']}\n",
      "[15931, 18931, 22034, 24914, 28831, 26264, 20341]\n"
     ]
    }
   ],
   "source": [
    "# day of week in june\n",
    "dow_june = {}\n",
    "num_dates = {'Sun': [], 'Mon': [], 'Tue': [], 'Wed': [], 'Thu': [], 'Fri': [], 'Sat': [],}\n",
    "for i in range(0,len(jun_df)):\n",
    "    date = jun_df.Time[i].strip().split()\n",
    "    parts = date[0].split('/')\n",
    "    year, month, day = int(parts[2]), int(parts[0]), int(parts[1])\n",
    "    mydate = datetime.date(year, month, day)\n",
    "    dow = mydate.strftime(\"%a\")\n",
    "    \n",
    "    if dow not in dow_june:\n",
    "        dow_june[dow] = 1\n",
    "    else:\n",
    "        dow_june[dow] += 1\n",
    "for i in range(0,len(jun_df)):\n",
    "    date = jun_df.Time[i].strip().split()\n",
    "    parts = date[0].split('/')\n",
    "    year, month, day = int(parts[2]), int(parts[0]), int(parts[1])\n",
    "    mydate = datetime.date(year, month, day)\n",
    "    dow = mydate.strftime(\"%a\")\n",
    "\n",
    "    if date[0] not in num_dates[dow]:\n",
    "        num_dates[dow].append(date[0])\n",
    "        \n",
    "print (dow_june)\n",
    "print (num_dates)\n",
    "\n",
    "june = []\n",
    "for i in dow_june:\n",
    "    total = dow_june[i]\n",
    "    divided_by = len(num_dates[i])\n",
    "    avg = round(total/divided_by)\n",
    "    june.append(avg)\n",
    "\n",
    "print (june)"
   ]
  },
  {
   "cell_type": "code",
   "execution_count": 93,
   "metadata": {},
   "outputs": [
    {
     "name": "stdout",
     "output_type": "stream",
     "text": [
      "{'Tue': 137454, 'Wed': 147717, 'Thu': 148439, 'Fri': 102735, 'Sat': 90260, 'Sun': 76327, 'Mon': 93189}\n",
      "{'Sun': ['7/6/2014', '7/13/2014', '7/20/2014', '7/27/2014'], 'Mon': ['7/7/2014', '7/14/2014', '7/21/2014', '7/28/2014'], 'Tue': ['7/1/2014', '7/8/2014', '7/15/2014', '7/22/2014', '7/29/2014'], 'Wed': ['7/2/2014', '7/9/2014', '7/16/2014', '7/23/2014', '7/30/2014'], 'Thu': ['7/3/2014', '7/10/2014', '7/17/2014', '7/24/2014', '7/31/2014'], 'Fri': ['7/4/2014', '7/11/2014', '7/18/2014', '7/25/2014'], 'Sat': ['7/5/2014', '7/12/2014', '7/19/2014', '7/26/2014']}\n",
      "[27491, 29543, 29688, 25684, 22565, 19082, 23297]\n"
     ]
    }
   ],
   "source": [
    "# day of week in july\n",
    "dow_july = {}\n",
    "num_dates = {'Sun': [], 'Mon': [], 'Tue': [], 'Wed': [], 'Thu': [], 'Fri': [], 'Sat': [],}\n",
    "for i in range(0,len(jul_df)):\n",
    "    date = jul_df.Time[i].strip().split()\n",
    "    parts = date[0].split('/')\n",
    "    year, month, day = int(parts[2]), int(parts[0]), int(parts[1])\n",
    "    mydate = datetime.date(year, month, day)\n",
    "    dow = mydate.strftime(\"%a\")\n",
    "    \n",
    "    if dow not in dow_july:\n",
    "        dow_july[dow] = 1\n",
    "    else:\n",
    "        dow_july[dow] += 1\n",
    "for i in range(0,len(jul_df)):\n",
    "    date = jul_df.Time[i].strip().split()\n",
    "    parts = date[0].split('/')\n",
    "    year, month, day = int(parts[2]), int(parts[0]), int(parts[1])\n",
    "    mydate = datetime.date(year, month, day)\n",
    "    dow = mydate.strftime(\"%a\")\n",
    "\n",
    "    if date[0] not in num_dates[dow]:\n",
    "        num_dates[dow].append(date[0])\n",
    "        \n",
    "print (dow_july)\n",
    "print (num_dates)\n",
    "\n",
    "july = []\n",
    "for i in dow_july:\n",
    "    total = dow_july[i]\n",
    "    divided_by = len(num_dates[i])\n",
    "    avg = round(total/divided_by)\n",
    "    july.append(avg)\n",
    "\n",
    "print (july)"
   ]
  },
  {
   "cell_type": "code",
   "execution_count": 94,
   "metadata": {},
   "outputs": [
    {
     "name": "stdout",
     "output_type": "stream",
     "text": [
      "{'Fri': 148674, 'Sat': 132225, 'Sun': 110246, 'Mon': 91633, 'Tue': 107124, 'Wed': 115256, 'Thu': 124117}\n",
      "{'Sun': ['8/3/2014', '8/10/2014', '8/17/2014', '8/24/2014', '8/31/2014'], 'Mon': ['8/4/2014', '8/11/2014', '8/18/2014', '8/25/2014'], 'Tue': ['8/5/2014', '8/12/2014', '8/19/2014', '8/26/2014'], 'Wed': ['8/6/2014', '8/13/2014', '8/20/2014', '8/27/2014'], 'Thu': ['8/7/2014', '8/14/2014', '8/21/2014', '8/28/2014'], 'Fri': ['8/1/2014', '8/8/2014', '8/15/2014', '8/22/2014', '8/29/2014'], 'Sat': ['8/2/2014', '8/9/2014', '8/16/2014', '8/23/2014', '8/30/2014']}\n",
      "[29735, 26445, 22049, 22908, 26781, 28814, 31029]\n"
     ]
    }
   ],
   "source": [
    "# day of week in august\n",
    "dow_august = {}\n",
    "num_dates = {'Sun': [], 'Mon': [], 'Tue': [], 'Wed': [], 'Thu': [], 'Fri': [], 'Sat': [],}\n",
    "for i in range(0,len(aug_df)):\n",
    "    date = aug_df.Time[i].strip().split()\n",
    "    parts = date[0].split('/')\n",
    "    year, month, day = int(parts[2]), int(parts[0]), int(parts[1])\n",
    "    mydate = datetime.date(year, month, day)\n",
    "    dow = mydate.strftime(\"%a\")\n",
    "    \n",
    "    if dow not in dow_august:\n",
    "        dow_august[dow] = 1\n",
    "    else:\n",
    "        dow_august[dow] += 1\n",
    "for i in range(0,len(aug_df)):\n",
    "    date = aug_df.Time[i].strip().split()\n",
    "    parts = date[0].split('/')\n",
    "    year, month, day = int(parts[2]), int(parts[0]), int(parts[1])\n",
    "    mydate = datetime.date(year, month, day)\n",
    "    dow = mydate.strftime(\"%a\")\n",
    "\n",
    "    if date[0] not in num_dates[dow]:\n",
    "        num_dates[dow].append(date[0])\n",
    "        \n",
    "print (dow_august)\n",
    "print (num_dates)\n",
    "\n",
    "august = []\n",
    "for i in dow_august:\n",
    "    total = dow_august[i]\n",
    "    divided_by = len(num_dates[i])\n",
    "    avg = round(total/divided_by)\n",
    "    august.append(avg)\n",
    "\n",
    "print (august)"
   ]
  },
  {
   "cell_type": "code",
   "execution_count": 102,
   "metadata": {},
   "outputs": [
    {
     "name": "stdout",
     "output_type": "stream",
     "text": [
      "{'Mon': 137288, 'Tue': 163230, 'Wed': 135373, 'Thu': 153276, 'Fri': 160380, 'Sat': 162057, 'Sun': 116532}\n",
      "{'Sun': ['9/7/2014', '9/14/2014', '9/21/2014', '9/28/2014'], 'Mon': ['9/1/2014', '9/8/2014', '9/15/2014', '9/22/2014', '9/29/2014'], 'Tue': ['9/2/2014', '9/9/2014', '9/16/2014', '9/23/2014', '9/30/2014'], 'Wed': ['9/3/2014', '9/10/2014', '9/17/2014', '9/24/2014'], 'Thu': ['9/4/2014', '9/11/2014', '9/18/2014', '9/25/2014'], 'Fri': ['9/5/2014', '9/12/2014', '9/19/2014', '9/26/2014'], 'Sat': ['9/6/2014', '9/13/2014', '9/20/2014', '9/27/2014']}\n",
      "[27458, 32646, 33843, 38319, 40095, 40514, 29133]\n"
     ]
    }
   ],
   "source": [
    "# day of week in september\n",
    "dow_september = {}\n",
    "num_dates = {'Sun': [], 'Mon': [], 'Tue': [], 'Wed': [], 'Thu': [], 'Fri': [], 'Sat': [],}\n",
    "for i in range(0,len(sep_df)):\n",
    "    date = sep_df.Time[i].strip().split()\n",
    "    parts = date[0].split('/')\n",
    "    year, month, day = int(parts[2]), int(parts[0]), int(parts[1])\n",
    "    mydate = datetime.date(year, month, day)\n",
    "    dow = mydate.strftime(\"%a\")\n",
    "    \n",
    "    if dow not in dow_september:\n",
    "        dow_september[dow] = 1\n",
    "    else:\n",
    "        dow_september[dow] += 1\n",
    "for i in range(0,len(sep_df)):\n",
    "    date = sep_df.Time[i].strip().split()\n",
    "    parts = date[0].split('/')\n",
    "    year, month, day = int(parts[2]), int(parts[0]), int(parts[1])\n",
    "    mydate = datetime.date(year, month, day)\n",
    "    dow = mydate.strftime(\"%a\")\n",
    "\n",
    "    if date[0] not in num_dates[dow]:\n",
    "        num_dates[dow].append(date[0])\n",
    "        \n",
    "print (dow_september)\n",
    "print (num_dates)\n",
    "\n",
    "september = []\n",
    "for i in dow_september:\n",
    "    total = dow_september[i]\n",
    "    divided_by = len(num_dates[i])\n",
    "    avg = round(total/divided_by)\n",
    "    september.append(avg)\n",
    "\n",
    "print (september)"
   ]
  },
  {
   "cell_type": "code",
   "execution_count": 103,
   "metadata": {},
   "outputs": [
    {
     "data": {
      "text/html": [
       "<iframe id=\"igraph\" scrolling=\"no\" style=\"border:none;\" seamless=\"seamless\" src=\"https://plot.ly/~jjanelee97/1.embed\" height=\"525px\" width=\"100%\"></iframe>"
      ],
      "text/plain": [
       "<plotly.tools.PlotlyDisplay object>"
      ]
     },
     "execution_count": 103,
     "metadata": {},
     "output_type": "execute_result"
    }
   ],
   "source": [
    "import plotly.plotly as py\n",
    "import plotly.graph_objs as go\n",
    "\n",
    "# Add data\n",
    "day_of_week = ['Sun', 'Mon', 'Tues', 'Wed', 'Thurs', 'Fri', 'Sat']\n",
    "\n",
    "# Create and style traces\n",
    "trace0 = go.Scatter(\n",
    "    x = day_of_week,\n",
    "    y = april,\n",
    "    name = 'april',\n",
    "    line = dict(\n",
    "        color = ('rgb(205, 12, 24)'),\n",
    "        width = 4)\n",
    ")\n",
    "trace1 = go.Scatter(\n",
    "    x = day_of_week,\n",
    "    y = may,\n",
    "    name = 'may',\n",
    "    line = dict(\n",
    "        color = ('rgb(200, 10, 167)'),\n",
    "        width = 4)\n",
    ")\n",
    "trace2 = go.Scatter(\n",
    "    x = day_of_week,\n",
    "    y = june,\n",
    "    name = 'june',\n",
    "    line = dict(\n",
    "        color = ('rgb(149, 120, 240)'),\n",
    "        width = 4) \n",
    ")\n",
    "trace3 = go.Scatter(\n",
    "    x = day_of_week,\n",
    "    y = july,\n",
    "    name = 'july',\n",
    "    line = dict(\n",
    "        color = ('rgb(22, 96, 167)'),\n",
    "        width = 4)\n",
    ")\n",
    "trace4 = go.Scatter(\n",
    "    x = day_of_week,\n",
    "    y = august,\n",
    "    name = 'august',\n",
    "    line = dict(\n",
    "        color = ('rgb(255, 120, 24)'),\n",
    "        width = 4)\n",
    ")\n",
    "trace5 = go.Scatter(\n",
    "    x = day_of_week,\n",
    "    y = september,\n",
    "    name = 'september',\n",
    "    line = dict(\n",
    "        color = ('rgb(22, 190, 16)'),\n",
    "        width = 4,\n",
    "        )\n",
    ")\n",
    "data = [trace0, trace1, trace2, trace3, trace4, trace5]\n",
    "\n",
    "# Edit the layout\n",
    "layout = dict(title = 'Average Rides Per Timeblock on a given Month',\n",
    "              xaxis = dict(title = 'Timeblock'),\n",
    "              yaxis = dict(title = 'Number of Rides (avg)'),\n",
    "              )\n",
    "\n",
    "\n",
    "fig = dict(data=data, layout=layout)\n",
    "py.iplot(fig, filename='styled-line')"
   ]
  },
  {
   "cell_type": "code",
   "execution_count": null,
   "metadata": {
    "collapsed": true
   },
   "outputs": [],
   "source": []
  }
 ],
 "metadata": {
  "kernelspec": {
   "display_name": "Python 3",
   "language": "python",
   "name": "python3"
  },
  "language_info": {
   "codemirror_mode": {
    "name": "ipython",
    "version": 3
   },
   "file_extension": ".py",
   "mimetype": "text/x-python",
   "name": "python",
   "nbconvert_exporter": "python",
   "pygments_lexer": "ipython3",
   "version": "3.6.1"
  }
 },
 "nbformat": 4,
 "nbformat_minor": 2
}
