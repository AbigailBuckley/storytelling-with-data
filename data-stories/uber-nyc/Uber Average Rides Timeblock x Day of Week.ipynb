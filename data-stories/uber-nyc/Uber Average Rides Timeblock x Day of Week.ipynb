{
 "cells": [
  {
   "cell_type": "code",
   "execution_count": 3,
   "metadata": {
    "collapsed": true
   },
   "outputs": [],
   "source": [
    "import pandas as pd\n",
    "from plotly.offline import download_plotlyjs, init_notebook_mode, plot, iplot\n",
    "import numpy as np\n",
    "import matplotlib.pyplot as plt\n",
    "import hypertools as hyp\n",
    "import seaborn as sns\n",
    "import datetime\n",
    "%matplotlib inline\n",
    "import plotly.plotly as py\n",
    "import plotly.graph_objs as go\n",
    "\n",
    "plotly.tools.set_credentials_file(username='jjanelee97', api_key='BYKuJO5q20amqPwH5zHw')\n",
    "plotly.tools.set_config_file(sharing='public')\n",
    "plotly.tools.set_config_file(world_readable=True,\n",
    "                             sharing='public')"
   ]
  },
  {
   "cell_type": "code",
   "execution_count": 17,
   "metadata": {
    "collapsed": true
   },
   "outputs": [],
   "source": [
    "fname8 = 'uber-trip-data/uber-raw-data-apr14.csv'\n",
    "columns8 = ('Time', 'Lat', 'Lon', 'Driver')\n",
    "april_df = pd.read_csv(fname8, skiprows=[0], names=columns8)"
   ]
  },
  {
   "cell_type": "code",
   "execution_count": 18,
   "metadata": {},
   "outputs": [
    {
     "name": "stdout",
     "output_type": "stream",
     "text": [
      "{'Sun': ['4/6/14', '4/13/14', '4/20/14', '4/27/14'], 'Mon': ['4/7/14', '4/14/14', '4/21/14', '4/28/14'], 'Tue': ['4/1/14', '4/8/14', '4/15/14', '4/22/14', '4/29/14'], 'Wed': ['4/2/14', '4/9/14', '4/16/14', '4/23/14', '4/30/14'], 'Thu': ['4/3/14', '4/10/14', '4/17/14', '4/24/14'], 'Fri': ['4/4/14', '4/11/14', '4/18/14', '4/25/14'], 'Sat': ['4/5/14', '4/12/14', '4/19/14', '4/26/14']}\n"
     ]
    }
   ],
   "source": [
    "num_dates = {'Sun': [], 'Mon': [], 'Tue': [], 'Wed': [], 'Thu': [], 'Fri': [], 'Sat': [],}\n",
    "for i in range(0,len(april_df)):\n",
    "    date = april_df.Time[i].strip().split()\n",
    "    parts = date[0].split('/')\n",
    "    year, month, day = int(parts[2]), int(parts[0]), int(parts[1])\n",
    "    mydate = datetime.date(year, month, day)\n",
    "    dow = mydate.strftime(\"%a\")\n",
    "\n",
    "    if date[0] not in num_dates[dow]:\n",
    "        num_dates[dow].append(date[0])\n",
    "print (num_dates) "
   ]
  },
  {
   "cell_type": "code",
   "execution_count": 19,
   "metadata": {},
   "outputs": [
    {
     "name": "stdout",
     "output_type": "stream",
     "text": [
      "{'0': 4542, '1': 2936, '2': 1590, '3': 1052, '4': 685, '5': 593, '6': 669, '7': 873, '8': 1233, '9': 1770, '10': 2113, '11': 2360, '12': 2478, '13': 2763, '14': 2934, '15': 3400, '16': 3489, '17': 3154, '18': 2795, '19': 2579, '20': 2276, '21': 2310, '22': 1639, '23': 1018}\n"
     ]
    }
   ],
   "source": [
    "# I look at all the mondays \n",
    "# separate them by time and compute averages for each \n",
    "su, mo, tu, we, th, fr, sa = {}, {}, {}, {}, {}, {}, {}\n",
    "\n",
    "for i in range(0,len(april_df)):\n",
    "    date = april_df.Time[i].strip().split()\n",
    "    parts = date[0].split('/')\n",
    "    year, month, day = int(parts[2]), int(parts[0]), int(parts[1])\n",
    "    mydate = datetime.date(year, month, day)\n",
    "    dow = mydate.strftime(\"%a\")\n",
    "    time = date[1].strip().split(':')\n",
    "    hour = time[0]\n",
    "    \n",
    "    if dow == 'Sun':\n",
    "        if hour not in su:\n",
    "            su[hour] = 1\n",
    "        else:\n",
    "            su[hour] += 1\n",
    "    elif dow == 'Mon':\n",
    "        if hour not in mo:\n",
    "            mo[hour] = 1\n",
    "        else:\n",
    "            mo[hour] += 1\n",
    "    elif dow == 'Tue':\n",
    "        if hour not in tu:\n",
    "            tu[hour]= 1\n",
    "        else:\n",
    "            tu[hour] += 1\n",
    "    elif dow == 'Wed':\n",
    "        if hour not in we:\n",
    "            we[hour] = 1\n",
    "        else:\n",
    "            we[hour] += 1\n",
    "        \n",
    "    elif dow == 'Thu':\n",
    "        if hour not in th:\n",
    "            th[hour] = 1\n",
    "        else:\n",
    "            th[hour] += 1\n",
    "    elif dow == 'Fri':\n",
    "        if hour not in fr:\n",
    "            fr[hour] = 1\n",
    "        else:\n",
    "            fr[hour] += 1\n",
    "    elif dow == 'Sat':\n",
    "        if hour not in sa:\n",
    "            sa[hour] = 1\n",
    "        else:\n",
    "            sa[hour] += 1\n",
    "\n",
    "\n",
    "print (su)\n"
   ]
  },
  {
   "cell_type": "code",
   "execution_count": 23,
   "metadata": {
    "collapsed": true
   },
   "outputs": [],
   "source": [
    "sun = []\n",
    "for i in su:\n",
    "    avg = su[i]/len(num_dates['Sun'])\n",
    "    sun.append(avg)    \n",
    "mon = []\n",
    "for i in su:\n",
    "    avg = mo[i]/len(num_dates['Mon'])\n",
    "    mon.append(avg)\n",
    "tue = []\n",
    "for i in su:\n",
    "    avg = tu[i]/len(num_dates['Tue'])\n",
    "    tue.append(avg)   \n",
    "wed = []\n",
    "for i in su:\n",
    "    avg = we[i]/len(num_dates['Wed'])\n",
    "    wed.append(avg)\n",
    "thu = []\n",
    "for i in su:\n",
    "    avg = th[i]/len(num_dates['Thu'])\n",
    "    thu.append(avg)\n",
    "fri = []\n",
    "for i in su:\n",
    "    avg = fr[i]/len(num_dates['Fri'])\n",
    "    fri.append(avg)\n",
    "sat = []\n",
    "for i in su:\n",
    "    avg = sa[i]/len(num_dates['Sat'])\n",
    "    sat.append(avg)"
   ]
  },
  {
   "cell_type": "code",
   "execution_count": 26,
   "metadata": {},
   "outputs": [
    {
     "data": {
      "text/html": [
       "<iframe id=\"igraph\" scrolling=\"no\" style=\"border:none;\" seamless=\"seamless\" src=\"https://plot.ly/~jjanelee97/1.embed\" height=\"525px\" width=\"100%\"></iframe>"
      ],
      "text/plain": [
       "<plotly.tools.PlotlyDisplay object>"
      ]
     },
     "execution_count": 26,
     "metadata": {},
     "output_type": "execute_result"
    }
   ],
   "source": [
    "# Add data\n",
    "time_of_day = ['12 AM', '1 AM', ' 2AM', '3 AM', '4 AM', '5 AM', '6 AM',\n",
    "               '7 AM', '8 AM', '9 AM', '10 AM', '11 AM', '12 PM',\n",
    "               '1 PM', '2 PM', '3 PM', '4 PM', '5 PM', '6 PM', '7 PM',\n",
    "               '8 PM', '9 PM', '10 PM', '11 PM']\n",
    "\n",
    "# Create and style traces\n",
    "trace0 = go.Scatter(\n",
    "    x = time_of_day,\n",
    "    y = sun,\n",
    "    name = 'sunday',\n",
    "    line = dict(\n",
    "        color = ('rgb(66, 120, 130)'),\n",
    "        width = 4)\n",
    ")\n",
    "trace1 = go.Scatter(\n",
    "    x = time_of_day,\n",
    "    y = mon,\n",
    "    name = 'monday',\n",
    "    line = dict(\n",
    "        color = ('rgb(205, 12, 24)'),\n",
    "        width = 4)\n",
    ")\n",
    "trace2 = go.Scatter(\n",
    "    x = time_of_day,\n",
    "    y = tue,\n",
    "    name = 'tuesday',\n",
    "    line = dict(\n",
    "        color = ('rgb(200, 10, 167)'),\n",
    "        width = 4)\n",
    ")\n",
    "trace3 = go.Scatter(\n",
    "    x = time_of_day,\n",
    "    y = wed,\n",
    "    name = 'wednesday',\n",
    "    line = dict(\n",
    "        color = ('rgb(149, 120, 240)'),\n",
    "        width = 4) \n",
    ")\n",
    "trace4 = go.Scatter(\n",
    "    x = time_of_day,\n",
    "    y = thu,\n",
    "    name = 'thursday',\n",
    "    line = dict(\n",
    "        color = ('rgb(22, 96, 167)'),\n",
    "        width = 4)\n",
    ")\n",
    "trace5 = go.Scatter(\n",
    "    x = time_of_day,\n",
    "    y = fri,\n",
    "    name = 'friday',\n",
    "    line = dict(\n",
    "        color = ('rgb(255, 120, 24)'),\n",
    "        width = 4)\n",
    ")\n",
    "trace6 = go.Scatter(\n",
    "    x = time_of_day,\n",
    "    y = sat,\n",
    "    name = 'saturday',\n",
    "    line = dict(\n",
    "        color = ('rgb(22, 190, 16)'),\n",
    "        width = 4,\n",
    "        )\n",
    ")\n",
    "data = [trace0, trace1, trace2, trace3, trace4, trace5, trace6]\n",
    "\n",
    "# Edit the layout\n",
    "layout = dict(title = 'Average Rides Per Timeblock on a given Day of Week',\n",
    "              xaxis = dict(title = 'Timeblock'),\n",
    "              yaxis = dict(title = 'Number of Rides (avg)'),\n",
    "              )\n",
    "\n",
    "\n",
    "fig = dict(data=data, layout=layout)\n",
    "py.iplot(fig, filename='styled-line')"
   ]
  },
  {
   "cell_type": "code",
   "execution_count": null,
   "metadata": {
    "collapsed": true
   },
   "outputs": [],
   "source": []
  }
 ],
 "metadata": {
  "kernelspec": {
   "display_name": "Python 3",
   "language": "python",
   "name": "python3"
  },
  "language_info": {
   "codemirror_mode": {
    "name": "ipython",
    "version": 3
   },
   "file_extension": ".py",
   "mimetype": "text/x-python",
   "name": "python",
   "nbconvert_exporter": "python",
   "pygments_lexer": "ipython3",
   "version": "3.6.1"
  }
 },
 "nbformat": 4,
 "nbformat_minor": 2
}
