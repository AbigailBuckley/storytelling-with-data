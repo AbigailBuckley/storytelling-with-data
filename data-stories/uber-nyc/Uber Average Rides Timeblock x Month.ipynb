{
 "cells": [
  {
   "cell_type": "code",
   "execution_count": 24,
   "metadata": {},
   "outputs": [],
   "source": [
    "import pandas as pd\n",
    "from plotly.offline import download_plotlyjs, init_notebook_mode, plot, iplot\n",
    "import numpy as np\n",
    "import matplotlib.pyplot as plt\n",
    "import hypertools as hyp\n",
    "import seaborn as sns\n",
    "import plotly.graph_objs as go\n",
    "%matplotlib inline\n",
    "import plotly \n",
    "plotly.tools.set_credentials_file(username='jjanelee97', api_key='BYKuJO5q20amqPwH5zHw')\n",
    "plotly.tools.set_config_file(sharing='public')\n",
    "plotly.tools.set_config_file(world_readable=True,\n",
    "                             sharing='public')"
   ]
  },
  {
   "cell_type": "code",
   "execution_count": 35,
   "metadata": {},
   "outputs": [
    {
     "name": "stdout",
     "output_type": "stream",
     "text": [
      "          Time      Lat      Lon    Base\n",
      "0  4/1/14 0:11  40.7690 -73.9549  B02512\n",
      "1  4/1/14 0:17  40.7267 -74.0345  B02512\n",
      "2  4/1/14 0:21  40.7316 -73.9873  B02512\n",
      "3  4/1/14 0:28  40.7588 -73.9776  B02512\n",
      "4  4/1/14 0:33  40.7594 -73.9722  B02512\n"
     ]
    }
   ],
   "source": [
    "fname3 = 'uber-trip-data/uber-raw-data-apr14.csv'\n",
    "columns3 = ('Time', 'Lat', 'Lon', 'Base')\n",
    "april_df = pd.read_csv(fname3, skiprows=[0], names=columns3)\n",
    "\n",
    "fname3 = 'uber-trip-data/uber-raw-data-apr14.csv'\n",
    "columns3 = ('Time', 'Lat', 'Lon', 'Driver')\n",
    "april_df = pd.read_csv(fname3, skiprows=[0], names=columns3)\n",
    "\n",
    "fname4 = 'uber-trip-data/uber-raw-data-may14.csv'\n",
    "columns4 = ('Time', 'Lat', 'Lon', 'Driver')\n",
    "may_df = pd.read_csv(fname4, skiprows=[0], names=columns4)\n",
    "\n",
    "fname5 = 'uber-trip-data/uber-raw-data-jun14.csv'\n",
    "columns5 = ('Time', 'Lat', 'Lon', 'Driver')\n",
    "jun_df = pd.read_csv(fname5, skiprows=[0], names=columns5)\n",
    "\n",
    "fname6 = 'uber-trip-data/uber-raw-data-jul14.csv'\n",
    "columns6 = ('Time', 'Lat', 'Lon', 'Driver')\n",
    "jul_df = pd.read_csv(fname6, skiprows=[0], names=columns6)\n",
    "\n",
    "fname7 = 'uber-trip-data/uber-raw-data-aug14.csv'\n",
    "columns7 = ('Time', 'Lat', 'Lon', 'Driver')\n",
    "aug_df = pd.read_csv(fname7, skiprows=[0], names=columns7)\n",
    "\n",
    "fname8 = 'uber-trip-data/uber-raw-data-sep14.csv'\n",
    "columns8 = ('Time', 'Lat', 'Lon', 'Driver')\n",
    "sep_df = pd.read_csv(fname3, skiprows=[0], names=columns8)"
   ]
  },
  {
   "cell_type": "code",
   "execution_count": 31,
   "metadata": {},
   "outputs": [
    {
     "name": "stdout",
     "output_type": "stream",
     "text": [
      "[397.0, 258.97, 164.5, 168.0, 203.17, 315.87, 616.6, 830.8, 761.43, 597.97, 595.5, 625.8, 647.5, 753.43, 906.33, 1177.47, 1400.1, 1515.83, 1433.43, 1297.43, 1208.13, 1232.13, 1021.5, 688.3]\n"
     ]
    }
   ],
   "source": [
    "from datetime import datetime, timedelta\n",
    "\n",
    "timeblocks_april = {}\n",
    "\n",
    "for i in range(0,len(april_df)):\n",
    "    time = april_df.Time[i].strip().split()\n",
    "    hour = time[1].strip().split(':')\n",
    "    if hour[0] not in timeblocks:\n",
    "        timeblocks[hour[0]] = {time[0]: 1}\n",
    "    else:\n",
    "        if time[0] not in timeblocks[hour[0]]:\n",
    "            timeblocks[hour[0]][time[0]] = 1\n",
    "        else:\n",
    "            timeblocks[hour[0]][time[0]] += 1\n",
    "        \n",
    "april = []\n",
    "for i in timeblocks:\n",
    "    total = 0\n",
    "    for j in timeblocks[i]:\n",
    "        total += timeblocks[i][j]\n",
    "    avg = round((total/len(timeblocks[i])), 2)\n",
    "    april.append(avg)\n",
    "\n",
    "print (april)\n"
   ]
  },
  {
   "cell_type": "code",
   "execution_count": 36,
   "metadata": {},
   "outputs": [
    {
     "name": "stdout",
     "output_type": "stream",
     "text": [
      "[447.58, 264.06, 173.29, 191.81, 224.03, 348.03, 677.9, 884.29, 821.29, 661.52, 671.0, 711.45, 761.13, 893.52, 1108.48, 1389.9, 1584.74, 1661.55, 1579.52, 1367.32, 1313.9, 1361.84, 1146.97, 801.16]\n"
     ]
    }
   ],
   "source": [
    "timeblocks_may = {}\n",
    "\n",
    "for i in range(0,len(may_df)):\n",
    "    time = may_df.Time[i].strip().split()\n",
    "    hour = time[1].strip().split(':')\n",
    "    if hour[0] not in timeblocks_may:\n",
    "        timeblocks_may[hour[0]] = {time[0]: 1}\n",
    "    else:\n",
    "        if time[0] not in timeblocks_may[hour[0]]:\n",
    "            timeblocks_may[hour[0]][time[0]] = 1\n",
    "        else:\n",
    "            timeblocks_may[hour[0]][time[0]] += 1\n",
    "            \n",
    "may = []\n",
    "for i in timeblocks_may:\n",
    "    total = 0\n",
    "    for j in timeblocks_may[i]:\n",
    "        total += timeblocks_may[i][j]\n",
    "    avg = round((total/len(timeblocks_may[i])), 2)\n",
    "    may.append(avg)\n",
    "\n",
    "print (may)"
   ]
  },
  {
   "cell_type": "code",
   "execution_count": 47,
   "metadata": {},
   "outputs": [
    {
     "name": "stdout",
     "output_type": "stream",
     "text": [
      "[483.8, 305.57, 206.3, 231.23, 256.7, 398.5, 734.33, 1027.8, 992.37, 809.93, 786.13, 805.17, 841.1, 964.57, 1147.6, 1386.2, 1605.4, 1681.73, 1500.43, 1273.43, 1336.93, 1359.7, 1187.13, 806.07]\n"
     ]
    }
   ],
   "source": [
    "timeblocks_june = {}\n",
    "\n",
    "for i in range(0,len(jun_df)):\n",
    "    time = jun_df.Time[i].strip().split()\n",
    "    hour = time[1].strip().split(':')\n",
    "    if hour[0] not in timeblocks_june:\n",
    "        timeblocks_june[hour[0]] = {time[0]: 1}\n",
    "    else:\n",
    "        if time[0] not in timeblocks_june[hour[0]]:\n",
    "            timeblocks_june[hour[0]][time[0]] = 1\n",
    "        else:\n",
    "            timeblocks_june[hour[0]][time[0]] += 1\n",
    "            \n",
    "june = []\n",
    "for i in timeblocks_june:\n",
    "    total = 0\n",
    "    for j in timeblocks_june[i]:\n",
    "        total += timeblocks_june[i][j]\n",
    "    avg = round((total/len(timeblocks_june[i])), 2)\n",
    "    june.append(avg)\n",
    "\n",
    "print (june)"
   ]
  },
  {
   "cell_type": "code",
   "execution_count": 41,
   "metadata": {},
   "outputs": [
    {
     "name": "stdout",
     "output_type": "stream",
     "text": [
      "[579.13, 371.84, 276.19, 296.74, 323.87, 481.68, 756.65, 1049.84, 1077.0, 918.9, 921.23, 971.61, 996.77, 1155.87, 1334.1, 1485.58, 1690.42, 1879.35, 1847.35, 1688.13, 1672.87, 1597.68, 1361.87, 946.65]\n"
     ]
    }
   ],
   "source": [
    "timeblocks_july = {}\n",
    "\n",
    "for i in range(0,len(jul_df)):\n",
    "    time = jul_df.Time[i].strip().split()\n",
    "    hour = time[1].strip().split(':')\n",
    "    if hour[0] not in timeblocks_july:\n",
    "        timeblocks_july[hour[0]] = {time[0]: 1}\n",
    "    else:\n",
    "        if time[0] not in timeblocks_july[hour[0]]:\n",
    "            timeblocks_july[hour[0]][time[0]] = 1\n",
    "        else:\n",
    "            timeblocks_july[hour[0]][time[0]] += 1\n",
    "            \n",
    "july = []\n",
    "for i in timeblocks_july:\n",
    "    total = 0\n",
    "    for j in timeblocks_july[i]:\n",
    "        total += timeblocks_july[i][j]\n",
    "    avg = round((total/len(timeblocks_july[i])), 2)\n",
    "    july.append(avg)\n",
    "\n",
    "print (july)"
   ]
  },
  {
   "cell_type": "code",
   "execution_count": 42,
   "metadata": {},
   "outputs": [
    {
     "name": "stdout",
     "output_type": "stream",
     "text": [
      "[691.97, 466.81, 325.97, 334.71, 379.81, 533.06, 803.45, 1098.84, 1115.03, 974.03, 990.52, 1025.1, 1035.68, 1153.68, 1311.1, 1554.74, 1725.19, 1842.65, 1786.77, 1709.94, 1666.9, 1656.58, 1484.13, 1084.16]\n"
     ]
    }
   ],
   "source": [
    "timeblocks_aug = {}\n",
    "\n",
    "for i in range(0,len(aug_df)):\n",
    "    time = aug_df.Time[i].strip().split()\n",
    "    hour = time[1].strip().split(':')\n",
    "    if hour[0] not in timeblocks_aug:\n",
    "        timeblocks_aug[hour[0]] = {time[0]: 1}\n",
    "    else:\n",
    "        if time[0] not in timeblocks_aug[hour[0]]:\n",
    "            timeblocks_aug[hour[0]][time[0]] = 1\n",
    "        else:\n",
    "            timeblocks_aug[hour[0]][time[0]] += 1\n",
    "            \n",
    "august = []\n",
    "for i in timeblocks_aug:\n",
    "    total = 0\n",
    "    for j in timeblocks_aug[i]:\n",
    "        total += timeblocks_aug[i][j]\n",
    "    avg = round((total/len(timeblocks_aug[i])), 2)\n",
    "    august.append(avg)\n",
    "\n",
    "print (august)"
   ]
  },
  {
   "cell_type": "code",
   "execution_count": 43,
   "metadata": {},
   "outputs": [
    {
     "name": "stdout",
     "output_type": "stream",
     "text": [
      "[397.0, 258.97, 164.5, 168.0, 203.17, 315.87, 616.6, 830.8, 761.43, 597.97, 595.5, 625.8, 647.5, 753.43, 906.33, 1177.47, 1400.1, 1515.83, 1433.43, 1297.43, 1208.13, 1232.13, 1021.5, 688.3]\n"
     ]
    }
   ],
   "source": [
    "timeblocks_sep = {}\n",
    "\n",
    "for i in range(0,len(sep_df)):\n",
    "    time = sep_df.Time[i].strip().split()\n",
    "    hour = time[1].strip().split(':')\n",
    "    if hour[0] not in timeblocks_sep:\n",
    "        timeblocks_sep[hour[0]] = {time[0]: 1}\n",
    "    else:\n",
    "        if time[0] not in timeblocks_sep[hour[0]]:\n",
    "            timeblocks_sep[hour[0]][time[0]] = 1\n",
    "        else:\n",
    "            timeblocks_sep[hour[0]][time[0]] += 1\n",
    "            \n",
    "september = []\n",
    "for i in timeblocks_sep:\n",
    "    total = 0\n",
    "    for j in timeblocks_sep[i]:\n",
    "        total += timeblocks_sep[i][j]\n",
    "    avg = round((total/len(timeblocks_sep[i])), 2)\n",
    "    september.append(avg)\n",
    "\n",
    "print (september)"
   ]
  },
  {
   "cell_type": "code",
   "execution_count": 49,
   "metadata": {},
   "outputs": [
    {
     "data": {
      "text/html": [
       "<iframe id=\"igraph\" scrolling=\"no\" style=\"border:none;\" seamless=\"seamless\" src=\"https://plot.ly/~jjanelee97/1.embed\" height=\"525px\" width=\"100%\"></iframe>"
      ],
      "text/plain": [
       "<plotly.tools.PlotlyDisplay object>"
      ]
     },
     "execution_count": 49,
     "metadata": {},
     "output_type": "execute_result"
    }
   ],
   "source": [
    "import plotly.plotly as py\n",
    "import plotly.graph_objs as go\n",
    "\n",
    "# Add data\n",
    "time_of_day = ['12 AM', '1 AM', ' 2AM', '3 AM', '4 AM', '5 AM', '6 AM',\n",
    "               '7 AM', '8 AM', '9 AM', '10 AM', '11 AM', '12 PM',\n",
    "               '1 PM', '2 PM', '3 PM', '4 PM', '5 PM', '6 PM', '7 PM',\n",
    "               '8 PM', '9 PM', '10 PM', '11 PM']\n",
    "\n",
    "\n",
    "# Create and style traces\n",
    "trace0 = go.Scatter(\n",
    "    x = time_of_day,\n",
    "    y = april,\n",
    "    name = 'april',\n",
    "    line = dict(\n",
    "        color = ('rgb(205, 12, 24)'),\n",
    "        width = 4)\n",
    ")\n",
    "trace1 = go.Scatter(\n",
    "    x = time_of_day,\n",
    "    y = may,\n",
    "    name = 'may',\n",
    "    line = dict(\n",
    "        color = ('rgb(200, 10, 167)'),\n",
    "        width = 4)\n",
    ")\n",
    "trace2 = go.Scatter(\n",
    "    x = time_of_day,\n",
    "    y = june,\n",
    "    name = 'june',\n",
    "    line = dict(\n",
    "        color = ('rgb(149, 120, 240)'),\n",
    "        width = 4) \n",
    ")\n",
    "trace3 = go.Scatter(\n",
    "    x = time_of_day,\n",
    "    y = july,\n",
    "    name = 'july',\n",
    "    line = dict(\n",
    "        color = ('rgb(22, 96, 167)'),\n",
    "        width = 4)\n",
    ")\n",
    "trace4 = go.Scatter(\n",
    "    x = time_of_day,\n",
    "    y = august,\n",
    "    name = 'august',\n",
    "    line = dict(\n",
    "        color = ('rgb(255, 120, 24)'),\n",
    "        width = 4)\n",
    ")\n",
    "trace5 = go.Scatter(\n",
    "    x = time_of_day,\n",
    "    y = september,\n",
    "    name = 'september',\n",
    "    line = dict(\n",
    "        color = ('rgb(22, 190, 16)'),\n",
    "        width = 4,\n",
    "        dash = 'dot')\n",
    ")\n",
    "data = [trace0, trace1, trace2, trace3, trace4, trace5]\n",
    "\n",
    "# Edit the layout\n",
    "layout = dict(title = 'Average Rides Per Timeblock on a given Month',\n",
    "              xaxis = dict(title = 'Timeblock'),\n",
    "              yaxis = dict(title = 'Number of Rides (avg)'),\n",
    "              )\n",
    "\n",
    "\n",
    "fig = dict(data=data, layout=layout)\n",
    "py.iplot(fig, filename='styled-line')"
   ]
  },
  {
   "cell_type": "code",
   "execution_count": null,
   "metadata": {
    "collapsed": true
   },
   "outputs": [],
   "source": []
  }
 ],
 "metadata": {
  "kernelspec": {
   "display_name": "Python 3",
   "language": "python",
   "name": "python3"
  },
  "language_info": {
   "codemirror_mode": {
    "name": "ipython",
    "version": 3
   },
   "file_extension": ".py",
   "mimetype": "text/x-python",
   "name": "python",
   "nbconvert_exporter": "python",
   "pygments_lexer": "ipython3",
   "version": "3.6.1"
  }
 },
 "nbformat": 4,
 "nbformat_minor": 2
}
