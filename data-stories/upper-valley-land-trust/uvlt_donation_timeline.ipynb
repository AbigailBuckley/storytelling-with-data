{
 "cells": [
  {
   "cell_type": "code",
   "execution_count": null,
   "metadata": {},
   "outputs": [
    {
     "name": "stderr",
     "output_type": "stream",
     "text": [
      "/optnfs/el7/jupyterhub/envs/Psych81.09/lib/python3.6/site-packages/hypertools/plot/__init__.py:10: UserWarning: Could not switch backend to TkAgg.  This may impact performance of the plotting functions.\n",
      "  warnings.warn('Could not switch backend to TkAgg.  This may impact performance of the plotting functions.')\n"
     ]
    }
   ],
   "source": [
    "import warnings\n",
    "import pandas as pd\n",
    "import numpy as np\n",
    "import seaborn as sns\n",
    "import matplotlib.pyplot as plt\n",
    "import hypertools as hyp\n",
    "from glob import glob as lsdir\n",
    "import os\n",
    "import re\n",
    "import datetime as dt\n",
    "import plotly_express as px\n",
    "\n",
    "from sklearn import linear_model\n",
    "from sklearn.neural_network import MLPRegressor\n",
    "from sklearn.model_selection import train_test_split\n",
    "\n",
    "%matplotlib inline"
   ]
  },
  {
   "cell_type": "markdown",
   "metadata": {},
   "source": [
    "# Read in data"
   ]
  },
  {
   "cell_type": "code",
   "execution_count": null,
   "metadata": {},
   "outputs": [],
   "source": [
    "fname = 'data/UVLTDataAnalysis.xls'\n",
    "data = pd.read_excel(fname)"
   ]
  },
  {
   "cell_type": "markdown",
   "metadata": {},
   "source": [
    "## Examining the raw data"
   ]
  },
  {
   "cell_type": "code",
   "execution_count": null,
   "metadata": {},
   "outputs": [],
   "source": [
    "data.head()"
   ]
  },
  {
   "cell_type": "code",
   "execution_count": null,
   "metadata": {},
   "outputs": [],
   "source": [
    "data.columns.values"
   ]
  },
  {
   "cell_type": "markdown",
   "metadata": {},
   "source": [
    "## How much data are we working with?"
   ]
  },
  {
   "cell_type": "code",
   "execution_count": null,
   "metadata": {},
   "outputs": [],
   "source": [
    "data.shape"
   ]
  },
  {
   "cell_type": "markdown",
   "metadata": {},
   "source": [
    "# Donation timeline analysis\n",
    "\n",
    "Leading up to a donation, what sorts of patterns do we see?  For example, conditioned on donating in the current year, how much did people give in previous years?\n",
    "\n",
    "Things to explore:\n",
    "- Any donation amount vs. weighting bigger donations more vs. splitting into donation \"quartiles\"\n",
    "- Looking at (U)nrestricted, (R)estricted, (V)olounteer, and (E)vent attendance \"donations\"\n",
    "- Look to see whether the distributions are (roughly) unimodal or multi-modal\n",
    "- Possibly break this down by geographic area"
   ]
  },
  {
   "cell_type": "markdown",
   "metadata": {},
   "source": [
    "# Data wrangling\n",
    "\n",
    "We will form these predictions using the following information from `data/UVLTDataAnalysis.xls`:\n",
    "- Past history of unrestricted donations, restricted donations, volunteering, and event attendance for all years prior to the \"current\" year (we'll generate these histories for each year we have data for)\n",
    "- Whether or not the person owns conserved land.  Assumption: land ownership did not change over the indicated period.\n",
    "- Where the person's conserved land is located (if applicable). Assumption: land ownership did not change over the indicated period.\n",
    "- Whether the person is still alive."
   ]
  },
  {
   "cell_type": "code",
   "execution_count": null,
   "metadata": {},
   "outputs": [],
   "source": [
    "years = np.arange(2001, 2021) #years to include in analysis\n",
    "def get_start_year(x):\n",
    "    try:\n",
    "        return int(re.search('-\\d{4}-', x).group()[1:-1])\n",
    "    except:\n",
    "        return np.nan #no year found\n",
    "\n",
    "def get_deceased_year(x, maxyear=np.inf):\n",
    "    if type(x) == pd._libs.tslib.Timestamp:\n",
    "        y = x.year\n",
    "    elif np.isscalar(x):\n",
    "        try:\n",
    "            y = int(x)\n",
    "        except:\n",
    "            return np.nan\n",
    "        \n",
    "    try:\n",
    "        if y < maxyear:\n",
    "            return y\n",
    "        else:            \n",
    "            return np.nan\n",
    "    except:        \n",
    "        return np.nan #not a timestamp"
   ]
  },
  {
   "cell_type": "code",
   "execution_count": null,
   "metadata": {},
   "outputs": [],
   "source": [
    "#preprocessing\n",
    "x = data.copy()\n",
    "x.set_index('ContactID', inplace=True)\n",
    "x.drop(['FirstName', 'LastName', 'City', 'TownID', 'Town', 'DeceasedDateYN'], axis=1, inplace=True)\n",
    "x.drop(data.columns.values[np.where(np.array(['Tot' in x for x in data.columns.values]))[0]], axis=1, inplace=True)\n",
    "x['DeceasedDate'] = x['DeceasedDate'].apply(get_deceased_year)"
   ]
  },
  {
   "cell_type": "code",
   "execution_count": null,
   "metadata": {},
   "outputs": [],
   "source": [
    "x.head()"
   ]
  },
  {
   "cell_type": "markdown",
   "metadata": {},
   "source": [
    "## \"Donation triggered average\"\n",
    "\n",
    "Conditioned on having donated in a given year, what does the historical data leading up to the current year look like?  Idea:\n",
    "\n",
    "- For each year:\n",
    "  - Split data into current year (\"current\") and data prior to the current year (\"historical\")\n",
    "  - Adjust deceased date according to whether it would have been known (or not) in the current year"
   ]
  },
  {
   "cell_type": "code",
   "execution_count": null,
   "metadata": {},
   "outputs": [],
   "source": [
    "def get_current_and_historical_data(df, year):\n",
    "    #historical data\n",
    "    x = df[['State', 'ZipCode', 'LandOwnerTownID', 'DeceasedDate']].copy()\n",
    "    x['DeceasedDate'] = x['DeceasedDate'].apply(lambda i: get_deceased_year(i, maxyear=year)) #remove all deaths before the given year    \n",
    "    \n",
    "    inds = np.array(list(map(get_start_year, df.columns.values))) < year\n",
    "    x[df.columns.values[inds]] = df.iloc[:, inds]\n",
    "    \n",
    "    #current year\n",
    "    inds = np.array(list(map(get_start_year, df.columns.values))) == year\n",
    "    y = df[df.columns.values[inds]].copy()\n",
    "    \n",
    "    return x, y"
   ]
  },
  {
   "cell_type": "code",
   "execution_count": null,
   "metadata": {},
   "outputs": [],
   "source": [
    "historical, current = get_current_and_historical_data(x, 2010)"
   ]
  },
  {
   "cell_type": "code",
   "execution_count": null,
   "metadata": {},
   "outputs": [],
   "source": [
    "historical.head()"
   ]
  },
  {
   "cell_type": "code",
   "execution_count": null,
   "metadata": {},
   "outputs": [],
   "source": [
    "current.head()"
   ]
  },
  {
   "cell_type": "markdown",
   "metadata": {},
   "source": [
    "### Formatting data to facilitate donation-triggered averaging\n",
    "\n",
    "We'll create a dataframe where each contactID is repeated nyears-1 times.  The `U*`, `R*`, `V*`, and `E*` columns should be renamed to `U-10`, `U-9`, etc. indicated the number of years *prior* to the prediction year (everything before the earliest year with data should be set to nans).  Also include `U`, `R`, `V`, and `E` columns indicating the values of those columns on the prediction year."
   ]
  },
  {
   "cell_type": "code",
   "execution_count": null,
   "metadata": {},
   "outputs": [],
   "source": [
    "def to_relative_years(df):\n",
    "    years = np.array(list(map(get_start_year, df.columns.values)))\n",
    "    maxyear = np.nanmax(years)\n",
    "    minyear = np.nanmin(years)\n",
    "    \n",
    "    mapper = {}\n",
    "    df = df.copy()\n",
    "    if minyear == maxyear: #only one year; drop all years\n",
    "        for c in df.columns.values[~np.isnan(years)]:\n",
    "            mapper[c] = c[:-8]        \n",
    "    else:\n",
    "        for i, y in enumerate(years):\n",
    "            if not np.isnan(y):\n",
    "                c = df.columns.values[i]\n",
    "                mapper[c] = c[:-7] + str(int(maxyear - y + 1))\n",
    "    \n",
    "    df.rename(mapper, inplace=True, axis=1)\n",
    "    return df"
   ]
  },
  {
   "cell_type": "code",
   "execution_count": null,
   "metadata": {},
   "outputs": [],
   "source": [
    "columns = ['State', 'ZipCode', 'LandOwnerTownID', 'DeceasedDate']\n",
    "categories = ['U', 'R', 'V', 'E']\n",
    "for c in categories:\n",
    "    columns.extend(list(map(lambda x: f'{c}-{x}', np.arange(len(years), 0, -1))))\n",
    "columns.extend(categories)"
   ]
  },
  {
   "cell_type": "code",
   "execution_count": null,
   "metadata": {},
   "outputs": [],
   "source": [
    "df = pd.DataFrame(index=['ContactID'], columns=columns, data=[])"
   ]
  },
  {
   "cell_type": "code",
   "execution_count": null,
   "metadata": {},
   "outputs": [],
   "source": [
    "for y in years[1:-1]: #skip the first year (no history) and last year (no future data)\n",
    "    next_historical, next_current = get_current_and_historical_data(x, y)\n",
    "    next_merged = pd.concat([to_relative_years(next_historical), to_relative_years(next_current)], axis=1)\n",
    "    df = pd.concat([df, next_merged], axis=0, copy=True)"
   ]
  },
  {
   "cell_type": "code",
   "execution_count": null,
   "metadata": {},
   "outputs": [],
   "source": [
    "#re-order columns\n",
    "df = df[columns]\n",
    "\n",
    "#drop nans in first row\n",
    "df.drop(index=['ContactID'], inplace=True)\n",
    "\n",
    "#rename index \n",
    "df.index.names = ['ContactID']"
   ]
  },
  {
   "cell_type": "code",
   "execution_count": null,
   "metadata": {},
   "outputs": [],
   "source": [
    "df.head()"
   ]
  },
  {
   "cell_type": "code",
   "execution_count": null,
   "metadata": {},
   "outputs": [],
   "source": [
    "df[df.columns.values[['U-' in x for x in df.columns.values]]].head()"
   ]
  },
  {
   "cell_type": "code",
   "execution_count": null,
   "metadata": {},
   "outputs": [],
   "source": [
    "# plot the weighted average donation history (of each type),\n",
    "# conditioned on having given a U, R, V, or E donation in the current year\n",
    "ignore_columns = ['State', 'ZipCode', 'LandOwnerTownID', 'DeceasedDate']\n",
    "donation_types = ['U', 'R', 'V', 'E']\n",
    "\n",
    "def weighted_average(x, weights):\n",
    "    warnings.simplefilter('ignore')\n",
    "    x = np.array(x, dtype=np.float)\n",
    "    weights = np.array(weights, dtype=np.float)\n",
    "    \n",
    "    weighted_vals = np.multiply(x, weights)\n",
    "    return np.divide(np.nansum(weighted_vals), np.sum(weights[~np.isnan(weighted_vals)]))\n",
    "\n",
    "def donation_triggered_average(data, ignore_columns, donation_types, summary_fun=weighted_average):\n",
    "    x = []\n",
    "    columns = data.columns.values[np.where([(not x in ignore_columns) for x in data.columns.values])[0]][:-4]\n",
    "    \n",
    "    for d in donation_types:        \n",
    "        donation_columns = columns[[f'{d}-' in x for x in columns]]\n",
    "        next_df = pd.DataFrame(index=donation_types, columns=donation_columns, data=[])  \n",
    "        for i in donation_types:            \n",
    "            next_df.loc[i, :] = data[next_df.columns].apply(lambda x: summary_fun(x, data[i]))        \n",
    "        x.append(next_df)\n",
    "    return x"
   ]
  },
  {
   "cell_type": "code",
   "execution_count": null,
   "metadata": {},
   "outputs": [],
   "source": [
    "dta = donation_triggered_average(df, ignore_columns, donation_types)"
   ]
  },
  {
   "cell_type": "code",
   "execution_count": null,
   "metadata": {},
   "outputs": [],
   "source": [
    "units = ['\\$', '\\$', 'hrs', 'count']\n",
    "for i, d1 in enumerate(donation_types): #plot ID-- what is being plotted leading up to moment of donation\n",
    "    for j, d2 in enumerate(donation_types): #plot a line for each type of donation being predicted\n",
    "        plt.plot(-(years[-1] - years), dta[i].loc[d2, :].values)\n",
    "        plt.xlabel('Years relative to donation')\n",
    "        plt.ylabel(f'Donation amount ({units[i]})')\n",
    "        plt.title(f'{d1} donations')\n",
    "    if i == 0:\n",
    "        plt.legend([f'Predicting {x}' for x in donation_types])\n",
    "    plt.show()"
   ]
  },
  {
   "cell_type": "code",
   "execution_count": null,
   "metadata": {},
   "outputs": [],
   "source": []
  }
 ],
 "metadata": {
  "kernelspec": {
   "display_name": "Psych 81.09",
   "language": "python",
   "name": "psych81.09"
  },
  "language_info": {
   "codemirror_mode": {
    "name": "ipython",
    "version": 3
   },
   "file_extension": ".py",
   "mimetype": "text/x-python",
   "name": "python",
   "nbconvert_exporter": "python",
   "pygments_lexer": "ipython3",
   "version": "3.6.8"
  }
 },
 "nbformat": 4,
 "nbformat_minor": 2
}
