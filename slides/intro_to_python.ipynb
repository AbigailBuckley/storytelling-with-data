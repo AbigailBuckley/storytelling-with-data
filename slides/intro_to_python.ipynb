{
 "cells": [
  {
   "cell_type": "markdown",
   "metadata": {},
   "source": [
    "# Overview\n",
    "\n",
    "This notebook provides a very high level overview of what it means to \"write a computer program,\" and some specific examples of how to write a program in Python.  If you are already familiar with Python and Jupyter notebooks, you might be interested in [this video](https://youtu.be/Gin8_AITmS0) summarizing some tips and tricks for writing good, clean, effective code.\n",
    "\n",
    "# What's a Jupyter notebook?\n",
    "For a more complete answer, check out [this video](https://youtu.be/CSkTJRNBTME).  The short answer is that a Jupyter notebook is an interactive tool that allows you to take notes, execute code, create figures, and easily share it all with other people.  Jupyter notebooks comprise a series of _cells_.  Each cell (looks like a rectangular block of text) in a notebook contains one of two basic categories of content:\n",
    "  1. **Markdown cells** (like the current cell) contain formatted text in the [Markdown text formatting language](https://www.markdowntutorial.com/).  You can use these cells kind of like the code underlying text you'd write in a word processor.  What you type is what eventually appears on the screen.  For the most part, text in Markdown cells gets \"rendered\" (i.e. drawn on the screen) just as you write it.  However, you can also specify various formatting tweaks, like creating _italicized_ or **bolded** text, etc.  [This tutorial](https://www.markdowntutorial.com/) provides a quick and gentle interactive introduction to Markdown.  You can create a new Markdown cell by pressing the \"+\" button in the toolbar and selecting \"Markdown\" from the dropdown list in the toolbar.\n",
    "  2. **Code cells** (like the next cell) contains computer code. A computer is like a fancy calculator; computer code is a set of instructions that tells the computer which things to do (and in which order).  You can create a new Code cell by pressing the \"+\" button in the toolbar and selecting \"Code\" from the dropdown list in the toolbar.\n",
    "  \n",
    "The text you type into a new notebook cell is a set of instructions that tell the notebook what to do when the cell is _run_ (i.e., transformed from a set of instructions into an executed set of actions).  To run a cell, hold the `shift` key and press `enter/return`.\n",
    "  - When you run a Markdown cell, the text is rendered with the formatting options you specify.  To see and/or edit the underlying code, simply double click on the rendered text.\n",
    "  - When you run a Code cell, the Python instructions you type in are run.  We'll explore what this means below."
   ]
  },
  {
   "cell_type": "markdown",
   "metadata": {},
   "source": [
    "# Using Python like a calculator\n",
    "\n",
    "One way to think about Python is like a calculator.  For example, you can type in an equation, and when you \"run\" that line of code the answer is printed to the console window.  Play around with the examples below to explore."
   ]
  },
  {
   "cell_type": "code",
   "execution_count": 5,
   "metadata": {},
   "outputs": [
    {
     "data": {
      "text/plain": [
       "2"
      ]
     },
     "execution_count": 5,
     "metadata": {},
     "output_type": "execute_result"
    }
   ],
   "source": [
    "1 + 1"
   ]
  },
  {
   "cell_type": "code",
   "execution_count": 6,
   "metadata": {},
   "outputs": [
    {
     "data": {
      "text/plain": [
       "15"
      ]
     },
     "execution_count": 6,
     "metadata": {},
     "output_type": "execute_result"
    }
   ],
   "source": [
    "3 * (4 + 1)"
   ]
  },
  {
   "cell_type": "markdown",
   "metadata": {},
   "source": [
    "# Variables\n",
    "A _variable_ is a named object-- i.e. a thing that Python knows has a particular value.  It's often useful to write code that incorporates named variables wherever possible (rather than hard-coding in specific numerical values).  This way of abstracting way the specific values from the set of operations you want to perform on those values allows you to use the same line of code to perform different functions.\n",
    "\n",
    "To define a variable, you use the _assignment_ operator, `=`.  The name of your variable goes on the left side of the assignment operator, and the value you want to assign to that variable goes on the right side.  Play around with the example below to see how it works.  For example, change the values of `x` and `y` and see how the answers change."
   ]
  },
  {
   "cell_type": "code",
   "execution_count": 7,
   "metadata": {},
   "outputs": [
    {
     "data": {
      "text/plain": [
       "7"
      ]
     },
     "execution_count": 7,
     "metadata": {},
     "output_type": "execute_result"
    }
   ],
   "source": [
    "x = 3\n",
    "y = 4\n",
    "x + y"
   ]
  },
  {
   "cell_type": "markdown",
   "metadata": {},
   "source": [
    "# Operators\n",
    "\n",
    "In addition to the assignment operator (`=`), you have already been using several other operators in the code above:\n",
    "  - the addition operator (`+`)\n",
    "  - the multiplication operator (`*`)\n",
    "\n",
    "There are a number of other useful operators:\n",
    "  - the power operator (`**`) raises the value of the first thing to the power of the second thing\n",
    "  - the subtraction operator (`-`)\n",
    "  - the division operator (`/`)\n",
    "  \n",
    "## Logical operators\n",
    "\n",
    "We will find that it is often useful to know if a particular set of circumstances is true at a particular point in the course of running our computer program.  For example, maybe we would want to run a particular set of calculations in one scenario but a different set of calculations in another scenario.  _Logical_ operators are operators that work only on _Boolean_ variables-- i.e. variables that take on special values, `True` (or 1) and `False` (or 0).  Logical operators always yield either `True` or `False`:\n",
    "  - `or`: `a or b` is `True` if _either_ `a` is `True` _or_ if `b` is `True`, and `False` otherwise.\n",
    "  - `and`: `a and b` is `True` if both `a` is `True` _and_ `b` is `True`, and is `False` otherwise.\n",
    "  - `not`: `not a` is `True` if `a` is `False`, and is `False` if `a` is `True`.\n",
    "  \n",
    "## Equality operator\n",
    "Sometimes we want to know whether a particular variable has a specific value.  To do this, we use the _equality operator_, `==`:\n",
    "  - `a == b` is `True` if `a` has the same value as `b`, and is `False` otherwise."
   ]
  },
  {
   "cell_type": "markdown",
   "metadata": {},
   "source": [
    "# Comments and `print` statements\n",
    "Sometimes it's useful to write little notes to yourself (and other people who might want to read your code) to keep track of what the different parts of your code do.  There are two ways to add notes to your code:\n",
    "- You can create an \"inline comment\" by adding a '#' followed by the text of your comment.  \n",
    "- You can create a \"block comment\" by adding a set of triple quotes, followed by one or more lines of text, and then followed by a second set of of triple quotes.  You can use single quotes (') or double quotes (\") to denote a block comment, as long as you start and end your block comment with the same type of quote. \n",
    "\n",
    "The Python interpreter (i.e. the computing engine that turns your computer code into executed instructions) ignores all comments when it is running your code.\n",
    "\n",
    "You can also tell the interpreter to print out the value of something by using the `print` function, as illustrated below."
   ]
  },
  {
   "cell_type": "code",
   "execution_count": 10,
   "metadata": {},
   "outputs": [
    {
     "name": "stdout",
     "output_type": "stream",
     "text": [
      "113.09733552924\n",
      "201.06192982976\n"
     ]
    }
   ],
   "source": [
    "pi = 3.14159265359 #ratio of a circle's circumference to its diameter\n",
    "\n",
    "r1 = 6 #radius of circle 1\n",
    "r2 = 8 #radius of circle 2\n",
    "\n",
    "area1 = pi * r1 ** 2 #the ** operator means \"raise the value on the left to the power of the value of the thing on the right\".  Notice how order of operations comes into effect.\n",
    "area2 = pi * r2 ** 2\n",
    "\n",
    "print(area1)\n",
    "print(area2)"
   ]
  },
  {
   "cell_type": "markdown",
   "metadata": {},
   "source": [
    "# `if` statements\n",
    "\n",
    "Python contains a number of _keywords_ that allow you to control the flow of instructions that the computer executes.  One of the main keywords is the `if` statement.  It runs one or more lines of code only _if_ the quantity being evaluated is `True`:"
   ]
  },
  {
   "cell_type": "code",
   "execution_count": 15,
   "metadata": {},
   "outputs": [],
   "source": [
    "x = 3\n",
    "if x == 3: #notice the colon\n",
    "    print('Run this line') #all lines in the body of the if statement are indented"
   ]
  },
  {
   "cell_type": "markdown",
   "metadata": {},
   "source": [
    "# `elif` and `else` statements\n",
    "Whereas the body (indented part) of an `if` statement will simply be skipped if the evaluated function passed to an `if` statement is `False`, you can also specify what to do under other possible circumstances:\n",
    "  - The `elif` statement comes right after an `if` statement.  It allows you to specify an alternative set of conditions.  You can use multiple `elif` statements in sequence; once any of them evaluate to `True` the body of that statement is run and the sequence is aborted (no other `elif` statements are tested).\n",
    "  - The `else` keyword comes after an `if` statement and (optionally) one or more `elif` statments.  The body of an `else` statement runs only if none of the preceeding `if` or `elif` statements ran."
   ]
  },
  {
   "cell_type": "code",
   "execution_count": 22,
   "metadata": {},
   "outputs": [
    {
     "name": "stdout",
     "output_type": "stream",
     "text": [
      "You are the course instructor.\n"
     ]
    }
   ],
   "source": [
    "my_name = 'Jeremy Manning'\n",
    "if my_name == 'Jeremy Manning':\n",
    "    print('You are the course instructor.')\n",
    "elif my_name == 'Phil Hanlon':\n",
    "    print('You are the current President of Dartmouth College.')\n",
    "elif my_name == 'Marie Curie':\n",
    "    print('You won two Nobel Prizes.  Also, you are dead.')\n",
    "else:\n",
    "    print('I don\\'t know you-- nice to meet you!') #note the \"escape character\" before the single quote"
   ]
  },
  {
   "cell_type": "markdown",
   "metadata": {},
   "source": [
    "# "
   ]
  }
 ],
 "metadata": {
  "kernelspec": {
   "display_name": "Psych 81.09",
   "language": "python",
   "name": "psych81.09"
  },
  "language_info": {
   "codemirror_mode": {
    "name": "ipython",
    "version": 3
   },
   "file_extension": ".py",
   "mimetype": "text/x-python",
   "name": "python",
   "nbconvert_exporter": "python",
   "pygments_lexer": "ipython3",
   "version": "3.6.8"
  }
 },
 "nbformat": 4,
 "nbformat_minor": 2
}
